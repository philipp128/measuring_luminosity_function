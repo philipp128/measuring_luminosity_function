{
 "cells": [
  {
   "cell_type": "markdown",
   "metadata": {},
   "source": [
    "# COSMOS Catalogue\n",
    "\n",
    "In this notebook, I create a processed catalogue from the COSMOS 2020 catalogue downloaded from https://cosmos2020.calet.org/catalogues/.\n",
    "\n",
    "The steps are based on the explanation in the official notebook at https://github.com/cosmic-dawn/cosmos2020-readcat/blob/main/COSMOS2020_readcat.ipynb.\n",
    "\n",
    "More information can be found in the Catalogue Paper https://iopscience.iop.org/article/10.3847/1538-4365/ac3078/pdf or in the summary https://cosmos2020.calet.org/catalogues/COSMOS2020-ESOP3-24.6.22.pdf."
   ]
  },
  {
   "cell_type": "code",
   "execution_count": 1,
   "metadata": {},
   "outputs": [
    {
     "name": "stderr",
     "output_type": "stream",
     "text": [
      "/Applications/anaconda3/lib/python3.7/site-packages/sklearn/linear_model/least_angle.py:30: DeprecationWarning: `np.float` is a deprecated alias for the builtin `float`. To silence this warning, use `float` by itself. Doing this will not modify any behavior and is safe. If you specifically wanted the numpy scalar type, use `np.float64` here.\n",
      "Deprecated in NumPy 1.20; for more details and guidance: https://numpy.org/devdocs/release/1.20.0-notes.html#deprecations\n",
      "  method='lar', copy_X=True, eps=np.finfo(np.float).eps,\n",
      "/Applications/anaconda3/lib/python3.7/site-packages/sklearn/linear_model/least_angle.py:167: DeprecationWarning: `np.float` is a deprecated alias for the builtin `float`. To silence this warning, use `float` by itself. Doing this will not modify any behavior and is safe. If you specifically wanted the numpy scalar type, use `np.float64` here.\n",
      "Deprecated in NumPy 1.20; for more details and guidance: https://numpy.org/devdocs/release/1.20.0-notes.html#deprecations\n",
      "  method='lar', copy_X=True, eps=np.finfo(np.float).eps,\n",
      "/Applications/anaconda3/lib/python3.7/site-packages/sklearn/linear_model/least_angle.py:284: DeprecationWarning: `np.float` is a deprecated alias for the builtin `float`. To silence this warning, use `float` by itself. Doing this will not modify any behavior and is safe. If you specifically wanted the numpy scalar type, use `np.float64` here.\n",
      "Deprecated in NumPy 1.20; for more details and guidance: https://numpy.org/devdocs/release/1.20.0-notes.html#deprecations\n",
      "  eps=np.finfo(np.float).eps, copy_Gram=True, verbose=0,\n",
      "/Applications/anaconda3/lib/python3.7/site-packages/sklearn/linear_model/least_angle.py:862: DeprecationWarning: `np.float` is a deprecated alias for the builtin `float`. To silence this warning, use `float` by itself. Doing this will not modify any behavior and is safe. If you specifically wanted the numpy scalar type, use `np.float64` here.\n",
      "Deprecated in NumPy 1.20; for more details and guidance: https://numpy.org/devdocs/release/1.20.0-notes.html#deprecations\n",
      "  eps=np.finfo(np.float).eps, copy_X=True, fit_path=True,\n",
      "/Applications/anaconda3/lib/python3.7/site-packages/sklearn/linear_model/least_angle.py:1101: DeprecationWarning: `np.float` is a deprecated alias for the builtin `float`. To silence this warning, use `float` by itself. Doing this will not modify any behavior and is safe. If you specifically wanted the numpy scalar type, use `np.float64` here.\n",
      "Deprecated in NumPy 1.20; for more details and guidance: https://numpy.org/devdocs/release/1.20.0-notes.html#deprecations\n",
      "  eps=np.finfo(np.float).eps, copy_X=True, fit_path=True,\n",
      "/Applications/anaconda3/lib/python3.7/site-packages/sklearn/linear_model/least_angle.py:1127: DeprecationWarning: `np.float` is a deprecated alias for the builtin `float`. To silence this warning, use `float` by itself. Doing this will not modify any behavior and is safe. If you specifically wanted the numpy scalar type, use `np.float64` here.\n",
      "Deprecated in NumPy 1.20; for more details and guidance: https://numpy.org/devdocs/release/1.20.0-notes.html#deprecations\n",
      "  eps=np.finfo(np.float).eps, positive=False):\n",
      "/Applications/anaconda3/lib/python3.7/site-packages/sklearn/linear_model/least_angle.py:1362: DeprecationWarning: `np.float` is a deprecated alias for the builtin `float`. To silence this warning, use `float` by itself. Doing this will not modify any behavior and is safe. If you specifically wanted the numpy scalar type, use `np.float64` here.\n",
      "Deprecated in NumPy 1.20; for more details and guidance: https://numpy.org/devdocs/release/1.20.0-notes.html#deprecations\n",
      "  max_n_alphas=1000, n_jobs=None, eps=np.finfo(np.float).eps,\n",
      "/Applications/anaconda3/lib/python3.7/site-packages/sklearn/linear_model/least_angle.py:1602: DeprecationWarning: `np.float` is a deprecated alias for the builtin `float`. To silence this warning, use `float` by itself. Doing this will not modify any behavior and is safe. If you specifically wanted the numpy scalar type, use `np.float64` here.\n",
      "Deprecated in NumPy 1.20; for more details and guidance: https://numpy.org/devdocs/release/1.20.0-notes.html#deprecations\n",
      "  max_n_alphas=1000, n_jobs=None, eps=np.finfo(np.float).eps,\n",
      "/Applications/anaconda3/lib/python3.7/site-packages/sklearn/linear_model/least_angle.py:1738: DeprecationWarning: `np.float` is a deprecated alias for the builtin `float`. To silence this warning, use `float` by itself. Doing this will not modify any behavior and is safe. If you specifically wanted the numpy scalar type, use `np.float64` here.\n",
      "Deprecated in NumPy 1.20; for more details and guidance: https://numpy.org/devdocs/release/1.20.0-notes.html#deprecations\n",
      "  eps=np.finfo(np.float).eps, copy_X=True, positive=False):\n",
      "/Applications/anaconda3/lib/python3.7/site-packages/sklearn/decomposition/online_lda.py:29: DeprecationWarning: `np.float` is a deprecated alias for the builtin `float`. To silence this warning, use `float` by itself. Doing this will not modify any behavior and is safe. If you specifically wanted the numpy scalar type, use `np.float64` here.\n",
      "Deprecated in NumPy 1.20; for more details and guidance: https://numpy.org/devdocs/release/1.20.0-notes.html#deprecations\n",
      "  EPS = np.finfo(np.float).eps\n"
     ]
    }
   ],
   "source": [
    "%matplotlib inline \n",
    "import numpy as np \n",
    "from matplotlib import pyplot as plt \n",
    "import h5py # used in the Data Visualization section \n",
    "\n",
    "from astropy.io import fits,ascii,votable\n",
    "from astropy import units as u \n",
    "from astropy import constants as const\n",
    "from astropy import table\n",
    "from astropy.cosmology import Planck15,FlatLambdaCDM\n",
    "\n",
    "# For ML application\n",
    "from sklearn.cluster import KMeans\n",
    "from sklearn import mixture\n",
    "from itertools import combinations\n",
    "\n"
   ]
  },
  {
   "cell_type": "code",
   "execution_count": 2,
   "metadata": {},
   "outputs": [],
   "source": [
    "# Specify the version of the catalog and the folder with the input/output files\n",
    "catversion = 'Classic'  # this string can be either 'Classic' or 'Farmer'\n",
    "dir_in = '/Users/philipp/Documents/PhD/Data/'  \n",
    "dir_out = '/Users/philipp/Documents/PhD/Data/'  # the directory where the output of this notebook will be stored"
   ]
  },
  {
   "cell_type": "code",
   "execution_count": 3,
   "metadata": {},
   "outputs": [],
   "source": [
    "# Chose the SED fitting code: \n",
    "# set to 'lp' for LePhare results or\n",
    "# set to 'ez' for EAZY\n",
    "fitversion = 'ez'"
   ]
  },
  {
   "cell_type": "code",
   "execution_count": 4,
   "metadata": {},
   "outputs": [],
   "source": [
    "# Which type of photometric estimates to use? (suffix of the column name)\n",
    "# This choice must be consistent with `catversion`,\n",
    "# choices for Classic are: '_FLUX_APER2', '_FLUX_APER3', '_MAG_APER2,', '_MAG_APER3'\n",
    "# choices for Farmer are '_FLUX' or '_MAG' \n",
    "flx = '_FLUX_APER3'  \n",
    "flxerr = '_FLUXERR_APER3'# catalog column for flux/mag error, just add 'ERR'\n",
    "mg = '_MAG_APER3'\n",
    "mgerr = '_MAGERR_APER3'\n",
    "# flx = '_FLUX'  \n",
    "# flxerr = '_FLUXERR'# catalog column for flux/mag error, just add 'ERR'\n",
    "# mg = '_MAG'\n",
    "# mgerr = '_MAGERR'\n",
    "outflx = 'cgs' # 'cgs' or 'uJy'"
   ]
  },
  {
   "cell_type": "code",
   "execution_count": 5,
   "metadata": {},
   "outputs": [],
   "source": [
    "# Filter names, mean wavelength, and other info (see Table 1 in W+21)\n",
    "filt_name = ['GALEX_FUV', 'GALEX_NUV','CFHT_u','CFHT_ustar','HSC_g', 'HSC_r', 'HSC_i', 'HSC_z', 'HSC_y', \n",
    "             'UVISTA_Y', 'UVISTA_J', 'UVISTA_H', 'UVISTA_Ks', 'SC_IB427', 'SC_IB464', 'SC_IA484', 'SC_IB505', \n",
    "             'SC_IA527', 'SC_IB574', 'SC_IA624', 'SC_IA679', 'SC_IB709', 'SC_IA738', 'SC_IA767', 'SC_IB827', \n",
    "             'SC_NB711', 'SC_NB816', 'UVISTA_NB118', 'SC_B', 'SC_gp', 'SC_V', 'SC_rp', 'SC_ip','SC_zp', 'SC_zpp', \n",
    "             'IRAC_CH1', 'IRAC_CH2', 'IRAC_CH3','IRAC_CH4']  \n",
    "filt_lambda = [0.1526,0.2307,0.3709,0.3858,0.4847,0.6219,0.7699,0.8894,0.9761,1.0216,1.2525,1.6466,2.1557,0.4266,\n",
    "               0.4635,0.4851,0.5064,0.5261,0.5766,0.6232,0.6780,0.7073,0.7361,0.7694,0.8243,0.7121,0.8150,1.1909,\n",
    "               0.4488,0.4804,0.5487,0.6305,0.7693,0.8978,0.9063,3.5686,4.5067,5.7788,7.9958]\n",
    "filt_fwhm = [0.0224,0.07909,0.05181,0.05976,0.1383,0.1547,0.1471,0.0766,0.0786,0.0923,0.1718,0.2905,0.3074,\n",
    "             0.02073,0.02182,0.02292,0.0231,0.02429,0.02729,0.03004,0.03363,0.03163,0.03235,0.03648,0.0343,0.0072,\n",
    "             0.01198,0.01122,0.0892,0.1265,0.0954,0.1376,0.1497,0.0847,0.1335,0.7443,1.0119,1.4082,2.8796] \n",
    "# corresponding MW attenuation from Schelgel \n",
    "AlambdaDivEBV = [8.31,8.742,4.807,4.674,3.69,2.715,2.0,1.515,1.298,1.213,0.874,0.565,0.365,4.261,3.844,3.622,\n",
    "                 3.425,3.265,2.938,2.694,2.431,2.29,2.151,1.997,1.748,2.268,1.787,0.946,4.041,3.738,3.128,2.673,\n",
    "                 2.003,1.436,1.466,0.163,0.112,0.075,0.045]\n",
    "# photometric offsets (not available for all filters, see Table 3 in W+21)\n",
    "## CAREFUL: I don't see where they match\n",
    "zpoff1 = [0.000,-0.352,-0.077,-0.023,0.073,0.101,0.038,0.036,0.086,0.054,0.017,-0.045,0.000,-0.104,-0.044,-0.021,\n",
    "          -0.018,-0.045,-0.084,0.005,0.166,-0.023,-0.034,-0.032,-0.069,-0.010,-0.064,0.000,0.000,0.000,0.000,\n",
    "          0.000,0.000,0.000,0.000,-0.212,-0.219,0.000,0.000]  # Farmer+LePhare\n",
    "zpoff2 = [0.000,-0.029,-0.006,0.053,0.128,0.127,0.094,0.084,0.100,0.049,0.025,-0.044,0.000,-0.013,-0.008,0.022,\n",
    "          0.025,0.033,-0.032,0.031,0.208,-0.009,0.003,-0.015,-0.001,0.023,-0.021,-0.017,-0.075,0.000,0.123,0.035,\n",
    "          0.051,0.000,0.095,-0.087,-0.111,0.000,0.000]  # Classic+LePhare\n",
    "zpoff3 = [0.000,0.000,-0.196,-0.054,0.006,0.090,0.043,0.071,0.118,0.078,0.047,-0.034,0.000,-0.199,-0.129,-0.084,\n",
    "          -0.073,-0.087,-0.124,0.004,0.154,-0.022,-0.030,-0.013,-0.057,0.000,0.000,0.000,0.000,0.000,0.000,0.000,\n",
    "          0.000,0.000,0.000,-0.102,-0.044,0.000,0.000] # Farmer+EAZY\n",
    "zpoff4 = [0.000,0.000,0.000,-0.021,0.055,0.124,0.121,0.121,0.145,0.085,0.057,-0.036,0.000,-0.133,-0.098,-0.046,\n",
    "          -0.037,-0.038,-0.062,0.038,0.214,0.024,0.022,0.01,0.022,0.000,0.000,0.00,0.00,0.00,0.00,0.00,0.00,0.00,\n",
    "          0.00,0.021,0.025,0.000,0.000] # Classic+EAZY\n",
    "# create the dictionary\n",
    "filt_dict = {filt_name[i]:(filt_lambda[i]*1e4,filt_fwhm[i]*1e4,AlambdaDivEBV[i],\n",
    "                           [zpoff1[i],zpoff2[i],zpoff3[i],zpoff4[i]]) for i in range(len(filt_name))}"
   ]
  },
  {
   "cell_type": "code",
   "execution_count": 6,
   "metadata": {},
   "outputs": [],
   "source": [
    "# Upload the main catalogue\n",
    "cat0 = table.Table.read(dir_in+f'COSMOS2020_{catversion.upper()}_R1_v2.1_p3.fits',format='fits',hdu=1)"
   ]
  },
  {
   "cell_type": "code",
   "execution_count": 7,
   "metadata": {},
   "outputs": [],
   "source": [
    "# Create a mask to restrict the analysis to a subset of filters (optional)\n",
    "filt_use = ['HSC_g', 'HSC_r', 'HSC_i', 'HSC_z', 'HSC_y', 'UVISTA_Y', 'UVISTA_J', \n",
    "            'UVISTA_H', 'UVISTA_Ks', 'SC_B']\n",
    "filt_mask = [i in filt_use for i in filt_name]"
   ]
  },
  {
   "cell_type": "code",
   "execution_count": 8,
   "metadata": {},
   "outputs": [
    {
     "name": "stdout",
     "output_type": "stream",
     "text": [
      "The parent sample includes 1720700 sources\n",
      "Now restricted to 723897 sources by using FLAG_COMBINED\n"
     ]
    }
   ],
   "source": [
    "whichflag = 'COMBINED'  # you can try HSC, SUPCAM, UVISTA, UDEEP, COMBINED\n",
    "print('The parent sample includes {} sources'.format(len(cat0)))\n",
    "cat0 = cat0[cat0['FLAG_{}'.format(whichflag)]==0]\n",
    "print('Now restricted to {} sources by using FLAG_COMBINED'.format(len(cat0)))"
   ]
  },
  {
   "cell_type": "markdown",
   "metadata": {},
   "source": [
    "### Correcting for MW extinction"
   ]
  },
  {
   "cell_type": "code",
   "execution_count": 9,
   "metadata": {},
   "outputs": [],
   "source": [
    "def mw_corr(tab_in,f_dict,ebv_col='EBV_MW',flx_col='_FLUX',flxerr_col='_FLUXERR',\n",
    "            only_filt=[],skip_filt=[],verbose=False,out=False):\n",
    "    \"\"\"\n",
    "    Parameters\n",
    "    ----------\n",
    "    tab_in : astropy table of COSMOS2020\n",
    "    f_dict : dictionary with filter info\n",
    "    ebv_col : name of the `tab_in` column containing the E(B-V) from Milky Way\n",
    "    flx_col : name of the `tab_in` column containing the flux\n",
    "    flxerr_col : name of the `tab_in` column containing the flux error bar\n",
    "    only_filt : list of the filters to be processed (filter names as in `f_dict`)\n",
    "    skip_filt : list of the filters NOT to be processed (filter names as in `f_dict`)\n",
    "    verbose : if True, print a verbose output\n",
    "    out : if True, return a new table with the changes; if False, overwrite `tab_in`\n",
    "    \"\"\"\n",
    "    \n",
    "    if 'FLUX' in flx_col: flux=True\n",
    "    else: flux=False\n",
    "    if out: tab = tab_in.copy()\n",
    "    else: tab = tab_in\n",
    "    ff = f_dict.keys()\n",
    "    if len(only_filt)>0 : ff = only_filt\n",
    "    for c in ff:\n",
    "        if verbose: print('remove MW attenuation in ',c+flx_col,f_dict[c][2])\n",
    "        if c not in skip_filt:\n",
    "            atten = f_dict[c][2]*tab[ebv_col]\n",
    "            if flux:    tab[c+flx_col] *= np.power(10.,0.4*atten)\n",
    "            else:    tab[c+flx_col] -= atten             \n",
    "        else:\n",
    "            if verbose: print('Skip filter',c)       \n",
    "    if out: return tab"
   ]
  },
  {
   "cell_type": "code",
   "execution_count": 10,
   "metadata": {},
   "outputs": [],
   "source": [
    "# Here, the function creates a new table but\n",
    "# it is also possible to overwrite the original table `cat0`\n",
    "if catversion.lower()=='classic' and flx!='_FLUX' and flx!='_MAG':  \n",
    "    # it means you are using aperture or AUTO flux/mag, which are not available for IRAC and GALEX \n",
    "    cat1 = mw_corr(cat0,filt_dict,flx_col=flx,flxerr_col=flxerr,\n",
    "                   only_filt=filt_use,skip_filt=['IRAC_CH1', 'IRAC_CH2', 'GALEX_FUV', 'GALEX_NUV'],\n",
    "                   out=True) # fluxes are  in uJy (zero point = 23.9)\n",
    "    # therefore, IRAC and GALEX have to be taken into account separately:\n",
    "    mw_corr(cat1,filt_dict,flx_col='_FLUX',flxerr_col='_FLUXERR',\n",
    "            only_filt=['IRAC_CH1', 'IRAC_CH2', 'GALEX_FUV', 'GALEX_NUV']) \n",
    "else:\n",
    "    # otherwise, all filters have the same suffix\n",
    "    cat1 = mw_corr(cat0,filt_dict,flx_col=flx,flxerr_col=flxerr,only_filt=filt_use,out=True)  # all bands have same column suffix"
   ]
  },
  {
   "cell_type": "markdown",
   "metadata": {},
   "source": [
    "### Correcting for aperture-to-total flux"
   ]
  },
  {
   "cell_type": "code",
   "execution_count": 11,
   "metadata": {},
   "outputs": [],
   "source": [
    "def aper_to_tot(tab_in,f_dict,flx_col='_FLUX',flxerr_col='_FLUXERR',scale_col='',out_col=None,only_filt=[],skip_filt=[],verbose=False,out=False):\n",
    "    \"\"\"\n",
    "    Parameters\n",
    "    ----------\n",
    "    tab_in : astropy table of COSMOS2020\n",
    "    f_dict : dictionary with filter info \n",
    "    flx_col : name of the `tab_in` column containing the flux\n",
    "    flxerr_col : name of the `tab_in` column containing the flux error bar\n",
    "    scale_col : name of the `tab_in` column containing the aper-to-total correction\n",
    "    out_col : if defined, the rescaled photometry will be saved in a new column (otherwise it overwrites `flx_col`)\n",
    "    only_filt : list of the filters to be processed (filter names as in `f_dict`)\n",
    "    skip_filt : list of the filters NOT to be processed (filter names as in `f_dict`)\n",
    "    verbose : if True, print a verbose output\n",
    "    out : if True, return a new table with the changes; if False, overwrite `tab_in`  \n",
    "    \"\"\"\n",
    "    \n",
    "    if 'FLUX' in flx_col: flux=True\n",
    "    else: flux=False\n",
    "    if out: tab = tab_in.copy()\n",
    "    else: tab = tab_in \n",
    "    ff = f_dict.keys()\n",
    "    if len(only_filt)>0 : ff = only_filt\n",
    "    for c in ff:\n",
    "        if c not in skip_filt:\n",
    "\n",
    "            if verbose and flux: print('rescale {} to total flux'.format(c+flx_col))\n",
    "            if verbose and not flux: print('rescale {} to total mag'.format(c+flx_col))\n",
    "\n",
    "            if flux:\n",
    "                resc = np.power(10.,-0.4*tab[scale_col])\n",
    "                if out_col:\n",
    "                    tab[c+out_col] = tab[c+flx_col] * resc\n",
    "                    tab[c+out_col+'ERR'] = tab[c+flxerr_col] * resc  # rescale also error bars not to alter the S/N ratio\n",
    "                else:\n",
    "                    tab[c+flx_col] *= resc\n",
    "                    tab[c+flxerr_col] *= resc\n",
    "            else:\n",
    "                if out_col:\n",
    "                    tab[c+out_col] = tab[c+flx_col] + tab[scale_col] \n",
    "                else:\n",
    "                    tab[c+flx_col] += tab[scale_col]             \n",
    "        else:\n",
    "            if verbose: print('Skip filter',c)       \n",
    "    if out: return tab\n",
    "    "
   ]
  },
  {
   "cell_type": "code",
   "execution_count": 12,
   "metadata": {},
   "outputs": [
    {
     "name": "stdout",
     "output_type": "stream",
     "text": [
      "rescale HSC_g_FLUX_APER3 to total flux\n",
      "rescale HSC_r_FLUX_APER3 to total flux\n",
      "rescale HSC_i_FLUX_APER3 to total flux\n",
      "rescale HSC_z_FLUX_APER3 to total flux\n",
      "rescale HSC_y_FLUX_APER3 to total flux\n",
      "rescale UVISTA_Y_FLUX_APER3 to total flux\n",
      "rescale UVISTA_J_FLUX_APER3 to total flux\n",
      "rescale UVISTA_H_FLUX_APER3 to total flux\n",
      "rescale UVISTA_Ks_FLUX_APER3 to total flux\n",
      "rescale SC_B_FLUX_APER3 to total flux\n"
     ]
    }
   ],
   "source": [
    "# Can be applied only to aperture photometry (not to AUTO or Farmer)\n",
    "if (flx[-1]=='2' or flx[-1]=='3'):\n",
    "    aper_to_tot(cat1,filt_dict,flx_col=flx,flxerr_col=flxerr,out_col='_FLUX',\n",
    "    only_filt=filt_use,skip_filt=['IRAC_CH1', 'IRAC_CH2', 'GALEX_FUV', 'GALEX_NUV'],\n",
    "    scale_col='total_off'+flx[-1],verbose=True)\n"
   ]
  },
  {
   "cell_type": "markdown",
   "metadata": {},
   "source": [
    "### Correcting for photometric offset"
   ]
  },
  {
   "cell_type": "code",
   "execution_count": 13,
   "metadata": {},
   "outputs": [],
   "source": [
    "def photo_corr(tab_in,f_dict,versions=('Farmer','lp'),flx_col='_FLUX',only_filt=[],\n",
    "               skip_filt=[],verbose=False,out=False):\n",
    "    \"\"\"\n",
    "    Parameters\n",
    "    ----------\n",
    "    tab_in : astropy table of COSMOS2020\n",
    "    f_dict : dictionary with filter info\n",
    "    ebv_col : name of the `tab_in` column containing the E(B-V) from Milky Way\n",
    "    flx_col : name of the `tab_in` column containing the flux\n",
    "    flxerr_col : name of the `tab_in` column containing the flux error bar\n",
    "    only_filt : list of the filters to be processed (filter names as in `f_dict`)\n",
    "    skip_filt : list of the filters NOT to be processed (filter names as in `f_dict`)\n",
    "    verbose : if True, print a verbose output\n",
    "    out : if True, return a new table with the changes; if False, overwrite `tab_in`\n",
    "    \"\"\"\n",
    "    if 'FLUX' in flx_col: flux=True\n",
    "    else: flux=False\n",
    "    if out: tab = tab_in.copy()\n",
    "    else: tab = tab_in\n",
    "    ff = f_dict.keys()\n",
    "    if len(only_filt)>0 : ff = only_filt\n",
    "    \n",
    "    # careful I think there is a mistake here -> see the cases in the 5th cell\n",
    "    if versions[0]=='Farmer' and versions[1]=='lp': v=0\n",
    "    elif versions[0]=='Farmer' and versions[1]=='ez': v=1\n",
    "    elif versions[0]=='Classic' and versions[1]=='lp': v=2\n",
    "    elif versions[0]=='Classic' and versions[1]=='ez': v=3\n",
    "    else: \n",
    "        print(\"ERROR: is this catalog version real?\", versions)\n",
    "        return\n",
    "    \n",
    "    for c in ff:\n",
    "        if verbose: print(' apply photometric offset to ',c+flx_col)\n",
    "        offset = f_dict[c][3][v]\n",
    "        if c not in skip_filt and offset!=0.:\n",
    "            if flux:  tab[c+flx_col] *= np.power(10.,-0.4*offset)\n",
    "            else:  tab[c+flx_col] += offset              \n",
    "        else:\n",
    "            if verbose: print('Skip filter',c)       \n",
    "    if out: return tab"
   ]
  },
  {
   "cell_type": "code",
   "execution_count": 14,
   "metadata": {},
   "outputs": [],
   "source": [
    "photo_corr(cat1,filt_dict,only_filt=filt_use, flx_col=flx,versions=(catversion,fitversion), \n",
    "           skip_filt=['IRAC_CH1', 'IRAC_CH2', 'GALEX_FUV', 'GALEX_NUV'])"
   ]
  },
  {
   "cell_type": "code",
   "execution_count": 15,
   "metadata": {},
   "outputs": [
    {
     "name": "stdout",
     "output_type": "stream",
     "text": [
      "HSC_i_FLUX_APER3\n",
      "      uJy       \n",
      "----------------\n",
      "     0.056833226\n",
      "       0.2213635\n",
      "      0.24839686\n",
      "      0.14219627\n",
      "      0.17275321\n",
      "       0.4177115\n",
      "      0.17074515\n",
      "      0.16372284\n",
      "      0.11847209\n",
      "      0.07481526\n",
      "             ...\n",
      "       8.9269495\n",
      "      0.30253875\n",
      "       28.395721\n",
      "        98.49623\n",
      "       15.935612\n",
      "      0.75859857\n",
      "       12.485992\n",
      "      0.88164216\n",
      "        49.56435\n",
      "        58.75722\n",
      "Length = 723897 rows\n"
     ]
    }
   ],
   "source": [
    "print(cat1['HSC_i' + flx])\n",
    "mag_cat = cat1['HSC_i' + mg]"
   ]
  },
  {
   "cell_type": "code",
   "execution_count": 16,
   "metadata": {},
   "outputs": [
    {
     "name": "stderr",
     "output_type": "stream",
     "text": [
      "/Applications/anaconda3/lib/python3.7/site-packages/ipykernel_launcher.py:2: RuntimeWarning: invalid value encountered in log10\n",
      "  \n"
     ]
    }
   ],
   "source": [
    "m0 = +23.9\n",
    "mag = -2.5*np.log10(cat1['HSC_i' + flx].data) + m0\n",
    " \n",
    "mag_flux = mag.data[mag.mask==False]\n"
   ]
  },
  {
   "cell_type": "code",
   "execution_count": 17,
   "metadata": {},
   "outputs": [
    {
     "name": "stdout",
     "output_type": "stream",
     "text": [
      "[15.74250031 15.9843555  16.2262107  16.4680659  16.7099211  16.95177629\n",
      " 17.19363149 17.43548669 17.67734189 17.91919708 18.16105228 18.40290748\n",
      " 18.64476267 18.88661787 19.12847307 19.37032827 19.61218346 19.85403866\n",
      " 20.09589386 20.33774906 20.57960425 20.82145945 21.06331465 21.30516985\n",
      " 21.54702504 21.78888024 22.03073544 22.27259064 22.51444583 22.75630103\n",
      " 22.99815623 23.24001143 23.48186662 23.72372182 23.96557702 24.20743222\n",
      " 24.44928741 24.69114261 24.93299781 25.17485301 25.4167082  25.6585634\n",
      " 25.9004186  26.1422738  26.38412899 26.62598419 26.86783939 27.10969459\n",
      " 27.35154978 27.59340498 27.83526018 28.07711538 28.31897057 28.56082577\n",
      " 28.80268097 29.04453617 29.28639136 29.52824656 29.77010176 30.01195696\n",
      " 30.25381215 30.49566735 30.73752255 30.97937775 31.22123294 31.46308814\n",
      " 31.70494334 31.94679854 32.18865373 32.43050893 32.67236413 32.91421933\n",
      " 33.15607452 33.39792972 33.63978492 33.88164012 34.12349531 34.36535051\n",
      " 34.60720571 34.84906091 35.0909161  35.3327713  35.5746265  35.8164817\n",
      " 36.05833689 36.30019209 36.54204729 36.78390249 37.02575768 37.26761288\n",
      " 37.50946808 37.75132328 37.99317847 38.23503367 38.47688887 38.71874407\n",
      " 38.96059926 39.20245446 39.44430966 39.68616486]\n",
      "[15.86221863 16.10407383 16.34592902 16.58778422 16.82963942 17.07149462\n",
      " 17.31334981 17.55520501 17.79706021 18.03891541 18.2807706  18.5226258\n",
      " 18.764481   19.0063362  19.24819139 19.49004659 19.73190179 19.97375699\n",
      " 20.21561218 20.45746738 20.69932258 20.94117778 21.18303297 21.42488817\n",
      " 21.66674337 21.90859856 22.15045376 22.39230896 22.63416416 22.87601935\n",
      " 23.11787455 23.35972975 23.60158495 23.84344014 24.08529534 24.32715054\n",
      " 24.56900574 24.81086093 25.05271613 25.29457133 25.53642653 25.77828172\n",
      " 26.02013692 26.26199212 26.50384732 26.74570251 26.98755771 27.22941291\n",
      " 27.47126811 27.7131233  27.9549785  28.1968337  28.4386889  28.68054409\n",
      " 28.92239929 29.16425449 29.40610969 29.64796488 29.88982008 30.13167528\n",
      " 30.37353048 30.61538567 30.85724087 31.09909607 31.34095127 31.58280646\n",
      " 31.82466166 32.06651686 32.30837206 32.55022725 32.79208245 33.03393765\n",
      " 33.27579285 33.51764804 33.75950324 34.00135844 34.24321364 34.48506883\n",
      " 34.72692403 34.96877923 35.21063443 35.45248962 35.69434482 35.93620002\n",
      " 36.17805522 36.41991041 36.66176561 36.90362081 37.14547601 37.3873312\n",
      " 37.6291864  37.8710416  38.1128968  38.35475199 38.59660719 38.83846239\n",
      " 39.08031759 39.32217278 39.56402798]\n"
     ]
    }
   ],
   "source": [
    "bins = np.linspace(min(mag_cat)-2, max(mag_cat)+2, 100)\n",
    "bin_centers = bins[:-1] + (bins[-1] - bins[0])/(2*len(bins))\n",
    "print(bins)\n",
    "print(bin_centers)"
   ]
  },
  {
   "cell_type": "code",
   "execution_count": 18,
   "metadata": {},
   "outputs": [
    {
     "data": {
      "image/png": "[encoded data removed]",
      "text/plain": [
       "<Figure size 432x288 with 1 Axes>"
      ]
     },
     "metadata": {
      "needs_background": "light"
     },
     "output_type": "display_data"
    }
   ],
   "source": [
    "hist_mag_cat,_ = np.histogram(mag_cat, bins=bins, density=True)\n",
    "hist_mag_flux,_ = np.histogram(mag_flux, bins=bins, density=True)\n",
    "\n",
    "plt.plot(bin_centers, hist_mag_cat, label='Mag Cat')\n",
    "plt.plot(bin_centers, hist_mag_flux, label='Mag Flux')\n",
    "plt.legend()\n",
    "plt.xlabel(\"Magnitude\")\n",
    "plt.show()"
   ]
  },
  {
   "cell_type": "markdown",
   "metadata": {},
   "source": [
    "### Final Formatting"
   ]
  },
  {
   "cell_type": "code",
   "execution_count": 19,
   "metadata": {},
   "outputs": [],
   "source": [
    "cat = cat1.copy()"
   ]
  },
  {
   "cell_type": "code",
   "execution_count": 20,
   "metadata": {},
   "outputs": [],
   "source": [
    "# optional: keep only the most commonly used columns (total FLUX, error bars, RA, DEC...)\n",
    "cat.keep_columns(['ID','ALPHA_J2000','DELTA_J2000']+\n",
    "                 [i+flx for i in filt_use]+[i+flxerr for i in filt_use]+\n",
    "                 [i+mg for i in filt_use]+[i+mgerr for i in filt_use]+\n",
    "                 ['lp_zBEST','lp_model','lp_age','lp_dust','lp_Attenuation','lp_zp_2','lp_zq','lp_type']+\n",
    "                 ['lp_MNUV','lp_MR','lp_MJ','lp_mass_med','lp_mass_med_min68','lp_mass_med_max68',\n",
    "                  'lp_SFR_med','lp_mass_best'] + ['FLUX_RADIUS', 'KRON_RADIUS'])"
   ]
  },
  {
   "cell_type": "code",
   "execution_count": 21,
   "metadata": {},
   "outputs": [
    {
     "name": "stderr",
     "output_type": "stream",
     "text": [
      "/Applications/anaconda3/lib/python3.7/site-packages/ipykernel_launcher.py:4: RuntimeWarning: invalid value encountered in log10\n",
      "  after removing the cwd from sys.path.\n"
     ]
    }
   ],
   "source": [
    "# optional: magnitudes in AB system\n",
    "m0 = +23.9  # fluxes in the catalog are in microJansky\n",
    "for b in filt_use:\n",
    "    mag = -2.5*np.log10(cat[b+flx].data) + m0  # log of negative flux is masked\n",
    "    cat.add_column(mag.filled(np.nan),name=b+'_MAGAB')  # negative flux becomes NaN "
   ]
  },
  {
   "cell_type": "code",
   "execution_count": 22,
   "metadata": {},
   "outputs": [],
   "source": [
    "# flux conversion from uJy to erg/cm2/s/Hz\n",
    "# if outflx=='cgs':\n",
    "#     for b in filt_use:\n",
    "#         cat[b+flx] *= 1e-29\n",
    "#         cat[b+flx].unit = u.erg/u.cm/u.cm/u.s/u.Hz\n",
    "#         cat[b+flxerr] *= 1e-29\n",
    "#         cat[b+flxerr].unit = u.erg/u.cm/u.cm/u.s/u.Hz"
   ]
  },
  {
   "cell_type": "code",
   "execution_count": 23,
   "metadata": {},
   "outputs": [],
   "source": [
    "cat.rename_column('lp_zBEST', 'photoz') \n",
    "cat.rename_column('ALPHA_J2000','RA')\n",
    "cat.rename_column('DELTA_J2000','DEC')"
   ]
  },
  {
   "cell_type": "code",
   "execution_count": 24,
   "metadata": {
    "scrolled": true
   },
   "outputs": [
    {
     "name": "stdout",
     "output_type": "stream",
     "text": [
      "photoz\n",
      "------\n",
      "1.2724\n",
      "2.8991\n",
      "0.9599\n",
      "  0.36\n",
      "1.2045\n",
      "0.4521\n",
      "0.9492\n",
      "1.3587\n",
      "4.5398\n",
      "1.3687\n",
      "   ...\n",
      "0.6841\n",
      "0.4332\n",
      "2.1121\n",
      "0.3187\n",
      "   0.0\n",
      "0.5916\n",
      "2.0997\n",
      "0.3288\n",
      " 3.091\n",
      "0.3321\n",
      "0.3126\n",
      "Length = 723897 rows\n"
     ]
    }
   ],
   "source": [
    "print(cat['photoz'])"
   ]
  },
  {
   "cell_type": "code",
   "execution_count": 25,
   "metadata": {},
   "outputs": [
    {
     "name": "stderr",
     "output_type": "stream",
     "text": [
      "WARNING: UnitsWarning: 'log(solMass)' did not parse as fits unit: 'log' is not a recognized function If this is meant to be a custom unit, define it with 'u.def_unit'. To have it recognized inside a file reader or other code, enable it with 'u.add_enabled_units'. For details, see http://docs.astropy.org/en/latest/units/combining_and_defining.html [astropy.units.core]\n",
      "WARNING: UnitsWarning: 'log(solMass/yr)' did not parse as fits unit: 'log' is not a recognized function If this is meant to be a custom unit, define it with 'u.def_unit'. To have it recognized inside a file reader or other code, enable it with 'u.add_enabled_units'. For details, see http://docs.astropy.org/en/latest/units/combining_and_defining.html [astropy.units.core]\n"
     ]
    }
   ],
   "source": [
    "# Save the re-formatted table as a FITS file. \n",
    "cat.write(dir_out+f'COSMOS2020_{catversion}_processed.fits',overwrite=True)"
   ]
  },
  {
   "cell_type": "code",
   "execution_count": 26,
   "metadata": {},
   "outputs": [
    {
     "data": {
      "text/html": [
       "<i>Table length=723897</i>\n",
       "<table id=\"table140609948539368\" class=\"table-striped table-bordered table-condensed\">\n",
       "<thead><tr><th>ID</th><th>RA</th><th>DEC</th><th>FLUX_RADIUS</th><th>KRON_RADIUS</th><th>HSC_g_FLUX_APER3</th><th>HSC_g_FLUXERR_APER3</th><th>HSC_g_MAG_APER3</th><th>HSC_g_MAGERR_APER3</th><th>HSC_r_FLUX_APER3</th><th>HSC_r_FLUXERR_APER3</th><th>HSC_r_MAG_APER3</th><th>HSC_r_MAGERR_APER3</th><th>HSC_i_FLUX_APER3</th><th>HSC_i_FLUXERR_APER3</th><th>HSC_i_MAG_APER3</th><th>HSC_i_MAGERR_APER3</th><th>HSC_z_FLUX_APER3</th><th>HSC_z_FLUXERR_APER3</th><th>HSC_z_MAG_APER3</th><th>HSC_z_MAGERR_APER3</th><th>HSC_y_FLUX_APER3</th><th>HSC_y_FLUXERR_APER3</th><th>HSC_y_MAG_APER3</th><th>HSC_y_MAGERR_APER3</th><th>UVISTA_Y_FLUX_APER3</th><th>UVISTA_Y_FLUXERR_APER3</th><th>UVISTA_Y_MAG_APER3</th><th>UVISTA_Y_MAGERR_APER3</th><th>UVISTA_J_FLUX_APER3</th><th>UVISTA_J_FLUXERR_APER3</th><th>UVISTA_J_MAG_APER3</th><th>UVISTA_J_MAGERR_APER3</th><th>UVISTA_H_FLUX_APER3</th><th>UVISTA_H_FLUXERR_APER3</th><th>UVISTA_H_MAG_APER3</th><th>UVISTA_H_MAGERR_APER3</th><th>UVISTA_Ks_FLUX_APER3</th><th>UVISTA_Ks_FLUXERR_APER3</th><th>UVISTA_Ks_MAG_APER3</th><th>UVISTA_Ks_MAGERR_APER3</th><th>SC_B_FLUX_APER3</th><th>SC_B_FLUXERR_APER3</th><th>SC_B_MAG_APER3</th><th>SC_B_MAGERR_APER3</th><th>photoz</th><th>lp_type</th><th>lp_zp_2</th><th>lp_zq</th><th>lp_model</th><th>lp_age</th><th>lp_dust</th><th>lp_Attenuation</th><th>lp_MNUV</th><th>lp_MR</th><th>lp_MJ</th><th>lp_mass_med</th><th>lp_mass_med_min68</th><th>lp_mass_med_max68</th><th>lp_mass_best</th><th>lp_SFR_med</th><th>HSC_g_MAGAB</th><th>HSC_r_MAGAB</th><th>HSC_i_MAGAB</th><th>HSC_z_MAGAB</th><th>HSC_y_MAGAB</th><th>UVISTA_Y_MAGAB</th><th>UVISTA_J_MAGAB</th><th>UVISTA_H_MAGAB</th><th>UVISTA_Ks_MAGAB</th><th>SC_B_MAGAB</th></tr></thead>\n",
       "<thead><tr><th></th><th>deg</th><th>deg</th><th>pix</th><th></th><th>uJy</th><th>uJy</th><th>mag</th><th>mag</th><th>uJy</th><th>uJy</th><th>mag</th><th>mag</th><th>uJy</th><th>uJy</th><th>mag</th><th>mag</th><th>uJy</th><th>uJy</th><th>mag</th><th>mag</th><th>uJy</th><th>uJy</th><th>mag</th><th>mag</th><th>uJy</th><th>uJy</th><th>mag</th><th>mag</th><th>uJy</th><th>uJy</th><th>mag</th><th>mag</th><th>uJy</th><th>uJy</th><th>mag</th><th>mag</th><th>uJy</th><th>uJy</th><th>mag</th><th>mag</th><th>uJy</th><th>uJy</th><th>mag</th><th>mag</th><th></th><th></th><th></th><th></th><th></th><th>yr</th><th></th><th></th><th>mag</th><th>mag</th><th>mag</th><th>log(solMass)</th><th>log(solMass)</th><th>log(solMass)</th><th>log(solMass)</th><th>log(solMass/yr)</th><th></th><th></th><th></th><th></th><th></th><th></th><th></th><th></th><th></th><th></th></tr></thead>\n",
       "<thead><tr><th>int64</th><th>float64</th><th>float64</th><th>float32</th><th>float32</th><th>float32</th><th>float32</th><th>float32</th><th>float32</th><th>float32</th><th>float32</th><th>float32</th><th>float32</th><th>float32</th><th>float32</th><th>float32</th><th>float32</th><th>float32</th><th>float32</th><th>float32</th><th>float32</th><th>float32</th><th>float32</th><th>float32</th><th>float32</th><th>float32</th><th>float32</th><th>float32</th><th>float32</th><th>float32</th><th>float32</th><th>float32</th><th>float32</th><th>float32</th><th>float32</th><th>float32</th><th>float32</th><th>float32</th><th>float32</th><th>float32</th><th>float32</th><th>float32</th><th>float32</th><th>float32</th><th>float32</th><th>float64</th><th>int64</th><th>float64</th><th>float64</th><th>int64</th><th>float64</th><th>float64</th><th>int64</th><th>float64</th><th>float64</th><th>float64</th><th>float64</th><th>float64</th><th>float64</th><th>float64</th><th>float64</th><th>float32</th><th>float32</th><th>float32</th><th>float32</th><th>float32</th><th>float32</th><th>float32</th><th>float32</th><th>float32</th><th>float32</th></tr></thead>\n",
       "<tr><td>201293</td><td>150.7533320576763</td><td>1.6033332639541444</td><td>13.3</td><td>0.0</td><td>0.029729823</td><td>0.012882759</td><td>27.739058</td><td>0.4802436</td><td>0.03745959</td><td>0.018218948</td><td>27.398775</td><td>0.4964358</td><td>0.056833226</td><td>0.022751687</td><td>26.934248</td><td>0.4041505</td><td>0.14269996</td><td>0.036349483</td><td>25.92457</td><td>0.2547745</td><td>0.054815423</td><td>0.07993955</td><td>26.934841</td><td>1.420785</td><td>-0.9609976</td><td>1.2239414</td><td>nan</td><td>nan</td><td>1.3676939</td><td>0.5927336</td><td>23.521275</td><td>0.4541499</td><td>0.120819494</td><td>0.65138984</td><td>26.242453</td><td>6.118601</td><td>-0.27539518</td><td>0.3776975</td><td>nan</td><td>nan</td><td>0.049024228</td><td>0.018503606</td><td>27.258339</td><td>0.44301844</td><td>1.2724</td><td>0</td><td>1.32</td><td>0.4</td><td>5</td><td>508800000.0</td><td>0.2</td><td>1</td><td>-16.42532</td><td>-17.97332</td><td>-18.11549</td><td>8.4021</td><td>7.98959</td><td>8.79633</td><td>8.27906</td><td>-0.19806</td><td>27.717018</td><td>27.466091</td><td>27.013494</td><td>26.01394</td><td>27.052742</td><td>nan</td><td>23.560028</td><td>26.194656</td><td>nan</td><td>27.173973</td></tr>\n",
       "<tr><td>201325</td><td>150.77495649024627</td><td>1.6033965367753042</td><td>13.3</td><td>0.0</td><td>0.18722874</td><td>0.01363573</td><td>25.741396</td><td>0.08073585</td><td>0.22792952</td><td>0.019519439</td><td>25.438393</td><td>0.08742882</td><td>0.2213635</td><td>0.02408387</td><td>25.458147</td><td>0.10985369</td><td>0.24821787</td><td>0.03807386</td><td>25.323666</td><td>0.15343447</td><td>0.30096883</td><td>0.081203</td><td>25.085896</td><td>0.26288188</td><td>0.13904825</td><td>1.0236963</td><td>25.982506</td><td>7.568384</td><td>1.2103307</td><td>0.74707705</td><td>23.654055</td><td>0.6468704</td><td>0.1705901</td><td>0.84545314</td><td>25.867956</td><td>5.624728</td><td>-0.32424152</td><td>0.4396045</td><td>nan</td><td>nan</td><td>0.13184337</td><td>0.01918619</td><td>26.184536</td><td>0.17085716</td><td>2.8991</td><td>0</td><td>0.07</td><td>2.56</td><td>3</td><td>50000000.0</td><td>0.1</td><td>1</td><td>-19.94424</td><td>-20.19197</td><td>-20.18731</td><td>9.16265</td><td>8.78576</td><td>9.56211</td><td>8.51496</td><td>0.82723</td><td>25.719069</td><td>25.505499</td><td>25.537235</td><td>25.412916</td><td>25.203695</td><td>26.042086</td><td>23.69274</td><td>25.820114</td><td>nan</td><td>26.099854</td></tr>\n",
       "<tr><td>201327</td><td>150.7682574751055</td><td>1.6032562440823552</td><td>3.2187054</td><td>3.5</td><td>0.120307654</td><td>0.01373154</td><td>26.221518</td><td>0.12651907</td><td>0.13596137</td><td>0.018628666</td><td>25.9993</td><td>0.13987225</td><td>0.24839686</td><td>0.024260657</td><td>25.333004</td><td>0.09861304</td><td>0.38440982</td><td>0.038632005</td><td>24.84873</td><td>0.10052389</td><td>0.46558234</td><td>0.081899635</td><td>24.612183</td><td>0.17138971</td><td>-0.44211563</td><td>0.8946109</td><td>nan</td><td>nan</td><td>1.048151</td><td>0.6687448</td><td>23.810238</td><td>0.6686291</td><td>-0.33958662</td><td>0.7092799</td><td>nan</td><td>nan</td><td>0.61039484</td><td>0.39296314</td><td>24.443615</td><td>0.7040886</td><td>0.092962</td><td>0.017452657</td><td>26.563835</td><td>0.22040702</td><td>0.9599</td><td>0</td><td>nan</td><td>2.12</td><td>2</td><td>904800000.0</td><td>0.0</td><td>0</td><td>-16.90499</td><td>-18.50634</td><td>-18.7367</td><td>8.703</td><td>8.55592</td><td>8.84238</td><td>8.71599</td><td>-0.18098</td><td>26.199266</td><td>26.066462</td><td>25.412134</td><td>24.938013</td><td>24.73001</td><td>nan</td><td>23.84894</td><td>nan</td><td>24.435972</td><td>26.479237</td></tr>\n",
       "<tr><td>201359</td><td>150.7297592622903</td><td>1.6034367929494793</td><td>2.6980512</td><td>0.0</td><td>0.07510333</td><td>0.012417552</td><td>26.732628</td><td>0.18319657</td><td>0.11554636</td><td>0.017622648</td><td>26.1756</td><td>0.15564704</td><td>0.14219627</td><td>0.02149691</td><td>25.938393</td><td>0.15260299</td><td>0.14022411</td><td>0.034616105</td><td>25.943464</td><td>0.24688476</td><td>0.110648386</td><td>0.07165456</td><td>26.172144</td><td>0.63085765</td><td>0.3194126</td><td>0.5430844</td><td>25.07936</td><td>1.7475939</td><td>-0.7017416</td><td>0.55830127</td><td>nan</td><td>nan</td><td>-0.50861067</td><td>0.5897625</td><td>nan</td><td>nan</td><td>-0.02970789</td><td>0.35566184</td><td>nan</td><td>nan</td><td>0.07761637</td><td>0.018599892</td><td>26.759197</td><td>0.28120232</td><td>0.36</td><td>0</td><td>0.05</td><td>0.01</td><td>5</td><td>640500000.0</td><td>0.0</td><td>0</td><td>-14.20557</td><td>-14.79578</td><td>-14.71042</td><td>6.8586</td><td>6.6587</td><td>7.04998</td><td>6.88842</td><td>-1.60631</td><td>26.710852</td><td>26.243109</td><td>26.017778</td><td>26.032944</td><td>26.290136</td><td>25.13912</td><td>nan</td><td>nan</td><td>nan</td><td>26.675116</td></tr>\n",
       "<tr><td>201439</td><td>150.76336010330033</td><td>1.6034699757079052</td><td>2.6749892</td><td>3.5</td><td>0.08674096</td><td>0.01266165</td><td>26.576612</td><td>0.16179493</td><td>0.08781405</td><td>0.018269638</td><td>26.473871</td><td>0.21237743</td><td>0.17275321</td><td>0.023419293</td><td>25.727262</td><td>0.1368701</td><td>0.29286888</td><td>0.037378117</td><td>25.144001</td><td>0.12765795</td><td>0.3932264</td><td>0.08205598</td><td>24.79554</td><td>0.20330867</td><td>0.8980337</td><td>0.9394263</td><td>23.957138</td><td>1.075344</td><td>1.5009359</td><td>0.6315528</td><td>23.420374</td><td>0.44094956</td><td>1.1356776</td><td>0.6608637</td><td>23.809679</td><td>0.66040933</td><td>0.07911552</td><td>0.37969214</td><td>26.66198</td><td>5.2487164</td><td>0.06918987</td><td>0.019117232</td><td>26.884407</td><td>0.32435286</td><td>1.2045</td><td>0</td><td>0.9</td><td>1.24</td><td>9</td><td>4000000000.0</td><td>0.1</td><td>1</td><td>-17.05644</td><td>-19.3738</td><td>-19.94253</td><td>9.19418</td><td>9.0246</td><td>9.34829</td><td>9.41985</td><td>0.23019</td><td>26.55444</td><td>26.54109</td><td>25.806435</td><td>25.233316</td><td>24.913393</td><td>24.016768</td><td>23.459095</td><td>23.761862</td><td>26.654346</td><td>26.799892</td></tr>\n",
       "<tr><td>201544</td><td>150.77296988493356</td><td>1.6033891423251483</td><td>7.390048</td><td>3.5</td><td>0.18743107</td><td>0.013677465</td><td>25.740198</td><td>0.08089375</td><td>0.33148378</td><td>0.020255797</td><td>25.031721</td><td>0.06238321</td><td>0.4177115</td><td>0.024655545</td><td>24.768707</td><td>0.059597414</td><td>0.4109283</td><td>0.039515354</td><td>24.776323</td><td>0.09618889</td><td>0.53969276</td><td>0.08149726</td><td>24.451826</td><td>0.14713062</td><td>1.2633502</td><td>0.7922041</td><td>23.586601</td><td>0.64462584</td><td>1.0303863</td><td>0.75220513</td><td>23.82881</td><td>0.7650501</td><td>-0.44353265</td><td>0.78578013</td><td>nan</td><td>nan</td><td>0.41945714</td><td>0.42266613</td><td>24.850927</td><td>1.1020423</td><td>0.15489842</td><td>0.017421087</td><td>26.009539</td><td>0.13204454</td><td>0.4521</td><td>0</td><td>nan</td><td>1.33</td><td>5</td><td>806400000.0</td><td>0.2</td><td>1</td><td>-15.28762</td><td>-16.83783</td><td>-17.14401</td><td>7.9998</td><td>7.8785</td><td>8.1363</td><td>7.97708</td><td>-0.86826</td><td>25.717896</td><td>25.098845</td><td>24.847809</td><td>24.865585</td><td>24.569633</td><td>23.64619</td><td>23.8675</td><td>nan</td><td>24.84328</td><td>25.924883</td></tr>\n",
       "<tr><td>201553</td><td>150.75058195008083</td><td>1.603628678894023</td><td>2.8366826</td><td>0.0</td><td>0.053674363</td><td>0.012430552</td><td>27.097563</td><td>0.25665244</td><td>0.07712114</td><td>0.018214064</td><td>26.614706</td><td>0.24105668</td><td>0.17074515</td><td>0.022983497</td><td>25.739853</td><td>0.13588984</td><td>0.23413146</td><td>0.036608174</td><td>25.386955</td><td>0.15638332</td><td>0.309201</td><td>0.077574536</td><td>25.056477</td><td>0.24442163</td><td>2.4696167</td><td>0.8840021</td><td>22.858732</td><td>0.36793897</td><td>-0.7926779</td><td>0.6465582</td><td>nan</td><td>nan</td><td>0.9176342</td><td>0.6535076</td><td>24.041113</td><td>0.8082127</td><td>0.59703356</td><td>0.37195042</td><td>24.467617</td><td>0.68133694</td><td>0.092666425</td><td>0.017463395</td><td>26.566996</td><td>0.22118576</td><td>0.9492</td><td>0</td><td>1.24</td><td>1.3</td><td>9</td><td>4000000000.0</td><td>0.0</td><td>0</td><td>-15.97877</td><td>-18.10082</td><td>-18.50174</td><td>8.57284</td><td>8.31654</td><td>8.83683</td><td>8.8059</td><td>-0.32545</td><td>27.075583</td><td>26.682066</td><td>25.819128</td><td>25.47635</td><td>25.174397</td><td>22.918427</td><td>nan</td><td>23.993326</td><td>24.460003</td><td>26.482693</td></tr>\n",
       "<tr><td>201554</td><td>150.72751828976223</td><td>1.6036263767970784</td><td>2.8672388</td><td>0.0</td><td>0.15295479</td><td>0.013134885</td><td>25.960361</td><td>0.095148295</td><td>0.14350829</td><td>0.018128894</td><td>25.940292</td><td>0.12891941</td><td>0.16372284</td><td>0.021737592</td><td>25.785336</td><td>0.13402192</td><td>0.245622</td><td>0.035035096</td><td>25.33485</td><td>0.14265059</td><td>0.32602847</td><td>0.07175837</td><td>24.998865</td><td>0.21441185</td><td>-0.5584275</td><td>0.5488795</td><td>nan</td><td>nan</td><td>-0.14629269</td><td>0.5422319</td><td>nan</td><td>nan</td><td>-0.02736992</td><td>0.5919039</td><td>nan</td><td>nan</td><td>0.055566233</td><td>0.35829464</td><td>27.045567</td><td>7.051746</td><td>0.1420329</td><td>0.020431014</td><td>26.1031</td><td>0.16879508</td><td>1.3587</td><td>0</td><td>1.66</td><td>0.41</td><td>5</td><td>718700000.0</td><td>0.1</td><td>0</td><td>-17.9474</td><td>-19.08101</td><td>-19.15173</td><td>8.7253</td><td>8.43694</td><td>9.02402</td><td>8.73949</td><td>0.04352</td><td>25.938591</td><td>26.007807</td><td>25.864727</td><td>25.424332</td><td>25.116861</td><td>nan</td><td>nan</td><td>nan</td><td>27.037971</td><td>26.019028</td></tr>\n",
       "<tr><td>201582</td><td>150.69038505398294</td><td>1.603710343003035</td><td>13.3</td><td>0.0</td><td>0.02408235</td><td>0.011268436</td><td>27.96753</td><td>0.5184486</td><td>0.05079474</td><td>0.016224125</td><td>27.067944</td><td>0.3259633</td><td>0.11847209</td><td>0.019784953</td><td>26.136574</td><td>0.16857547</td><td>0.15656121</td><td>0.03125715</td><td>25.823812</td><td>0.19966596</td><td>0.16190717</td><td>0.06468786</td><td>25.758842</td><td>0.389215</td><td>0.12455341</td><td>0.44992664</td><td>26.10185</td><td>3.7128844</td><td>-0.63425285</td><td>0.54243165</td><td>nan</td><td>nan</td><td>-0.17664663</td><td>0.687016</td><td>nan</td><td>nan</td><td>-0.62256426</td><td>0.4758294</td><td>nan</td><td>nan</td><td>0.027046343</td><td>0.017094323</td><td>27.903809</td><td>0.74166125</td><td>4.5398</td><td>0</td><td>0.8</td><td>4.26</td><td>10</td><td>50000000.0</td><td>0.2</td><td>1</td><td>-20.24857</td><td>-20.61817</td><td>-20.56528</td><td>9.61413</td><td>9.02075</td><td>10.19269</td><td>8.7602</td><td>1.2778</td><td>27.945753</td><td>27.135452</td><td>26.21596</td><td>25.91329</td><td>25.876835</td><td>26.16161</td><td>nan</td><td>nan</td><td>nan</td><td>27.819729</td></tr>\n",
       "<tr><td>...</td><td>...</td><td>...</td><td>...</td><td>...</td><td>...</td><td>...</td><td>...</td><td>...</td><td>...</td><td>...</td><td>...</td><td>...</td><td>...</td><td>...</td><td>...</td><td>...</td><td>...</td><td>...</td><td>...</td><td>...</td><td>...</td><td>...</td><td>...</td><td>...</td><td>...</td><td>...</td><td>...</td><td>...</td><td>...</td><td>...</td><td>...</td><td>...</td><td>...</td><td>...</td><td>...</td><td>...</td><td>...</td><td>...</td><td>...</td><td>...</td><td>...</td><td>...</td><td>...</td><td>...</td><td>...</td><td>...</td><td>...</td><td>...</td><td>...</td><td>...</td><td>...</td><td>...</td><td>...</td><td>...</td><td>...</td><td>...</td><td>...</td><td>...</td><td>...</td><td>...</td><td>...</td><td>...</td><td>...</td><td>...</td><td>...</td><td>...</td><td>...</td><td>...</td><td>...</td><td>...</td></tr>\n",
       "<tr><td>1465082</td><td>149.62571102354048</td><td>2.8150655474266837</td><td>5.5166626</td><td>3.5</td><td>1.7151455</td><td>0.023713244</td><td>23.318092</td><td>0.0150680775</td><td>4.876259</td><td>0.038251474</td><td>22.09908</td><td>0.007908788</td><td>8.9269495</td><td>0.046912443</td><td>21.434135</td><td>0.0052574174</td><td>11.897939</td><td>0.06408869</td><td>21.114481</td><td>0.005350612</td><td>14.255765</td><td>0.09319798</td><td>20.890722</td><td>0.0063317767</td><td>15.405175</td><td>0.30253494</td><td>20.865177</td><td>0.02007596</td><td>21.680452</td><td>0.4162938</td><td>20.516768</td><td>0.020041792</td><td>30.287233</td><td>0.54525745</td><td>20.241861</td><td>0.020378672</td><td>35.04801</td><td>0.39108416</td><td>20.044163</td><td>0.012183298</td><td>1.0983498</td><td>0.020453973</td><td>23.86259</td><td>0.021460697</td><td>0.4332</td><td>0</td><td>nan</td><td>0.43</td><td>9</td><td>7000000000.0</td><td>0.1</td><td>0</td><td>-16.67493</td><td>-20.5738</td><td>-21.5776</td><td>10.35607</td><td>10.31812</td><td>10.39013</td><td>10.32385</td><td>-0.55033</td><td>23.314247</td><td>22.179783</td><td>21.523243</td><td>21.21132</td><td>21.015022</td><td>20.930832</td><td>20.55983</td><td>20.19685</td><td>20.038342</td><td>23.798147</td></tr>\n",
       "<tr><td>1465140</td><td>149.84014691392602</td><td>2.8142086493967464</td><td>9.644739</td><td>5.234454</td><td>0.2804805</td><td>0.012875663</td><td>25.292173</td><td>0.05040446</td><td>0.27792466</td><td>0.014412294</td><td>25.215427</td><td>0.052569527</td><td>0.30253875</td><td>0.016167203</td><td>25.113323</td><td>0.05367776</td><td>0.35037494</td><td>0.025108797</td><td>24.945147</td><td>0.071402684</td><td>0.34232733</td><td>0.05101316</td><td>24.94244</td><td>0.14470646</td><td>0.35584348</td><td>0.07344893</td><td>24.958855</td><td>0.21152273</td><td>0.6663213</td><td>0.09141951</td><td>24.299644</td><td>0.14345849</td><td>0.94515204</td><td>0.12293405</td><td>24.007494</td><td>0.14740072</td><td>0.8427785</td><td>0.18030074</td><td>24.092337</td><td>0.23375568</td><td>0.2517571</td><td>0.016152807</td><td>25.470842</td><td>0.07454438</td><td>2.1121</td><td>0</td><td>1.72</td><td>2.64</td><td>7</td><td>1278000000.0</td><td>0.1</td><td>1</td><td>-19.92976</td><td>-20.83725</td><td>-21.39116</td><td>9.6288</td><td>9.48483</td><td>9.71402</td><td>9.68457</td><td>0.8312</td><td>25.280243</td><td>25.290182</td><td>25.198048</td><td>25.038668</td><td>25.063896</td><td>25.021852</td><td>24.34079</td><td>23.961245</td><td>24.085716</td><td>25.397545</td></tr>\n",
       "<tr><td>1465281</td><td>150.03982658610428</td><td>2.813473099717055</td><td>5.3473144</td><td>3.5</td><td>5.9748597</td><td>0.039193153</td><td>21.969807</td><td>0.007193869</td><td>17.521208</td><td>0.06777774</td><td>20.715374</td><td>0.003918023</td><td>28.395721</td><td>0.07759162</td><td>20.181437</td><td>0.00274296</td><td>39.62114</td><td>0.106468886</td><td>19.811127</td><td>0.002676105</td><td>43.4025</td><td>0.12605283</td><td>19.684298</td><td>0.0028190417</td><td>46.851826</td><td>0.0958921</td><td>19.659756</td><td>0.0020965985</td><td>64.753494</td><td>0.11806902</td><td>19.330385</td><td>0.0019059881</td><td>91.08416</td><td>0.15732509</td><td>19.047441</td><td>0.0019570608</td><td>112.394936</td><td>0.21235962</td><td>18.779625</td><td>0.0020641992</td><td>3.572348</td><td>0.017998654</td><td>22.589483</td><td>0.005846061</td><td>0.3187</td><td>0</td><td>nan</td><td>0.34</td><td>3</td><td>4000000000.0</td><td>0.2</td><td>1</td><td>-17.35073</td><td>-21.00011</td><td>-22.1434</td><td>10.45436</td><td>10.41745</td><td>10.48992</td><td>10.46245</td><td>-0.01464</td><td>21.95918</td><td>20.79109</td><td>20.266867</td><td>19.905182</td><td>19.806213</td><td>19.723183</td><td>19.371841</td><td>19.001392</td><td>18.773132</td><td>22.517614</td></tr>\n",
       "<tr><td>1465347</td><td>150.07857125794058</td><td>2.8127208104703474</td><td>11.5388975</td><td>3.5</td><td>23.060568</td><td>0.075621374</td><td>20.499706</td><td>0.0035839078</td><td>63.601517</td><td>0.12797894</td><td>19.31286</td><td>0.0020328858</td><td>98.49623</td><td>0.14303552</td><td>18.82899</td><td>0.0014550239</td><td>127.408806</td><td>0.18795952</td><td>18.541407</td><td>0.0014670918</td><td>145.57932</td><td>0.22002731</td><td>18.369019</td><td>0.0014652564</td><td>155.71146</td><td>0.07634435</td><td>18.35454</td><td>0.00050167565</td><td>210.9471</td><td>0.093902566</td><td>18.047222</td><td>0.00046493957</td><td>261.32907</td><td>0.123562746</td><td>17.902506</td><td>0.00053545093</td><td>288.27127</td><td>0.18615578</td><td>17.756618</td><td>0.0007052668</td><td>12.333194</td><td>0.01914257</td><td>21.240078</td><td>0.001794161</td><td>0.0</td><td>1</td><td>nan</td><td>0.2</td><td>2</td><td>7500000000.0</td><td>0.0</td><td>0</td><td>-17.70961</td><td>-21.96795</td><td>-23.03569</td><td>10.9108</td><td>10.86935</td><td>10.94563</td><td>11.00167</td><td>-8.05969</td><td>20.492825</td><td>19.39133</td><td>18.91645</td><td>18.637001</td><td>18.49225</td><td>18.419197</td><td>18.089565</td><td>17.85703</td><td>17.750496</td><td>21.17231</td></tr>\n",
       "<tr><td>1465685</td><td>150.29769039584383</td><td>2.809716540419773</td><td>7.900732</td><td>3.5</td><td>1.4368715</td><td>0.020697642</td><td>23.512842</td><td>0.015735757</td><td>5.8859687</td><td>0.040405385</td><td>21.896622</td><td>0.006932948</td><td>15.935612</td><td>0.058856774</td><td>20.80635</td><td>0.0036996992</td><td>23.548594</td><td>0.08314069</td><td>20.37429</td><td>0.003510427</td><td>27.928562</td><td>0.105261</td><td>20.161472</td><td>0.0036533072</td><td>29.730864</td><td>0.2344621</td><td>20.15216</td><td>0.008068016</td><td>42.369976</td><td>0.3026493</td><td>19.789894</td><td>0.007459801</td><td>61.947086</td><td>0.4011938</td><td>19.465347</td><td>0.007333696</td><td>78.721825</td><td>0.2978442</td><td>19.165834</td><td>0.004131928</td><td>0.7231598</td><td>0.018985782</td><td>24.319141</td><td>0.030332956</td><td>0.5916</td><td>0</td><td>nan</td><td>0.57</td><td>3</td><td>7500000000.0</td><td>0.0</td><td>0</td><td>-17.44002</td><td>-22.5724</td><td>-23.66848</td><td>11.24988</td><td>11.21586</td><td>11.28396</td><td>11.21651</td><td>-0.69986</td><td>23.506454</td><td>21.975454</td><td>20.894077</td><td>20.470087</td><td>20.284878</td><td>20.21698</td><td>19.832354</td><td>19.419947</td><td>19.159761</td><td>24.251913</td></tr>\n",
       "<tr><td>1466127</td><td>149.8462864675444</td><td>2.8082461403934214</td><td>28.499537</td><td>4.4265676</td><td>0.41040614</td><td>0.013909998</td><td>24.87852</td><td>0.03720189</td><td>0.48610395</td><td>0.016153993</td><td>24.608147</td><td>0.0336797</td><td>0.75859857</td><td>0.01859771</td><td>24.115042</td><td>0.024621047</td><td>0.9964976</td><td>0.028046234</td><td>23.810135</td><td>0.028038725</td><td>1.768503</td><td>0.056170024</td><td>23.159397</td><td>0.030838495</td><td>2.0566192</td><td>0.06455465</td><td>23.053993</td><td>0.032162867</td><td>3.155858</td><td>0.08062888</td><td>22.61097</td><td>0.026712134</td><td>5.110178</td><td>0.108586535</td><td>22.1751</td><td>0.024079422</td><td>6.4200883</td><td>0.15564261</td><td>21.887732</td><td>0.02648809</td><td>0.36995745</td><td>0.014059273</td><td>25.052505</td><td>0.044136215</td><td>2.0997</td><td>0</td><td>2.24</td><td>1.43</td><td>11</td><td>227300000.0</td><td>0.2</td><td>0</td><td>-22.48256</td><td>-23.32531</td><td>-23.76327</td><td>10.59901</td><td>10.32449</td><td>10.8292</td><td>10.24269</td><td>2.01674</td><td>24.866964</td><td>24.683176</td><td>24.19997</td><td>23.903809</td><td>23.280985</td><td>23.117115</td><td>22.652206</td><td>22.12891</td><td>21.881147</td><td>24.97962</td></tr>\n",
       "<tr><td>1466180</td><td>149.45670243351677</td><td>2.815314942108483</td><td>7.630884</td><td>3.5</td><td>5.9635944</td><td>0.04070393</td><td>21.968119</td><td>0.0074595693</td><td>10.759578</td><td>0.05578084</td><td>21.242048</td><td>0.0052376227</td><td>12.485992</td><td>0.0569693</td><td>21.071486</td><td>0.004571569</td><td>15.876191</td><td>0.076070756</td><td>20.802544</td><td>0.004765025</td><td>15.12594</td><td>0.11414306</td><td>20.827463</td><td>0.007315855</td><td>15.877443</td><td>0.0826824</td><td>20.833393</td><td>0.005328441</td><td>18.41333</td><td>0.10291805</td><td>20.694828</td><td>0.0058378447</td><td>21.184038</td><td>0.13601576</td><td>20.630455</td><td>0.0072711115</td><td>22.965067</td><td>0.20442589</td><td>20.503452</td><td>0.009721802</td><td>3.978184</td><td>0.01845738</td><td>22.468563</td><td>0.005363218</td><td>0.3288</td><td>0</td><td>nan</td><td>0.28</td><td>5</td><td>1609000000.0</td><td>0.2</td><td>1</td><td>-18.46296</td><td>-20.31316</td><td>-20.76752</td><td>9.51572</td><td>9.46568</td><td>9.56781</td><td>9.52701</td><td>0.41377</td><td>21.96123</td><td>21.32051</td><td>21.158941</td><td>20.898134</td><td>20.950693</td><td>20.898048</td><td>20.73717</td><td>20.584978</td><td>20.49733</td><td>22.400787</td></tr>\n",
       "<tr><td>1466259</td><td>149.84463341866575</td><td>2.811530944152982</td><td>23.428001</td><td>4.325292</td><td>0.68793446</td><td>0.016060706</td><td>24.317871</td><td>0.02562969</td><td>0.8038715</td><td>0.018546715</td><td>24.062138</td><td>0.023385806</td><td>0.88164216</td><td>0.019353196</td><td>23.951942</td><td>0.022047507</td><td>0.9272965</td><td>0.027791794</td><td>23.888355</td><td>0.029859899</td><td>1.0806552</td><td>0.053768367</td><td>23.694258</td><td>0.048312567</td><td>1.2449707</td><td>0.06913683</td><td>23.599041</td><td>0.056905698</td><td>1.715675</td><td>0.08613092</td><td>23.27272</td><td>0.052490056</td><td>2.4647288</td><td>0.115434766</td><td>22.966797</td><td>0.053074375</td><td>3.097107</td><td>0.16778296</td><td>22.67921</td><td>0.05919187</td><td>0.5952501</td><td>0.015019302</td><td>24.536339</td><td>0.02930997</td><td>3.091</td><td>0</td><td>5.01</td><td>2.32</td><td>7</td><td>1609000000.0</td><td>0.4</td><td>1</td><td>-20.22106</td><td>-22.7983</td><td>-23.58362</td><td>10.49146</td><td>10.21187</td><td>10.73664</td><td>10.71706</td><td>1.99672</td><td>24.306131</td><td>24.137033</td><td>24.036768</td><td>23.981953</td><td>23.815783</td><td>23.662102</td><td>23.313911</td><td>22.920576</td><td>22.67261</td><td>24.463251</td></tr>\n",
       "<tr><td>1466817</td><td>149.59353173118473</td><td>2.8116590947864033</td><td>7.63293</td><td>3.5</td><td>7.311409</td><td>0.044275768</td><td>21.743578</td><td>0.006598231</td><td>28.021715</td><td>0.0865147</td><td>20.200365</td><td>0.00311219</td><td>49.56435</td><td>0.103516534</td><td>19.572828</td><td>0.0020891554</td><td>65.09076</td><td>0.1379641</td><td>19.269253</td><td>0.0021052195</td><td>75.15591</td><td>0.17002796</td><td>19.0857</td><td>0.0021909366</td><td>83.31577</td><td>0.2728568</td><td>19.03244</td><td>0.003347652</td><td>113.868065</td><td>0.3446041</td><td>18.71587</td><td>0.0031586285</td><td>157.9672</td><td>0.4769312</td><td>18.448553</td><td>0.0034174847</td><td>195.89638</td><td>0.33895028</td><td>18.175728</td><td>0.0018891101</td><td>4.1835747</td><td>0.018451247</td><td>22.410284</td><td>0.0050812396</td><td>0.3321</td><td>0</td><td>nan</td><td>0.32</td><td>2</td><td>9000000000.0</td><td>0.0</td><td>0</td><td>-16.0619</td><td>-22.0296</td><td>-23.12715</td><td>11.03385</td><td>10.99946</td><td>11.07639</td><td>11.08347</td><td>-10.19872</td><td>21.739998</td><td>20.281263</td><td>19.662075</td><td>19.366201</td><td>19.210093</td><td>19.098183</td><td>18.758995</td><td>18.403584</td><td>18.169933</td><td>22.34613</td></tr>\n",
       "<tr><td>1469985</td><td>149.5736736683389</td><td>2.8150949860789085</td><td>8.0544405</td><td>3.5</td><td>22.865242</td><td>0.07626913</td><td>20.505676</td><td>0.0036345418</td><td>43.99751</td><td>0.10770143</td><td>19.710558</td><td>0.0024675997</td><td>58.75722</td><td>0.11220979</td><td>19.388117</td><td>0.0019103267</td><td>76.626434</td><td>0.14876649</td><td>19.09212</td><td>0.0019283363</td><td>76.870255</td><td>0.172768</td><td>19.061224</td><td>0.0021766191</td><td>79.86646</td><td>0.30323192</td><td>19.078358</td><td>0.003881038</td><td>103.812256</td><td>0.42483616</td><td>18.816261</td><td>0.004271262</td><td>131.82176</td><td>0.54981357</td><td>18.645008</td><td>0.0047211545</td><td>155.32909</td><td>0.3935656</td><td>18.427666</td><td>0.0027663899</td><td>14.80098</td><td>0.0210076</td><td>21.038465</td><td>0.0016352829</td><td>0.3126</td><td>0</td><td>nan</td><td>0.3</td><td>7</td><td>1609000000.0</td><td>0.3</td><td>0</td><td>-19.63404</td><td>-21.98517</td><td>-22.76335</td><td>10.43037</td><td>10.37545</td><td>10.53151</td><td>10.38737</td><td>1.21501</td><td>20.50206</td><td>19.79143</td><td>19.477346</td><td>19.189053</td><td>19.185604</td><td>19.144089</td><td>18.859379</td><td>18.600033</td><td>18.421867</td><td>20.974274</td></tr>\n",
       "</table>"
      ],
      "text/plain": [
       "<Table length=723897>\n",
       "   ID           RA                DEC         ... UVISTA_Ks_MAGAB SC_B_MAGAB\n",
       "               deg                deg         ...                           \n",
       " int64       float64            float64       ...     float32      float32  \n",
       "------- ------------------ ------------------ ... --------------- ----------\n",
       " 201293  150.7533320576763 1.6033332639541444 ...             nan  27.173973\n",
       " 201325 150.77495649024627 1.6033965367753042 ...             nan  26.099854\n",
       " 201327  150.7682574751055 1.6032562440823552 ...       24.435972  26.479237\n",
       " 201359  150.7297592622903 1.6034367929494793 ...             nan  26.675116\n",
       " 201439 150.76336010330033 1.6034699757079052 ...       26.654346  26.799892\n",
       " 201544 150.77296988493356 1.6033891423251483 ...        24.84328  25.924883\n",
       " 201553 150.75058195008083  1.603628678894023 ...       24.460003  26.482693\n",
       " 201554 150.72751828976223 1.6036263767970784 ...       27.037971  26.019028\n",
       " 201582 150.69038505398294  1.603710343003035 ...             nan  27.819729\n",
       "    ...                ...                ... ...             ...        ...\n",
       "1465082 149.62571102354048 2.8150655474266837 ...       20.038342  23.798147\n",
       "1465140 149.84014691392602 2.8142086493967464 ...       24.085716  25.397545\n",
       "1465281 150.03982658610428  2.813473099717055 ...       18.773132  22.517614\n",
       "1465347 150.07857125794058 2.8127208104703474 ...       17.750496   21.17231\n",
       "1465685 150.29769039584383  2.809716540419773 ...       19.159761  24.251913\n",
       "1466127  149.8462864675444 2.8082461403934214 ...       21.881147   24.97962\n",
       "1466180 149.45670243351677  2.815314942108483 ...        20.49733  22.400787\n",
       "1466259 149.84463341866575  2.811530944152982 ...        22.67261  24.463251\n",
       "1466817 149.59353173118473 2.8116590947864033 ...       18.169933   22.34613\n",
       "1469985  149.5736736683389 2.8150949860789085 ...       18.421867  20.974274"
      ]
     },
     "execution_count": 26,
     "metadata": {},
     "output_type": "execute_result"
    }
   ],
   "source": [
    "cat"
   ]
  },
  {
   "cell_type": "code",
   "execution_count": 27,
   "metadata": {},
   "outputs": [
    {
     "name": "stdout",
     "output_type": "stream",
     "text": [
      "ID RA DEC FLUX_RADIUS KRON_RADIUS HSC_g_FLUX_APER3 HSC_g_FLUXERR_APER3 HSC_g_MAG_APER3 HSC_g_MAGERR_APER3 HSC_r_FLUX_APER3 HSC_r_FLUXERR_APER3 HSC_r_MAG_APER3 HSC_r_MAGERR_APER3 HSC_i_FLUX_APER3 HSC_i_FLUXERR_APER3 HSC_i_MAG_APER3 HSC_i_MAGERR_APER3 HSC_z_FLUX_APER3 HSC_z_FLUXERR_APER3 HSC_z_MAG_APER3 HSC_z_MAGERR_APER3 HSC_y_FLUX_APER3 HSC_y_FLUXERR_APER3 HSC_y_MAG_APER3 HSC_y_MAGERR_APER3 UVISTA_Y_FLUX_APER3 UVISTA_Y_FLUXERR_APER3 UVISTA_Y_MAG_APER3 UVISTA_Y_MAGERR_APER3 UVISTA_J_FLUX_APER3 UVISTA_J_FLUXERR_APER3 UVISTA_J_MAG_APER3 UVISTA_J_MAGERR_APER3 UVISTA_H_FLUX_APER3 UVISTA_H_FLUXERR_APER3 UVISTA_H_MAG_APER3 UVISTA_H_MAGERR_APER3 UVISTA_Ks_FLUX_APER3 UVISTA_Ks_FLUXERR_APER3 UVISTA_Ks_MAG_APER3 UVISTA_Ks_MAGERR_APER3 SC_B_FLUX_APER3 SC_B_FLUXERR_APER3 SC_B_MAG_APER3 SC_B_MAGERR_APER3 photoz lp_type lp_zp_2 lp_zq lp_model lp_age lp_dust lp_Attenuation lp_MNUV lp_MR lp_MJ lp_mass_med lp_mass_med_min68 lp_mass_med_max68 lp_mass_best lp_SFR_med HSC_g_MAGAB HSC_r_MAGAB HSC_i_MAGAB HSC_z_MAGAB HSC_y_MAGAB UVISTA_Y_MAGAB UVISTA_J_MAGAB UVISTA_H_MAGAB UVISTA_Ks_MAGAB SC_B_MAGAB\n",
      "(1469985, 149.57367367, 2.81509499, 8.0544405, 3.5, 22.865242, 0.07626913, 20.505676, 0.00363454, 43.99751, 0.10770143, 19.710558, 0.0024676, 58.75722, 0.11220979, 19.388117, 0.00191033, 76.626434, 0.14876649, 19.09212, 0.00192834, 76.870255, 0.172768, 19.061224, 0.00217662, 79.86646, 0.30323192, 19.078358, 0.00388104, 103.812256, 0.42483616, 18.816261, 0.00427126, 131.82176, 0.54981357, 18.645008, 0.00472115, 155.32909, 0.3935656, 18.427666, 0.00276639, 14.80098, 0.0210076, 21.038465, 0.00163528, 0.3126, 0, nan, 0.3, 7, 1.609e+09, 0.3, 0, -19.63404, -21.98517, -22.76335, 10.43037, 10.37545, 10.53151, 10.38737, 1.21501, 20.50206, 19.79143, 19.477346, 19.189053, 19.185604, 19.144089, 18.859379, 18.600033, 18.421867, 20.974274)\n"
     ]
    }
   ],
   "source": [
    "n_data = len(cat)\n",
    "column_names = cat.colnames\n",
    "header = \" \"\n",
    "header = header.join(column_names)\n",
    "print(header)\n",
    "print(np.array(cat)[n_data-1])\n",
    "np.savetxt('/Users/philipp/Documents/PhD/Data/COSMOS2020_Classic_processed.cat', np.array(cat), header=header)"
   ]
  },
  {
   "cell_type": "code",
   "execution_count": null,
   "metadata": {},
   "outputs": [],
   "source": [
    "# prepare a reduced catalogue for eazy tests\n",
    "# 2000 objects randomly selected\n",
    "indices = np.random.choice(len(cat), size=2000, replace=False)\n",
    "cat_reduced = cat[indices]\n",
    "cat_reduced.write(dir_out+f'COSMOS2020_{catversion}_processed_reduced.fits',overwrite=True)"
   ]
  },
  {
   "cell_type": "code",
   "execution_count": null,
   "metadata": {},
   "outputs": [],
   "source": []
  }
 ],
 "metadata": {
  "kernelspec": {
   "display_name": "Python 3",
   "language": "python",
   "name": "python3"
  },
  "language_info": {
   "codemirror_mode": {
    "name": "ipython",
    "version": 3
   },
   "file_extension": ".py",
   "mimetype": "text/x-python",
   "name": "python",
   "nbconvert_exporter": "python",
   "pygments_lexer": "ipython3",
   "version": "3.7.3"
  }
 },
 "nbformat": 4,
 "nbformat_minor": 2
}
