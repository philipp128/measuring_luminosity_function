{
 "cells": [
  {
   "cell_type": "markdown",
   "metadata": {},
   "source": [
    "I try to reproduce the notebook from https://colab.research.google.com/github/gbrammer/eazy-py/blob/master/docs/examples/HDFN-demo.ipynb#scrollTo=-fcqHKo4-HU-"
   ]
  },
  {
   "cell_type": "code",
   "execution_count": 1,
   "metadata": {},
   "outputs": [
    {
     "name": "stdout",
     "output_type": "stream",
     "text": [
      "Fri Feb 10 10:29:10 2023\n",
      "\n",
      "3.7.3 (default, Mar 27 2019, 22:11:17) \n",
      "[GCC 7.3.0]\n",
      "\n",
      "               numpy : 1.21.6\n",
      "               scipy : 1.7.3\n",
      "          matplotlib : 3.5.3\n",
      "             astropy : 4.3.1\n",
      "                eazy : 0.6.3\n",
      "            prospect : 1.1.0\n"
     ]
    }
   ],
   "source": [
    "import importlib\n",
    "import sys\n",
    "import time\n",
    "import scipy\n",
    "print(time.ctime() + '\\n')\n",
    "\n",
    "print(sys.version + '\\n')\n",
    "\n",
    "for module in ['numpy', 'scipy', 'matplotlib','astropy','eazy', 'prospect']:\n",
    "    #print(module)\n",
    "    mod = importlib.import_module(module)\n",
    "    print('{0:>20} : {1}'.format(module, mod.__version__))"
   ]
  },
  {
   "cell_type": "code",
   "execution_count": 2,
   "metadata": {},
   "outputs": [],
   "source": [
    "import os\n",
    "import numpy as np\n",
    "import matplotlib.pyplot as plt\n",
    "\n",
    "import eazy\n",
    "\n",
    "# Symlink templates & filters from the eazy-code repository\n",
    "try:\n",
    "    print('EAZYCODE = '+os.getenv('EAZYCODE'))\n",
    "except:\n",
    "    pass\n",
    "\n",
    "if not os.path.exists('templates'):\n",
    "    eazy.symlink_eazy_inputs() "
   ]
  },
  {
   "cell_type": "code",
   "execution_count": 3,
   "metadata": {},
   "outputs": [],
   "source": [
    "# quiet numpy/astropy warnings\n",
    "import warnings\n",
    "from astropy.utils.exceptions import AstropyWarning\n",
    "\n",
    "np.seterr(all='ignore')\n",
    "warnings.simplefilter('ignore', category=AstropyWarning)"
   ]
  },
  {
   "cell_type": "code",
   "execution_count": 6,
   "metadata": {},
   "outputs": [],
   "source": [
    "parameter_file = '/Users/philipp/Documents/PhD/lum_func_measurement/params_cosmos_data.txt'\n",
    "translate_file = '/Users/philipp/Documents/PhD/lum_func_measurement/translate.txt'\n",
    "# translate_farmer_file = '/Users/philipp/Documents/PhD/lum_func_measurement/translate_farmer.txt'\n",
    "\n",
    "# on lustre\n",
    "parameter_file = 'parameters_sciama.txt'\n",
    "translate_file = 'translate.txt'"
   ]
  },
  {
   "cell_type": "code",
   "execution_count": 7,
   "metadata": {},
   "outputs": [
    {
     "name": "stdout",
     "output_type": "stream",
     "text": [
      "Read default param file: parameters_sciama.txt\n",
      "Read CATALOG_FILE: /mnt/lustre/psudek/data/COSMOS2020_Classic_processed.fits\n",
      "   >>> NOBJ = 723897\n",
      "HSC_g_FLUX_APER3 HSC_g_FLUXERR_APER3 (314): g_HSC.txt\n",
      "HSC_r_FLUX_APER3 HSC_r_FLUXERR_APER3 (315): r_HSC.txt\n",
      "HSC_i_FLUX_APER3 HSC_i_FLUXERR_APER3 (316): i_HSC.txt\n",
      "HSC_z_FLUX_APER3 HSC_z_FLUXERR_APER3 (317): z_HSC.txt\n",
      "HSC_y_FLUX_APER3 HSC_y_FLUXERR_APER3 (318): y_HSC.txt\n",
      "UVISTA_Y_FLUX_APER3 UVISTA_Y_FLUXERR_APER3 (256): VISTA/Y_system+atmos.dat\n",
      "UVISTA_J_FLUX_APER3 UVISTA_J_FLUXERR_APER3 (257): VISTA/J_system+atmos.dat\n",
      "UVISTA_H_FLUX_APER3 UVISTA_H_FLUXERR_APER3 (258): VISTA/H_system+atmos.dat\n",
      "UVISTA_Ks_FLUX_APER3 UVISTA_Ks_FLUXERR_APER3 (259): VISTA/Ks_system+atmos.dat\n",
      "SC_B_FLUX_APER3 SC_B_FLUXERR_APER3 ( 78): COSMOS/SUBARU_filter_B.txt\n",
      "Set sys_err = 0.01 (positive=True)\n",
      "Read PRIOR_FILE:  templates/prior_R_extend.dat\n",
      "Template grid: templates/br07_default_sciama.spectra.param (this may take some time)\n"
     ]
    },
    {
     "name": "stderr",
     "output_type": "stream",
     "text": [
      "100%|██████████| 5/5 [03:08<00:00, 37.75s/it] \n"
     ]
    },
    {
     "name": "stdout",
     "output_type": "stream",
     "text": [
      "Template   0: default_sed1_ext.dat (NZ=1).\n",
      "Template   1: default_sed2_ext.dat (NZ=1).\n",
      "Template   2: default_sed3_ext.dat (NZ=1).\n",
      "Template   3: default_sed4_ext.dat (NZ=1).\n",
      "Template   4: default_sed5_ext.dat (NZ=1).\n",
      "Process templates: 195.402 s\n"
     ]
    },
    {
     "name": "stderr",
     "output_type": "stream",
     "text": [
      "239it [01:54,  2.09it/s]\n"
     ]
    }
   ],
   "source": [
    "self = eazy.photoz.PhotoZ(param_file=parameter_file, translate_file=translate_file, zeropoint_file=None, \n",
    "                          load_prior=True, load_products=False)"
   ]
  },
  {
   "cell_type": "code",
   "execution_count": 8,
   "metadata": {},
   "outputs": [
    {
     "name": "stdout",
     "output_type": "stream",
     "text": [
      "[[ 2.3071074   2.0556443   2.4971995  ...  0.18547922 -0.7291422\n",
      "   2.6485124 ]\n",
      " [13.603112   11.598248    9.15278    ...  0.20177317 -0.73757553\n",
      "   6.8556175 ]\n",
      " [ 8.727976    7.279141   10.185422   ... -0.4787766   1.5531259\n",
      "   5.318984  ]\n",
      " ...\n",
      " [39.37348    39.768265   41.456326   ... 20.88103    18.152342\n",
      "  36.84423   ]\n",
      " [85.538345   95.54968    97.88787    ... 95.73195    98.53591\n",
      "  91.496376  ]\n",
      " [94.8619     97.13216    98.22489    ... 92.29385    96.93678\n",
      "  99.00771   ]]\n",
      "[ 6  7  8 ... 10 10 10]\n",
      "[ 6  7  8 ... 10 10 10]\n"
     ]
    }
   ],
   "source": [
    "sn = self.fnu/self.efnu\n",
    "clip = (sn > 1).sum(axis=1)\n",
    "print(sn)\n",
    "print(clip)\n",
    "print(self.idx[clip])"
   ]
  },
  {
   "cell_type": "code",
   "execution_count": 9,
   "metadata": {},
   "outputs": [
    {
     "name": "stdout",
     "output_type": "stream",
     "text": [
      "(723897, 10)\n",
      "[[0.01288619 0.0182228  0.02275878 ... 0.65139097 0.3776975  0.0185101 ]\n",
      " [0.01376367 0.01965206 0.02418539 ... 0.8454549  0.4396045  0.01923144]\n",
      " [0.01378414 0.01867822 0.02438749 ... 0.7092799  0.39301056 0.0174774 ]\n",
      " ...\n",
      " [0.01747203 0.02021389 0.02126677 ... 0.11803675 0.17061749 0.01615586]\n",
      " [0.08547522 0.29326853 0.506338   ... 1.650099   1.988071   0.04572394]\n",
      " [0.24103715 0.45296544 0.5981907  ... 1.4282832  1.6023751  0.1494932 ]]\n"
     ]
    }
   ],
   "source": [
    "print(self.fnu.shape)\n",
    "print(self.efnu)"
   ]
  },
  {
   "cell_type": "code",
   "execution_count": 10,
   "metadata": {},
   "outputs": [
    {
     "name": "stdout",
     "output_type": "stream",
     "text": [
      "g_HSC.txt http://cosmos.astro.caltech.edu/page/filterset lambda_c=4798.2 AB-Vega=-0.089\n",
      "['HSC_g_FLUX_APER3', 'HSC_r_FLUX_APER3', 'HSC_i_FLUX_APER3', 'HSC_z_FLUX_APER3', 'HSC_y_FLUX_APER3', 'UVISTA_Y_FLUX_APER3', 'UVISTA_J_FLUX_APER3', 'UVISTA_H_FLUX_APER3', 'UVISTA_Ks_FLUX_APER3', 'SC_B_FLUX_APER3']\n",
      "['HSC_g_FLUXERR_APER3', 'HSC_r_FLUXERR_APER3', 'HSC_i_FLUXERR_APER3', 'HSC_z_FLUXERR_APER3', 'HSC_y_FLUXERR_APER3', 'UVISTA_Y_FLUXERR_APER3', 'UVISTA_J_FLUXERR_APER3', 'UVISTA_H_FLUXERR_APER3', 'UVISTA_Ks_FLUXERR_APER3', 'SC_B_FLUXERR_APER3']\n",
      "[314 315 316 317 318 256 257 258 259  78]\n",
      "10\n",
      "HSC_g_FLUX_APER3\n",
      "      uJy       \n",
      "----------------\n",
      "     0.029729823\n",
      "      0.18722874\n",
      "     0.120307654\n",
      "      0.07510333\n",
      "      0.08674096\n",
      "      0.18743107\n",
      "     0.053674363\n",
      "      0.15295479\n",
      "      0.02408235\n",
      "      0.04058892\n",
      "             ...\n",
      "       1.7151455\n",
      "       0.2804805\n",
      "       5.9748597\n",
      "       23.060568\n",
      "       1.4368715\n",
      "      0.41040614\n",
      "       5.9635944\n",
      "      0.68793446\n",
      "        7.311409\n",
      "       22.865242\n",
      "Length = 723897 rows\n",
      "[[ True  True  True ...  True  True  True]\n",
      " [ True  True  True ...  True  True  True]\n",
      " [ True  True  True ...  True  True  True]\n",
      " ...\n",
      " [ True  True  True ...  True  True  True]\n",
      " [ True  True  True ...  True  True  True]\n",
      " [ True  True  True ...  True  True  True]]\n"
     ]
    }
   ],
   "source": [
    "print(self.RES[314])\n",
    "print(self.flux_columns)\n",
    "print(self.err_columns)\n",
    "print(self.f_numbers)\n",
    "print(self.NFILT)\n",
    "print(self.cat['HSC_g_FLUX_APER3'])\n",
    "print(self.ok_data)"
   ]
  },
  {
   "cell_type": "code",
   "execution_count": 11,
   "metadata": {},
   "outputs": [
    {
     "name": "stdout",
     "output_type": "stream",
     "text": [
      "NBIN:  180\n",
      "NOBJ:  723897\n",
      "7238\n",
      "Iteration:  0\n"
     ]
    },
    {
     "name": "stderr",
     "output_type": "stream",
     "text": [
      "  1%|▏         | 3/239 [17:52<22:48:31, 347.93s/it]"
     ]
    },
    {
     "name": "stdout",
     "output_type": "stream",
     "text": [
      "\n",
      " NNLS quitting on iteration count.\n"
     ]
    },
    {
     "name": "stderr",
     "output_type": "stream",
     "text": [
      "\r",
      "  2%|▏         | 4/239 [25:50<26:04:08, 399.35s/it]"
     ]
    },
    {
     "name": "stdout",
     "output_type": "stream",
     "text": [
      "\n",
      " NNLS quitting on iteration count.\n",
      "\n",
      " NNLS quitting on iteration count.\n",
      "\n",
      " NNLS quitting on iteration count.\n",
      "\n",
      " NNLS quitting on iteration count.\n"
     ]
    },
    {
     "name": "stderr",
     "output_type": "stream",
     "text": [
      "\r",
      "  2%|▏         | 5/239 [33:12<26:58:00, 414.87s/it]"
     ]
    },
    {
     "name": "stdout",
     "output_type": "stream",
     "text": [
      "\n",
      " NNLS quitting on iteration count.\n",
      "\n",
      " NNLS quitting on iteration count.\n",
      "\n",
      " NNLS quitting on iteration count.\n",
      "\n",
      " NNLS quitting on iteration count.\n",
      "\n",
      " NNLS quitting on iteration count.\n",
      "\n",
      " NNLS quitting on iteration count.\n",
      "\n",
      " NNLS quitting on iteration count.\n",
      "\n",
      " NNLS quitting on iteration count.\n",
      "\n",
      " NNLS quitting on iteration count.\n",
      "\n",
      " NNLS quitting on iteration count.\n",
      "\n",
      " NNLS quitting on iteration count.\n",
      "\n",
      " NNLS quitting on iteration count.\n",
      "\n",
      " NNLS quitting on iteration count.\n",
      "\n",
      " NNLS quitting on iteration count.\n",
      "\n",
      " NNLS quitting on iteration count.\n",
      "\n",
      " NNLS quitting on iteration count.\n",
      "\n",
      " NNLS quitting on iteration count.\n",
      "\n",
      " NNLS quitting on iteration count.\n",
      "\n",
      " NNLS quitting on iteration count.\n",
      "\n",
      " NNLS quitting on iteration count.\n",
      "\n",
      " NNLS quitting on iteration count.\n",
      "\n",
      " NNLS quitting on iteration count.\n",
      "\n",
      " NNLS quitting on iteration count.\n",
      "\n",
      " NNLS quitting on iteration count.\n",
      "\n",
      " NNLS quitting on iteration count.\n",
      "\n",
      " NNLS quitting on iteration count.\n",
      "\n",
      " NNLS quitting on iteration count.\n",
      "\n",
      " NNLS quitting on iteration count.\n",
      "\n",
      " NNLS quitting on iteration count.\n",
      "\n",
      " NNLS quitting on iteration count.\n",
      "\n",
      " NNLS quitting on iteration count.\n",
      "\n",
      " NNLS quitting on iteration count.\n",
      "\n",
      " NNLS quitting on iteration count.\n",
      "\n",
      " NNLS quitting on iteration count.\n",
      "\n",
      " NNLS quitting on iteration count.\n",
      "\n",
      " NNLS quitting on iteration count.\n",
      "\n",
      " NNLS quitting on iteration count.\n",
      "\n",
      " NNLS quitting on iteration count.\n"
     ]
    },
    {
     "name": "stderr",
     "output_type": "stream",
     "text": [
      "\r",
      "  3%|▎         | 6/239 [40:24<27:13:34, 420.66s/it]"
     ]
    },
    {
     "name": "stdout",
     "output_type": "stream",
     "text": [
      "\n",
      " NNLS quitting on iteration count.\n",
      "\n",
      " NNLS quitting on iteration count.\n",
      "\n",
      " NNLS quitting on iteration count.\n",
      "\n",
      " NNLS quitting on iteration count.\n",
      "\n",
      " NNLS quitting on iteration count.\n",
      "\n",
      " NNLS quitting on iteration count.\n",
      "\n",
      " NNLS quitting on iteration count.\n",
      "\n",
      " NNLS quitting on iteration count.\n",
      "\n",
      " NNLS quitting on iteration count.\n",
      "\n",
      " NNLS quitting on iteration count.\n",
      "\n",
      " NNLS quitting on iteration count.\n",
      "\n",
      " NNLS quitting on iteration count.\n",
      "\n",
      " NNLS quitting on iteration count.\n",
      "\n",
      " NNLS quitting on iteration count.\n",
      "\n",
      " NNLS quitting on iteration count.\n"
     ]
    },
    {
     "name": "stderr",
     "output_type": "stream",
     "text": [
      "\r",
      "  3%|▎         | 7/239 [47:09<26:46:07, 415.38s/it]"
     ]
    },
    {
     "name": "stdout",
     "output_type": "stream",
     "text": [
      "\n",
      " NNLS quitting on iteration count.\n",
      "\n",
      " NNLS quitting on iteration count.\n",
      "\n",
      " NNLS quitting on iteration count.\n",
      "\n",
      " NNLS quitting on iteration count.\n",
      "\n",
      " NNLS quitting on iteration count.\n",
      "\n",
      " NNLS quitting on iteration count.\n",
      "\n",
      " NNLS quitting on iteration count.\n",
      "\n",
      " NNLS quitting on iteration count.\n",
      "\n",
      " NNLS quitting on iteration count.\n",
      "\n",
      " NNLS quitting on iteration count.\n",
      "\n",
      " NNLS quitting on iteration count.\n",
      "\n",
      " NNLS quitting on iteration count.\n",
      "\n",
      " NNLS quitting on iteration count.\n"
     ]
    },
    {
     "name": "stderr",
     "output_type": "stream",
     "text": [
      "\r",
      "  3%|▎         | 8/239 [55:10<28:00:15, 436.43s/it]"
     ]
    },
    {
     "name": "stdout",
     "output_type": "stream",
     "text": [
      "\n",
      " NNLS quitting on iteration count.\n",
      "\n",
      " NNLS quitting on iteration count.\n",
      "\n",
      " NNLS quitting on iteration count.\n",
      "\n",
      " NNLS quitting on iteration count.\n",
      "\n",
      " NNLS quitting on iteration count.\n",
      "\n",
      " NNLS quitting on iteration count.\n",
      "\n",
      " NNLS quitting on iteration count.\n",
      "\n",
      " NNLS quitting on iteration count.\n",
      "\n",
      " NNLS quitting on iteration count.\n",
      "\n",
      " NNLS quitting on iteration count.\n",
      "\n",
      " NNLS quitting on iteration count.\n",
      "\n",
      " NNLS quitting on iteration count.\n",
      "\n",
      " NNLS quitting on iteration count.\n",
      "\n",
      " NNLS quitting on iteration count.\n",
      "\n",
      " NNLS quitting on iteration count.\n",
      "\n",
      " NNLS quitting on iteration count.\n",
      "\n",
      " NNLS quitting on iteration count.\n",
      "\n",
      " NNLS quitting on iteration count.\n",
      "\n",
      " NNLS quitting on iteration count.\n",
      "\n",
      " NNLS quitting on iteration count.\n",
      "\n",
      " NNLS quitting on iteration count.\n"
     ]
    },
    {
     "name": "stderr",
     "output_type": "stream",
     "text": [
      "\r",
      "  4%|▍         | 9/239 [1:04:27<30:17:14, 474.06s/it]"
     ]
    },
    {
     "name": "stdout",
     "output_type": "stream",
     "text": [
      "\n",
      " NNLS quitting on iteration count.\n",
      "\n",
      " NNLS quitting on iteration count.\n",
      "\n",
      " NNLS quitting on iteration count.\n",
      "\n",
      " NNLS quitting on iteration count.\n",
      "\n",
      " NNLS quitting on iteration count.\n",
      "\n",
      " NNLS quitting on iteration count.\n",
      "\n",
      " NNLS quitting on iteration count.\n",
      "\n",
      " NNLS quitting on iteration count.\n",
      "\n",
      " NNLS quitting on iteration count.\n",
      "\n",
      " NNLS quitting on iteration count.\n",
      "\n",
      " NNLS quitting on iteration count.\n",
      "\n",
      " NNLS quitting on iteration count.\n",
      "\n",
      " NNLS quitting on iteration count.\n",
      "\n",
      " NNLS quitting on iteration count.\n",
      "\n",
      " NNLS quitting on iteration count.\n"
     ]
    },
    {
     "name": "stderr",
     "output_type": "stream",
     "text": [
      "\r",
      "  4%|▍         | 10/239 [1:12:09<29:55:15, 470.37s/it]"
     ]
    },
    {
     "name": "stdout",
     "output_type": "stream",
     "text": [
      "\n",
      " NNLS quitting on iteration count.\n",
      "\n",
      " NNLS quitting on iteration count.\n",
      "\n",
      " NNLS quitting on iteration count.\n",
      "\n",
      " NNLS quitting on iteration count.\n",
      "\n",
      " NNLS quitting on iteration count.\n",
      "\n",
      " NNLS quitting on iteration count.\n",
      "\n",
      " NNLS quitting on iteration count.\n",
      "\n",
      " NNLS quitting on iteration count.\n",
      "\n",
      " NNLS quitting on iteration count.\n",
      "\n",
      " NNLS quitting on iteration count.\n",
      "\n",
      " NNLS quitting on iteration count.\n",
      "\n",
      " NNLS quitting on iteration count.\n",
      "\n",
      " NNLS quitting on iteration count.\n"
     ]
    },
    {
     "name": "stderr",
     "output_type": "stream",
     "text": [
      "\r",
      "  5%|▍         | 11/239 [1:23:06<33:24:19, 527.46s/it]"
     ]
    },
    {
     "name": "stdout",
     "output_type": "stream",
     "text": [
      "\n",
      " NNLS quitting on iteration count.\n"
     ]
    },
    {
     "name": "stderr",
     "output_type": "stream",
     "text": [
      "Process ForkPoolWorker-33:\n",
      "Traceback (most recent call last):\n",
      "  File \"/opt/apps/pkgs/anaconda3/2019.03/intel64/lib/python3.7/multiprocessing/process.py\", line 297, in _bootstrap\n",
      "    self.run()\n",
      "  File \"/opt/apps/pkgs/anaconda3/2019.03/intel64/lib/python3.7/multiprocessing/process.py\", line 99, in run\n",
      "    self._target(*self._args, **self._kwargs)\n",
      "  File \"/opt/apps/pkgs/anaconda3/2019.03/intel64/lib/python3.7/multiprocessing/pool.py\", line 110, in worker\n",
      "    task = get()\n",
      "  File \"/opt/apps/pkgs/anaconda3/2019.03/intel64/lib/python3.7/multiprocessing/queues.py\", line 351, in get\n",
      "    with self._rlock:\n",
      "  File \"/opt/apps/pkgs/anaconda3/2019.03/intel64/lib/python3.7/multiprocessing/synchronize.py\", line 95, in __enter__\n",
      "    return self._semlock.__enter__()\n",
      "KeyboardInterrupt\n",
      "\n",
      "During handling of the above exception, another exception occurred:\n",
      "\n",
      "Traceback (most recent call last):\n",
      "  File \"/opt/apps/pkgs/anaconda3/2019.03/intel64/lib/python3.7/multiprocessing/process.py\", line 300, in _bootstrap\n",
      "    util._exit_function()\n",
      "  File \"/opt/apps/pkgs/anaconda3/2019.03/intel64/lib/python3.7/multiprocessing/util.py\", line 299, in _exit_function\n",
      "    _run_finalizers(0)\n",
      "  File \"/opt/apps/pkgs/anaconda3/2019.03/intel64/lib/python3.7/multiprocessing/util.py\", line 233, in _run_finalizers\n",
      "    def _run_finalizers(minpriority=None):\n",
      "KeyboardInterrupt\n",
      "Process ForkPoolWorker-23:\n",
      "Process ForkPoolWorker-22:\n",
      "Process ForkPoolWorker-26:\n",
      "Process ForkPoolWorker-24:\n",
      "Process ForkPoolWorker-21:\n",
      "Traceback (most recent call last):\n",
      "Traceback (most recent call last):\n",
      "Traceback (most recent call last):\n",
      "Traceback (most recent call last):\n",
      "  File \"/opt/apps/pkgs/anaconda3/2019.03/intel64/lib/python3.7/multiprocessing/process.py\", line 297, in _bootstrap\n",
      "    self.run()\n",
      "  File \"/opt/apps/pkgs/anaconda3/2019.03/intel64/lib/python3.7/multiprocessing/process.py\", line 297, in _bootstrap\n",
      "    self.run()\n",
      "  File \"/opt/apps/pkgs/anaconda3/2019.03/intel64/lib/python3.7/multiprocessing/process.py\", line 297, in _bootstrap\n",
      "    self.run()\n",
      "Traceback (most recent call last):\n",
      "  File \"/opt/apps/pkgs/anaconda3/2019.03/intel64/lib/python3.7/multiprocessing/process.py\", line 297, in _bootstrap\n",
      "    self.run()\n",
      "  File \"/opt/apps/pkgs/anaconda3/2019.03/intel64/lib/python3.7/multiprocessing/process.py\", line 99, in run\n",
      "    self._target(*self._args, **self._kwargs)\n",
      "  File \"/opt/apps/pkgs/anaconda3/2019.03/intel64/lib/python3.7/multiprocessing/process.py\", line 99, in run\n",
      "    self._target(*self._args, **self._kwargs)\n",
      "  File \"/opt/apps/pkgs/anaconda3/2019.03/intel64/lib/python3.7/multiprocessing/process.py\", line 99, in run\n",
      "    self._target(*self._args, **self._kwargs)\n",
      "  File \"/opt/apps/pkgs/anaconda3/2019.03/intel64/lib/python3.7/multiprocessing/process.py\", line 99, in run\n",
      "    self._target(*self._args, **self._kwargs)\n",
      "  File \"/opt/apps/pkgs/anaconda3/2019.03/intel64/lib/python3.7/multiprocessing/process.py\", line 297, in _bootstrap\n",
      "    self.run()\n",
      "  File \"/opt/apps/pkgs/anaconda3/2019.03/intel64/lib/python3.7/multiprocessing/process.py\", line 99, in run\n",
      "    self._target(*self._args, **self._kwargs)\n",
      "  File \"/opt/apps/pkgs/anaconda3/2019.03/intel64/lib/python3.7/multiprocessing/pool.py\", line 110, in worker\n",
      "    task = get()\n",
      "  File \"/opt/apps/pkgs/anaconda3/2019.03/intel64/lib/python3.7/multiprocessing/pool.py\", line 110, in worker\n",
      "    task = get()\n",
      "  File \"/opt/apps/pkgs/anaconda3/2019.03/intel64/lib/python3.7/multiprocessing/pool.py\", line 110, in worker\n",
      "    task = get()\n",
      "  File \"/opt/apps/pkgs/anaconda3/2019.03/intel64/lib/python3.7/multiprocessing/pool.py\", line 110, in worker\n",
      "    task = get()\n",
      "  File \"/opt/apps/pkgs/anaconda3/2019.03/intel64/lib/python3.7/multiprocessing/queues.py\", line 351, in get\n",
      "    with self._rlock:\n",
      "  File \"/opt/apps/pkgs/anaconda3/2019.03/intel64/lib/python3.7/multiprocessing/queues.py\", line 351, in get\n",
      "    with self._rlock:\n",
      "  File \"/opt/apps/pkgs/anaconda3/2019.03/intel64/lib/python3.7/multiprocessing/queues.py\", line 351, in get\n",
      "    with self._rlock:\n",
      "  File \"/opt/apps/pkgs/anaconda3/2019.03/intel64/lib/python3.7/multiprocessing/queues.py\", line 351, in get\n",
      "    with self._rlock:\n",
      "  File \"/opt/apps/pkgs/anaconda3/2019.03/intel64/lib/python3.7/multiprocessing/synchronize.py\", line 95, in __enter__\n",
      "    return self._semlock.__enter__()\n",
      "  File \"/opt/apps/pkgs/anaconda3/2019.03/intel64/lib/python3.7/multiprocessing/synchronize.py\", line 95, in __enter__\n",
      "    return self._semlock.__enter__()\n",
      "  File \"/opt/apps/pkgs/anaconda3/2019.03/intel64/lib/python3.7/multiprocessing/synchronize.py\", line 95, in __enter__\n",
      "    return self._semlock.__enter__()\n",
      "  File \"/opt/apps/pkgs/anaconda3/2019.03/intel64/lib/python3.7/multiprocessing/synchronize.py\", line 95, in __enter__\n",
      "    return self._semlock.__enter__()\n",
      "KeyboardInterrupt\n",
      "  5%|▍         | 11/239 [1:31:16<31:31:50, 497.85s/it]  File \"/opt/apps/pkgs/anaconda3/2019.03/intel64/lib/python3.7/multiprocessing/pool.py\", line 110, in worker\n",
      "    task = get()\n",
      "  File \"/opt/apps/pkgs/anaconda3/2019.03/intel64/lib/python3.7/multiprocessing/queues.py\", line 351, in get\n",
      "    with self._rlock:\n",
      "  File \"/opt/apps/pkgs/anaconda3/2019.03/intel64/lib/python3.7/multiprocessing/synchronize.py\", line 95, in __enter__\n",
      "    return self._semlock.__enter__()\n",
      "KeyboardInterrupt\n",
      "KeyboardInterrupt\n",
      "KeyboardInterrupt\n",
      "KeyboardInterrupt\n",
      "\n"
     ]
    },
    {
     "ename": "KeyboardInterrupt",
     "evalue": "",
     "output_type": "error",
     "traceback": [
      "\u001b[0;31m---------------------------------------------------------------------------\u001b[0m",
      "\u001b[0;31mKeyboardInterrupt\u001b[0m                         Traceback (most recent call last)",
      "\u001b[0;32m/tmp/ipykernel_11042/2104751831.py\u001b[0m in \u001b[0;36m<module>\u001b[0;34m\u001b[0m\n\u001b[1;32m     14\u001b[0m                               \u001b[0mupdate_zeropoints\u001b[0m\u001b[0;34m=\u001b[0m\u001b[0;32mTrue\u001b[0m\u001b[0;34m,\u001b[0m \u001b[0miter\u001b[0m\u001b[0;34m=\u001b[0m\u001b[0miter\u001b[0m\u001b[0;34m,\u001b[0m \u001b[0mn_proc\u001b[0m\u001b[0;34m=\u001b[0m\u001b[0;36m6\u001b[0m\u001b[0;34m,\u001b[0m\u001b[0;34m\u001b[0m\u001b[0;34m\u001b[0m\u001b[0m\n\u001b[1;32m     15\u001b[0m                               \u001b[0msave_templates\u001b[0m\u001b[0;34m=\u001b[0m\u001b[0;32mFalse\u001b[0m\u001b[0;34m,\u001b[0m \u001b[0merror_residuals\u001b[0m\u001b[0;34m=\u001b[0m\u001b[0;32mFalse\u001b[0m\u001b[0;34m,\u001b[0m\u001b[0;34m\u001b[0m\u001b[0;34m\u001b[0m\u001b[0m\n\u001b[0;32m---> 16\u001b[0;31m                               NBIN=NBIN, get_spatial_offset=False)\n\u001b[0m",
      "\u001b[0;32m~/virtual_environments/eazy_env/lib/python3.7/site-packages/eazy/photoz.py\u001b[0m in \u001b[0;36miterate_zp_templates\u001b[0;34m(self, idx, update_templates, update_zeropoints, iter, n_proc, save_templates, error_residuals, prior, get_spatial_offset, spatial_offset_keys, **kwargs)\u001b[0m\n\u001b[1;32m   1342\u001b[0m         \u001b[0mIterative\u001b[0m \u001b[0mdetemination\u001b[0m \u001b[0mof\u001b[0m \u001b[0mzeropoint\u001b[0m \u001b[0mcorrections\u001b[0m\u001b[0;34m\u001b[0m\u001b[0;34m\u001b[0m\u001b[0m\n\u001b[1;32m   1343\u001b[0m         \"\"\"\n\u001b[0;32m-> 1344\u001b[0;31m         \u001b[0mself\u001b[0m\u001b[0;34m.\u001b[0m\u001b[0mfit_catalog\u001b[0m\u001b[0;34m(\u001b[0m\u001b[0midx\u001b[0m\u001b[0;34m=\u001b[0m\u001b[0midx\u001b[0m\u001b[0;34m,\u001b[0m \u001b[0mn_proc\u001b[0m\u001b[0;34m=\u001b[0m\u001b[0mn_proc\u001b[0m\u001b[0;34m,\u001b[0m \u001b[0mprior\u001b[0m\u001b[0;34m=\u001b[0m\u001b[0mprior\u001b[0m\u001b[0;34m)\u001b[0m\u001b[0;34m\u001b[0m\u001b[0;34m\u001b[0m\u001b[0m\n\u001b[0m\u001b[1;32m   1345\u001b[0m         \u001b[0;32mif\u001b[0m \u001b[0merror_residuals\u001b[0m\u001b[0;34m:\u001b[0m\u001b[0;34m\u001b[0m\u001b[0;34m\u001b[0m\u001b[0m\n\u001b[1;32m   1346\u001b[0m             \u001b[0mself\u001b[0m\u001b[0;34m.\u001b[0m\u001b[0merror_residuals\u001b[0m\u001b[0;34m(\u001b[0m\u001b[0;34m)\u001b[0m\u001b[0;34m\u001b[0m\u001b[0;34m\u001b[0m\u001b[0m\n",
      "\u001b[0;32m~/virtual_environments/eazy_env/lib/python3.7/site-packages/eazy/photoz.py\u001b[0m in \u001b[0;36mfit_catalog\u001b[0;34m(self, idx, n_proc, verbose, get_best_fit, prior, beta_prior, fitter, **kwargs)\u001b[0m\n\u001b[1;32m   1620\u001b[0m                 \u001b[0miz\u001b[0m\u001b[0;34m,\u001b[0m \u001b[0mchi2\u001b[0m\u001b[0;34m,\u001b[0m \u001b[0mcoeffs\u001b[0m \u001b[0;34m=\u001b[0m \u001b[0mres\u001b[0m\u001b[0;34m.\u001b[0m\u001b[0mget\u001b[0m\u001b[0;34m(\u001b[0m\u001b[0mtimeout\u001b[0m\u001b[0;34m=\u001b[0m\u001b[0mMULTIPROCESSING_TIMEOUT\u001b[0m\u001b[0;34m)\u001b[0m\u001b[0;34m\u001b[0m\u001b[0;34m\u001b[0m\u001b[0m\n\u001b[1;32m   1621\u001b[0m                 \u001b[0mself\u001b[0m\u001b[0;34m.\u001b[0m\u001b[0mchi2_fit\u001b[0m\u001b[0;34m[\u001b[0m\u001b[0midx_fit\u001b[0m\u001b[0;34m,\u001b[0m\u001b[0miz\u001b[0m\u001b[0;34m]\u001b[0m \u001b[0;34m=\u001b[0m \u001b[0mchi2\u001b[0m\u001b[0;34m\u001b[0m\u001b[0;34m\u001b[0m\u001b[0m\n\u001b[0;32m-> 1622\u001b[0;31m                 \u001b[0mself\u001b[0m\u001b[0;34m.\u001b[0m\u001b[0mfit_coeffs\u001b[0m\u001b[0;34m[\u001b[0m\u001b[0midx_fit\u001b[0m\u001b[0;34m,\u001b[0m\u001b[0miz\u001b[0m\u001b[0;34m,\u001b[0m\u001b[0;34m:\u001b[0m\u001b[0;34m]\u001b[0m \u001b[0;34m=\u001b[0m \u001b[0mcoeffs\u001b[0m\u001b[0;34m\u001b[0m\u001b[0;34m\u001b[0m\u001b[0m\n\u001b[0m\u001b[1;32m   1623\u001b[0m \u001b[0;34m\u001b[0m\u001b[0m\n\u001b[1;32m   1624\u001b[0m         \u001b[0;31m# Compute maximum likelihood redshift zml\u001b[0m\u001b[0;34m\u001b[0m\u001b[0;34m\u001b[0m\u001b[0;34m\u001b[0m\u001b[0m\n",
      "\u001b[0;31mKeyboardInterrupt\u001b[0m: "
     ]
    }
   ],
   "source": [
    "NITER = 3\n",
    "NBIN = np.minimum(self.NOBJ//100, 180)\n",
    "print('NBIN: ', NBIN)\n",
    "print('NOBJ: ', self.NOBJ)\n",
    "print(self.NOBJ//100)\n",
    "\n",
    "self.param.params['VERBOSITY'] = 1.\n",
    "for iter in range(NITER):\n",
    "    print('Iteration: ', iter)\n",
    "    \n",
    "    sn = self.fnu/self.efnu\n",
    "    clip = (sn > 1).sum(axis=1) > 4 # Generally make this higher to ensure reasonable fits\n",
    "    self.iterate_zp_templates(idx=self.idx[clip], update_templates=False, \n",
    "                              update_zeropoints=True, iter=iter, n_proc=6, \n",
    "                              save_templates=False, error_residuals=False, \n",
    "                              NBIN=NBIN, get_spatial_offset=False)"
   ]
  },
  {
   "cell_type": "code",
   "execution_count": null,
   "metadata": {},
   "outputs": [],
   "source": [
    "# Turn off error corrections derived above\n",
    "self.set_sys_err(positive=True)\n",
    "\n",
    "# Full catalog\n",
    "sample = np.isfinite(self.ZSPEC)\n",
    "\n",
    "# fit_parallel renamed to fit_catalog 14 May 2021\n",
    "self.fit_catalog(self.idx[sample], n_proc=6)"
   ]
  },
  {
   "cell_type": "code",
   "execution_count": null,
   "metadata": {},
   "outputs": [],
   "source": [
    "# Show zspec-zphot comparison\n",
    "fig = self.zphot_zspec()"
   ]
  },
  {
   "cell_type": "code",
   "execution_count": null,
   "metadata": {},
   "outputs": [],
   "source": [
    "# Derived parameters (z params, RF colors, masses, SFR, etc.)\n",
    "warnings.simplefilter('ignore', category=RuntimeWarning)\n",
    "zout, hdu = self.standard_output(simple=False, \n",
    "                                 rf_pad_width=0.5, rf_max_err=2, \n",
    "                                 prior=True, beta_prior=True, \n",
    "                                 absmag_filters=[], \n",
    "                                 extra_rf_filters=[])\n",
    "\n",
    "# 'zout' also saved to [MAIN_OUTPUT_FILE].zout.fits"
   ]
  },
  {
   "cell_type": "code",
   "execution_count": null,
   "metadata": {},
   "outputs": [],
   "source": [
    "# Show UVJ diagram\n",
    "uv = -2.5*np.log10(zout['restU']/zout['restV'])\n",
    "vj = -2.5*np.log10(zout['restV']/zout['restJ'])\n",
    "ssfr = zout['sfr']/zout['mass']\n",
    "\n",
    "sel = (zout['z_phot'] > 0.2) & (zout['z_phot'] < 1)\n",
    "plt.scatter(vj[sel], uv[sel], c=np.log10(ssfr)[sel], \n",
    "            vmin=-13, vmax=-8, alpha=0.5, cmap='RdYlBu')\n",
    "\n",
    "plt.xlim(-0.2, 2.3); plt.ylim(0, 2.4); plt.grid()\n",
    "plt.xlabel(r'$(V-J)_0$'); plt.ylabel(r'$(U-V)_0$') "
   ]
  },
  {
   "cell_type": "code",
   "execution_count": null,
   "metadata": {},
   "outputs": [],
   "source": [
    "# Show brightest objects with z_spec > 1\n",
    "\n",
    "ifilter = self.flux_columns[np.argmin((self.lc - 8140)**2)]\n",
    "\n",
    "imag = 25 - 2.5*np.log10(self.cat[ifilter])\n",
    "sel = (self.ZSPEC > 1.1)\n",
    "\n",
    "so = np.argsort(imag[sel])\n",
    "ids = self.OBJID[sel][so]\n",
    "\n",
    "for i in range(4):\n",
    "    fig, data = self.show_fit(ids[i], xlim=[0.2, 3], show_components=True,\n",
    "                              logpz=True, zr=[0,4])"
   ]
  },
  {
   "cell_type": "code",
   "execution_count": null,
   "metadata": {},
   "outputs": [],
   "source": [
    "zout.info()"
   ]
  },
  {
   "cell_type": "code",
   "execution_count": null,
   "metadata": {},
   "outputs": [],
   "source": [
    "print(zout['z_spec'])\n",
    "print(zout['z_phot'])"
   ]
  },
  {
   "cell_type": "code",
   "execution_count": null,
   "metadata": {},
   "outputs": [],
   "source": [
    "print(hdu.info())"
   ]
  },
  {
   "cell_type": "code",
   "execution_count": null,
   "metadata": {},
   "outputs": [],
   "source": [
    "hdu[4].data"
   ]
  },
  {
   "cell_type": "code",
   "execution_count": null,
   "metadata": {},
   "outputs": [],
   "source": []
  }
 ],
 "metadata": {
  "kernelspec": {
   "display_name": "eazy_env",
   "language": "python",
   "name": "eazy_env"
  },
  "language_info": {
   "codemirror_mode": {
    "name": "ipython",
    "version": 3
   },
   "file_extension": ".py",
   "mimetype": "text/x-python",
   "name": "python",
   "nbconvert_exporter": "python",
   "pygments_lexer": "ipython3",
   "version": "3.7.3"
  }
 },
 "nbformat": 4,
 "nbformat_minor": 2
}
