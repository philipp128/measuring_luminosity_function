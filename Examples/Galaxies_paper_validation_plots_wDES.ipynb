{
 "cells": [
  {
   "cell_type": "code",
   "execution_count": 1,
   "metadata": {},
   "outputs": [
    {
     "name": "stdout",
     "output_type": "stream",
     "text": [
      "0.6.dev17+gb2840ce\n"
     ]
    }
   ],
   "source": [
    "import numpy as np\n",
    "import skypy\n",
    "from skypy.pipeline import Pipeline\n",
    "from astropy.table import Table, vstack\n",
    "import matplotlib.pyplot as plt\n",
    "from astropy.table import Table, Column\n",
    "from descolors import BAND_COLORS\n",
    "\n",
    "import os\n",
    "import astropy.io.fits as pyfits\n",
    "from scipy import interpolate\n",
    "from astropy.cosmology import FlatLambdaCDM\n",
    "\n",
    "from chainconsumer import ChainConsumer\n",
    "\n",
    "%matplotlib inline\n",
    "\n",
    "#plt.rc('font',**{'family':'sans-serif','sans-serif':['Helvetica'],'size':64})\n",
    "## for Palatino and other serif fonts use:\n",
    "plt.rc('font',**{'family':'serif','size':14})\n",
    "plt.rc('text', usetex=True)\n",
    "\n",
    "print(skypy.__version__)"
   ]
  },
  {
   "cell_type": "code",
   "execution_count": 2,
   "metadata": {},
   "outputs": [],
   "source": [
    "# simulated catalogue\n",
    "sim = pyfits.open(\"lf_whole_z_range_remain.fits\")[1].data\n",
    "sim_p = pyfits.open(\"lf_whole_z_range_remain_p.fits\")[1].data\n",
    "sim_sf = pyfits.open(\"lf_whole_z_range_remain_sf.fits\")[1].data"
   ]
  },
  {
   "cell_type": "code",
   "execution_count": 3,
   "metadata": {},
   "outputs": [
    {
     "name": "stdout",
     "output_type": "stream",
     "text": [
      "z\n",
      "M_r\n",
      "coeff\n",
      "sm\n",
      "sm_remain\n",
      "m_des_true\n",
      "m_hsc_true\n",
      "m_vista_true\n",
      "m_des_sim\n",
      "des_sigma\n",
      "m_hsc_sim\n",
      "hsc_sigma\n",
      "m_vista_sim\n",
      "vista_sigma\n"
     ]
    },
    {
     "data": {
      "text/plain": [
       "[None,\n",
       " None,\n",
       " None,\n",
       " None,\n",
       " None,\n",
       " None,\n",
       " None,\n",
       " None,\n",
       " None,\n",
       " None,\n",
       " None,\n",
       " None,\n",
       " None,\n",
       " None]"
      ]
     },
     "execution_count": 3,
     "metadata": {},
     "output_type": "execute_result"
    }
   ],
   "source": [
    "[print(name) for name in sim.dtype.names]"
   ]
  },
  {
   "cell_type": "code",
   "execution_count": 4,
   "metadata": {},
   "outputs": [
    {
     "data": {
      "image/png": "[encoded data removed]",
      "text/plain": [
       "<Figure size 864x576 with 1 Axes>"
      ]
     },
     "metadata": {
      "needs_background": "light"
     },
     "output_type": "display_data"
    }
   ],
   "source": [
    "h_sim = np.histogram(sim['z'], bins=np.arange(0,5,0.1), density=False)[0]#/1.27/0.2\n",
    "\n",
    "\n",
    "fig = plt.figure(figsize=(12,8))\n",
    "ax = fig.add_subplot(111)\n",
    "ax.set_xlabel(r'\\textbf{z}', fontsize=24)\n",
    "ax.set_ylabel(r'\\textbf{N}', fontsize=24)\n",
    "#ax.set_yscale('log')\n",
    "\n",
    "ax.step(np.arange(0,5,0.1)[:-1], h_sim, where='post', c='#11aa46', label=r'\\textbf{Simulation}')\n",
    "\n",
    "plt.show()"
   ]
  },
  {
   "cell_type": "code",
   "execution_count": 5,
   "metadata": {},
   "outputs": [
    {
     "data": {
      "text/plain": [
       "(789272, 5)"
      ]
     },
     "execution_count": 5,
     "metadata": {},
     "output_type": "execute_result"
    }
   ],
   "source": [
    "sim['m_hsc_sim'].shape"
   ]
  },
  {
   "cell_type": "code",
   "execution_count": 6,
   "metadata": {},
   "outputs": [],
   "source": [
    "sim = sim[sim['m_vista_sim'][:,3]<24.5]\n",
    "sim_p = sim_p[sim_p['m_vista_sim'][:,3]<24.5]\n",
    "sim_sf = sim_sf[sim_sf['m_vista_sim'][:,3]<24.5]"
   ]
  },
  {
   "cell_type": "code",
   "execution_count": 7,
   "metadata": {},
   "outputs": [
    {
     "ename": "KeyboardInterrupt",
     "evalue": "",
     "output_type": "error",
     "traceback": [
      "\u001b[0;31m---------------------------------------------------------------------------\u001b[0m",
      "\u001b[0;31mKeyboardInterrupt\u001b[0m                         Traceback (most recent call last)",
      "Input \u001b[0;32mIn [7]\u001b[0m, in \u001b[0;36m<cell line: 12>\u001b[0;34m()\u001b[0m\n\u001b[1;32m      2\u001b[0m des \u001b[38;5;241m=\u001b[39m pyfits\u001b[38;5;241m.\u001b[39mopen(\u001b[38;5;124m\"\u001b[39m\u001b[38;5;124mY3_deep_fields_DB_wKNN_cat.fits\u001b[39m\u001b[38;5;124m\"\u001b[39m)[\u001b[38;5;241m1\u001b[39m]\u001b[38;5;241m.\u001b[39mdata\n\u001b[1;32m      3\u001b[0m mask \u001b[38;5;241m=\u001b[39m np\u001b[38;5;241m.\u001b[39mwhere((des[\u001b[38;5;124m'\u001b[39m\u001b[38;5;124mbdf_mag_dered_calib_Ks\u001b[39m\u001b[38;5;124m'\u001b[39m]\u001b[38;5;241m<\u001b[39m\u001b[38;5;241m24.5\u001b[39m) \u001b[38;5;241m&\u001b[39m \n\u001b[1;32m      4\u001b[0m                 \u001b[38;5;66;03m#(des['bdf_mag_dered_calib_g']<30.) & \u001b[39;00m\n\u001b[1;32m      5\u001b[0m                 \u001b[38;5;66;03m#(des['bdf_mag_dered_calib_r']<30.) &\u001b[39;00m\n\u001b[0;32m   (...)\u001b[0m\n\u001b[1;32m     10\u001b[0m                 (des[\u001b[38;5;124m'\u001b[39m\u001b[38;5;124mflags_nir\u001b[39m\u001b[38;5;124m'\u001b[39m]\u001b[38;5;241m==\u001b[39m\u001b[38;5;241m0\u001b[39m) \u001b[38;5;241m&\u001b[39m\n\u001b[1;32m     11\u001b[0m                 (des[\u001b[38;5;124m'\u001b[39m\u001b[38;5;124mmask_flags_nir\u001b[39m\u001b[38;5;124m'\u001b[39m]\u001b[38;5;241m==\u001b[39m\u001b[38;5;241m0\u001b[39m))[\u001b[38;5;241m0\u001b[39m]\n\u001b[0;32m---> 12\u001b[0m des \u001b[38;5;241m=\u001b[39m \u001b[43mdes\u001b[49m\u001b[43m[\u001b[49m\u001b[43mmask\u001b[49m\u001b[43m]\u001b[49m\n\u001b[1;32m     13\u001b[0m \u001b[38;5;28mprint\u001b[39m(\u001b[38;5;28mlen\u001b[39m(des))\n",
      "File \u001b[0;32m~/anaconda3/envs/skypy/lib/python3.10/site-packages/astropy/io/fits/fitsrec.py:525\u001b[0m, in \u001b[0;36mFITS_rec.__getitem__\u001b[0;34m(self, key)\u001b[0m\n\u001b[1;32m    520\u001b[0m out\u001b[38;5;241m.\u001b[39m_converted \u001b[38;5;241m=\u001b[39m {}\n\u001b[1;32m    521\u001b[0m \u001b[38;5;28;01mfor\u001b[39;00m idx, name \u001b[38;5;129;01min\u001b[39;00m \u001b[38;5;28menumerate\u001b[39m(\u001b[38;5;28mself\u001b[39m\u001b[38;5;241m.\u001b[39m_coldefs\u001b[38;5;241m.\u001b[39mnames):\n\u001b[1;32m    522\u001b[0m     \u001b[38;5;66;03m#\u001b[39;00m\n\u001b[1;32m    523\u001b[0m     \u001b[38;5;66;03m# Store the new arrays for the _coldefs object\u001b[39;00m\n\u001b[1;32m    524\u001b[0m     \u001b[38;5;66;03m#\u001b[39;00m\n\u001b[0;32m--> 525\u001b[0m     \u001b[43marrays\u001b[49m\u001b[38;5;241;43m.\u001b[39;49m\u001b[43mappend\u001b[49m\u001b[43m(\u001b[49m\u001b[38;5;28;43mself\u001b[39;49m\u001b[38;5;241;43m.\u001b[39;49m\u001b[43m_coldefs\u001b[49m\u001b[38;5;241;43m.\u001b[39;49m\u001b[43m_arrays\u001b[49m\u001b[43m[\u001b[49m\u001b[43midx\u001b[49m\u001b[43m]\u001b[49m\u001b[43m[\u001b[49m\u001b[43mkey\u001b[49m\u001b[43m]\u001b[49m\u001b[43m)\u001b[49m\n\u001b[1;32m    527\u001b[0m     \u001b[38;5;66;03m# Ensure that the sliced FITS_rec will view the same scaled\u001b[39;00m\n\u001b[1;32m    528\u001b[0m     \u001b[38;5;66;03m# columns as the original; this is one of the few cases where\u001b[39;00m\n\u001b[1;32m    529\u001b[0m     \u001b[38;5;66;03m# it is not necessary to use _cache_field()\u001b[39;00m\n\u001b[1;32m    530\u001b[0m     \u001b[38;5;28;01mif\u001b[39;00m name \u001b[38;5;129;01min\u001b[39;00m \u001b[38;5;28mself\u001b[39m\u001b[38;5;241m.\u001b[39m_converted:\n",
      "\u001b[0;31mKeyboardInterrupt\u001b[0m: "
     ]
    }
   ],
   "source": [
    "# DES Deep Fields\n",
    "des = pyfits.open(\"Y3_deep_fields_DB_wKNN_cat.fits\")[1].data\n",
    "mask = np.where((des['bdf_mag_dered_calib_Ks']<24.5) & \n",
    "                #(des['bdf_mag_dered_calib_g']<30.) & \n",
    "                #(des['bdf_mag_dered_calib_r']<30.) &\n",
    "                #(des['ra']>140) &\n",
    "                (des['bdf_T']>0.01) &\n",
    "                (des['flags']==0) &\n",
    "                (des['mask_flags']==0) &\n",
    "                (des['flags_nir']==0) &\n",
    "                (des['mask_flags_nir']==0))[0]\n",
    "des = des[mask]\n",
    "print(len(des))"
   ]
  },
  {
   "cell_type": "code",
   "execution_count": null,
   "metadata": {},
   "outputs": [],
   "source": [
    "# COSMOS2020\n",
    "cos = pyfits.open(\"COSMOS2020_Classic_kcorr_mass_uvj.fits\")[1].data\n",
    "print(len(cos))\n",
    "mask = np.where((cos['photoz']>0) &\n",
    "                (cos['photoz']<8.) &\n",
    "                (cos['mag_Ks']<24.5) &\n",
    "                (cos['lp_type']==0))[0]\n",
    "                #(cos['UVJ_type']==False))[0]\n",
    "cos = cos[mask]\n",
    "print(len(cos))\n",
    "# config['cuts'].update({'col':['photoz', 'photoz', 'mag_Ks', 'mag_Ks', 'lp_type', 'UVJ_type'], \n",
    "#                        'oper': ['grt', 'le', 'grt', 'le', 'is', 'is'], \n",
    "#                         'val': [0, 8., 16., 25., 0, False]})"
   ]
  },
  {
   "cell_type": "code",
   "execution_count": null,
   "metadata": {},
   "outputs": [],
   "source": [
    "cos_check = pyfits.open(\"COSMOS2020_Classic_processed.fits\")[1].data\n",
    "print(len(cos_check))\n",
    "mask = np.where((cos_check['photoz']>0) &\n",
    "                (cos_check['photoz']<8.) &\n",
    "                (23.9-2.5*np.log10(cos_check['UVISTA_Ks_FLUX'])<24.5) &\n",
    "                (cos_check['lp_type']==0))[0]\n",
    "                #(cos['UVJ_type']==False))[0]\n",
    "cos_check = cos_check[mask]\n",
    "print(len(cos_check))\n"
   ]
  },
  {
   "cell_type": "code",
   "execution_count": null,
   "metadata": {},
   "outputs": [],
   "source": [
    "# order is different!!\n",
    "print(cos_check['UVISTA_Ks_FLUX'][45823], cos['UVISTA_Ks_FLUX'][45823])"
   ]
  },
  {
   "cell_type": "code",
   "execution_count": null,
   "metadata": {},
   "outputs": [],
   "source": [
    "coeffs_file = pyfits.open(\"cosmos2020_kcorr_coeffs.fits\")[1].data\n",
    "print(len(coeffs_file))\n",
    "coeffs_file = coeffs_file[mask]\n",
    "coeffs = coeffs_file['coeffs']\n",
    "print(len(coeffs_file))"
   ]
  },
  {
   "cell_type": "code",
   "execution_count": null,
   "metadata": {},
   "outputs": [],
   "source": [
    "order = np.argsort(coeffs_file['ID'])\n",
    "coeffs = coeffs[order,:]"
   ]
  },
  {
   "cell_type": "code",
   "execution_count": null,
   "metadata": {},
   "outputs": [],
   "source": [
    "order = np.argsort(cos['ID'])\n",
    "cos = cos[order]"
   ]
  },
  {
   "cell_type": "code",
   "execution_count": null,
   "metadata": {},
   "outputs": [],
   "source": [
    "order = np.argsort(cos_check['ID'])\n",
    "cos_check = cos_check[order]"
   ]
  },
  {
   "cell_type": "code",
   "execution_count": null,
   "metadata": {},
   "outputs": [],
   "source": [
    "print(cos_check['UVISTA_Ks_FLUX'][45823], cos['UVISTA_Ks_FLUX'][45823])"
   ]
  },
  {
   "cell_type": "code",
   "execution_count": null,
   "metadata": {},
   "outputs": [],
   "source": [
    "#coeffs_p = pyfits.open(\"cosmos2020_kcorr_coeffs.fits\")[1].data\n",
    "#coeffs_sf = pyfits.open(\"cosmos2020_kcorr_coeffs.fits\")[1].data"
   ]
  },
  {
   "cell_type": "code",
   "execution_count": null,
   "metadata": {},
   "outputs": [],
   "source": [
    "# Start with i-band number counts\n",
    "\n",
    "# need to pre-compute so we can scale\n",
    "h_sim = np.histogram(sim['m_hsc_sim'][:,2], bins=np.arange(14,28,0.2), density=False)[0]/1.27/0.2\n",
    "h_des = np.histogram(des['bdf_mag_dered_calib_i'], bins=np.arange(14,28,0.2), density=False)[0]*5/5.88/0.2\n",
    "h_cos = np.histogram(cos['mag_i'], bins=np.arange(14,28,0.2), density=False)[0]/1.27/0.2\n",
    "\n",
    "fig = plt.figure(figsize=(12,8))\n",
    "ax = fig.add_subplot(111)\n",
    "ax.set_xlabel(r'\\textbf{mag$_i$}', fontsize=24)\n",
    "ax.set_ylabel(r'\\textbf{N/mag/deg.$^2$}', fontsize=24)\n",
    "ax.set_yscale('log')\n",
    "\n",
    "ax.step(np.arange(14,28,0.2)[:-1], h_sim, where='post', c='#11aa46', label=r'\\textbf{Simulation}')\n",
    "ax.step(np.arange(14,28,0.2)[:-1], h_des, where='post', c='#5555dd', label=r'\\textbf{DES DF}')\n",
    "ax.step(np.arange(14,28,0.2)[:-1], h_cos, where='post', c='#df5555', alpha=0.9, \n",
    "        label=r'\\textbf{COSMOS2020}')\n",
    "\n",
    "#ax.set_xlim([3300.,30000.])\n",
    "#ax.set_ylim([-0.1*np.max(df_f[ob,:]/des_lam),1.5*np.max(df_f[ob,:]/des_lam)])\n",
    "ax.legend(fontsize=18, loc=2)\n",
    "plt.savefig(\"Number_counts.png\")\n",
    "plt.show()"
   ]
  },
  {
   "cell_type": "code",
   "execution_count": null,
   "metadata": {},
   "outputs": [],
   "source": [
    "def shift_cen(arr):    \n",
    "    return arr[:-1] + (arr[1]-arr[0])/2.\n",
    "\n",
    "def contour_plot(ax, xdata, ydata, limits, nbin, labels, colours):\n",
    "    \n",
    "    nlevel = 4\n",
    "    #alpha = np.array([1,0.8,0.6,0.4,0.2]) # can't use alpha\n",
    "    lw = [0.4, 0.8, 1.2, 1.6, 2]\n",
    "    if type(colours[0]) is str:\n",
    "        col = colours\n",
    "    elif type(colours[0]) is int:\n",
    "        col = np.array([BAND_COLORS['Y'], BAND_COLORS['g'], BAND_COLORS['r'], BAND_COLORS['u']])[colours]\n",
    "    else:\n",
    "        col = [BAND_COLORS['Y'], BAND_COLORS['g'], BAND_COLORS['r'], BAND_COLORS['u']]\n",
    "    \n",
    "    n_sets = len(xdata)\n",
    "    if n_sets > 4:\n",
    "        print(\"Error: can't plot more than four contour sets\")\n",
    "        return ax,[0,1]*2\n",
    "        \n",
    "    # find the axis limits, etc. (if not None, we assume they're fine)\n",
    "    if limits is None:\n",
    "        # find the 98%ile in each axis\n",
    "        x_tmp = np.sort(np.hstack(xdata))\n",
    "        y_tmp = np.sort(np.hstack(ydata))\n",
    "\n",
    "        limits = [1.2*sorted(x_tmp)[int(0.01*len(x_tmp))]]\n",
    "        limits.append(1.2*sorted(x_tmp)[int(0.99*len(x_tmp))])\n",
    "        limits.append(1.2*sorted(y_tmp)[int(0.01*len(y_tmp))])\n",
    "        limits.append(1.2*sorted(y_tmp)[int(0.99*len(y_tmp))])\n",
    "            \n",
    "    # 2d hist\n",
    "    x_edges = limits[0] + (limits[1] - limits[0]) * np.arange(nbin+1) / nbin\n",
    "    y_edges = limits[2] + (limits[3] - limits[2]) * np.arange(nbin+1) / nbin\n",
    "\n",
    "    # plot each in turn\n",
    "    for i in range(n_sets):\n",
    "        z = np.histogram2d(xdata[i], ydata[i], bins=[x_edges, y_edges], normed=True)\n",
    "        if i==0:\n",
    "            zmax = np.max(z[0])*0.98\n",
    "\n",
    "        # contour levels\n",
    "        levels = 10.**((np.arange(nlevel+1) * (np.log10(zmax)+1) / nlevel) -1)\n",
    "\n",
    "        X, Y = np.meshgrid(shift_cen(x_edges), shift_cen(y_edges))\n",
    "\n",
    "        # plot\n",
    "        ax.contour(X, Y, z[0].T, levels=levels, colors=col[i], linewidths=lw)\n",
    "        \n",
    "        ax_ranges = [ax.get_xlim()[1]-ax.get_xlim()[0], ax.get_ylim()[1]-ax.get_ylim()[0]]    \n",
    "        ax.plot([ax.get_xlim()[1]+0.3*ax_ranges[0], ax.get_xlim()[1]+0.35*ax_ranges[0]], \n",
    "            [ax.get_ylim()[0]-0.3*ax_ranges[1], ax.get_ylim()[0]-0.3*ax_ranges[1]], label=labels[i], \n",
    "            color=col[i])\n",
    "\n",
    "    ax.legend(fontsize=22, loc=2)\n",
    "    return ax, limits\n",
    "\n",
    "def panel_plot(xdata, ydata, nbin=41, limits=None, axlabels=None, labels=None, save=True, colours=None, \n",
    "               outname=\"tmp.png\"):\n",
    "                \n",
    "    # set up figure\n",
    "    fig = plt.figure(figsize=[8,8])\n",
    "    ax = fig.add_subplot(111)\n",
    "    if labels is not None:\n",
    "        ax.set_xlabel(r'{}'.format(axlabels[0]), fontsize=22)\n",
    "        ax.set_ylabel(r'{}'.format(axlabels[1]), fontsize=22)\n",
    "    \n",
    "    ax, lims = contour_plot(ax, xdata, ydata, limits, nbin, labels, colours=colours)\n",
    "    print(lims)\n",
    "    if np.all(np.array(lims[:2])<0.):\n",
    "        ax.set_xlim([lims[1],lims[0]])\n",
    "    else:\n",
    "        ax.set_xlim(lims[:2])\n",
    "    if np.all(np.array(lims[2:])<0.):\n",
    "        ax.set_ylim([lims[3],lims[2]])\n",
    "    else:\n",
    "        ax.set_ylim(lims[2:])\n",
    "    \n",
    "    if save is True:\n",
    "        fig.savefig(outname)\n",
    "    plt.show()\n"
   ]
  },
  {
   "cell_type": "code",
   "execution_count": null,
   "metadata": {
    "scrolled": false
   },
   "outputs": [],
   "source": [
    "sim_sub = np.where((sim['m_des_sim'][:,2]<25))[0]\n",
    "des_sub = np.where((des['bdf_mag_dered_calib_i']<25))[0]\n",
    "\n",
    "panel_plot([(sim['m_des_sim'][:,0]-sim['m_des_sim'][:,1])[sim_sub], \n",
    "            (des['bdf_mag_dered_calib_g']-des['bdf_mag_dered_calib_r'])[des_sub]],\n",
    "          [(sim['m_des_sim'][:,1]-sim['m_des_sim'][:,2])[sim_sub], \n",
    "           (des['bdf_mag_dered_calib_r']-des['bdf_mag_dered_calib_i'])[des_sub]],\n",
    "          save=False, limits=[-0.5,2.,-0.5,1.7], axlabels=['$g-r$','$r-i$'], \n",
    "           labels=['SkyPy','DES DF'], colours=[1,2])"
   ]
  },
  {
   "cell_type": "code",
   "execution_count": null,
   "metadata": {},
   "outputs": [],
   "source": [
    "panel_plot([(sim['m_des_true'][:,0]-sim['m_des_true'][:,1])[sim_sub], \n",
    "            (des['bdf_mag_dered_calib_g']-des['bdf_mag_dered_calib_r'])[des_sub]],\n",
    "          [(sim['m_des_true'][:,1]-sim['m_des_true'][:,2])[sim_sub], \n",
    "           (des['bdf_mag_dered_calib_r']-des['bdf_mag_dered_calib_i'])[des_sub]],\n",
    "          save=False, limits=[-0.5,2.,-0.5,1.7], axlabels=['$g-r$','$r-i$'], \n",
    "           labels=['SkyPy','DES DF'], colours=[1,2])"
   ]
  },
  {
   "cell_type": "code",
   "execution_count": null,
   "metadata": {},
   "outputs": [],
   "source": [
    "sim_sub = np.where((sim['m_hsc_sim'][:,2]<25))[0]\n",
    "cos_sub = np.where((23.9-2.5*np.log10(cos['HSC_i_FLUX'])<25))[0]\n",
    "\n",
    "panel_plot([(-2.5*np.log10(cos['HSC_g_FLUX']/cos['HSC_r_FLUX']))[cos_sub], \n",
    "            (sim['m_hsc_sim'][:,0]-sim['m_hsc_sim'][:,1])[sim_sub]],\n",
    "          [(-2.5*np.log10(cos['HSC_r_FLUX']/cos['HSC_i_FLUX']))[cos_sub], \n",
    "           (sim['m_hsc_sim'][:,1]-sim['m_hsc_sim'][:,2])[sim_sub]],\n",
    "          save=False, limits=[-0.5,2.,-0.5,1.7], axlabels=['$g-r$','$r-i$'], \n",
    "           labels=['COSMOS2020','SkyPy'], colours=[0,1])"
   ]
  },
  {
   "cell_type": "code",
   "execution_count": null,
   "metadata": {},
   "outputs": [],
   "source": [
    "panel_plot([(-2.5*np.log10(cos['HSC_g_FLUX']/cos['HSC_r_FLUX']))[cos_sub], \n",
    "            (sim['m_hsc_sim'][:,0]-sim['m_hsc_sim'][:,1])[sim_sub],\n",
    "           (des['bdf_mag_dered_calib_g']-des['bdf_mag_dered_calib_r'])[des_sub]],\n",
    "          [(-2.5*np.log10(cos['HSC_r_FLUX']/cos['HSC_i_FLUX']))[cos_sub], \n",
    "           (sim['m_hsc_sim'][:,1]-sim['m_hsc_sim'][:,2])[sim_sub],\n",
    "          (des['bdf_mag_dered_calib_r']-des['bdf_mag_dered_calib_i'])[des_sub]],\n",
    "          save=True, limits=[-0.5,2.,-0.5,1.7], axlabels=['$g-r$','$r-i$'], \n",
    "           labels=['COSMOS2020','SkyPy', 'DES'], colours=[0,1,2], outname=\"col_col_gri_three.png\")"
   ]
  },
  {
   "cell_type": "code",
   "execution_count": null,
   "metadata": {},
   "outputs": [],
   "source": [
    "panel_plot([(-2.5*np.log10(cos['HSC_g_FLUX']/cos['HSC_r_FLUX'])), \n",
    "            (sim['m_hsc_true'][:,0]-sim['m_hsc_true'][:,1])],\n",
    "          [(-2.5*np.log10(cos['HSC_r_FLUX']/cos['HSC_i_FLUX'])), \n",
    "           (sim['m_hsc_true'][:,1]-sim['m_hsc_true'][:,2])],\n",
    "          save=False, limits=[-0.5,2.,-0.5,1.7], axlabels=['$g-r$','$r-i$'], \n",
    "           labels=['COSMOS2020','SkyPy'], colours=[0,1])"
   ]
  },
  {
   "cell_type": "code",
   "execution_count": null,
   "metadata": {},
   "outputs": [],
   "source": [
    "panel_plot([cos['photoz'][cos_sub], \n",
    "            sim['z'][sim_sub]],\n",
    "          [cos['lp_MR'][cos_sub], \n",
    "           sim['M_r'][sim_sub]],\n",
    "          save=False, limits=[0.,2.5,-23.5,-15], axlabels=['$z$','$M_r$'], \n",
    "           labels=['COSMOS2020','SkyPy'], colours=[0,1])"
   ]
  },
  {
   "cell_type": "code",
   "execution_count": null,
   "metadata": {},
   "outputs": [],
   "source": [
    "panel_plot([cos['photoz'][cos_sub], \n",
    "            sim['z'][sim_sub]],\n",
    "          [cos['kcorr_mass'][cos_sub], \n",
    "           np.log10(sim['sm_remain'][sim_sub])],\n",
    "          save=True, limits=[0.,2.5,7.5,12], axlabels=['$z$','$m_*$'], \n",
    "           labels=['COSMOS2020','SkyPy'], colours=[0,1], outname=\"mass_redshift.png\")"
   ]
  },
  {
   "cell_type": "code",
   "execution_count": null,
   "metadata": {},
   "outputs": [],
   "source": [
    "panel_plot([cos['lp_MR'][cos_sub], \n",
    "            sim['M_r'][sim_sub]],\n",
    "          [cos['kcorr_mass'][cos_sub], \n",
    "           np.log10(sim['sm_remain'][sim_sub])],\n",
    "          save=False, limits=[-23.5,-15,7.5,12], axlabels=['$M_r$','$m_*$'], \n",
    "           labels=['COSMOS2020','SkyPy'], colours=[0,1])"
   ]
  },
  {
   "cell_type": "code",
   "execution_count": null,
   "metadata": {},
   "outputs": [],
   "source": [
    "# need to add the weights?\n",
    "norms = np.array([7.8800161e-12, 5.0557465e-09, 8.0048974e-11, 1.0215842e-11, 1.3721980e-10])\n",
    "#weights = np.array([7.31798350e-01, 7.74462862e-04, 1.90468822e-01, 2.09681844e+00, 1.11666356e-01])\n",
    "weights = np.array([1.26903294e+11, 1.97794727e+08, 1.24923525e+10, 9.78871835e+10, 7.28757803e+09])\n",
    "coeff_norm = coeffs * weights \n",
    "#coeff_norm = coeffs / norms\n",
    "for i in range(coeff_norm.shape[0]):\n",
    "    coeff_norm[i,:] = coeff_norm[i,:] / np.sum(coeff_norm[i,:])\n",
    "    \n",
    "# clean nans\n",
    "coeff_norm[np.isinf(coeff_norm)] = 0\n",
    "coeff_norm[np.isnan(coeff_norm)] = 0"
   ]
  },
  {
   "cell_type": "code",
   "execution_count": null,
   "metadata": {},
   "outputs": [],
   "source": [
    "c = ChainConsumer()\n",
    "\n",
    "c.add_chain(coeff_norm[cos_sub,:], \n",
    "             parameters=['c$_1$','c$_2$','c$_3$','c$_4$','c$_5$'], \n",
    "            name=r'COSMOS2020', color='#df5555')\n",
    "\n",
    "c.add_chain(sim['coeff'][sim['m_hsc_sim'][:,2]<25.,:], \n",
    "            parameters=['c$_1$','c$_2$','c$_3$','c$_4$','c$_5$'], \n",
    "            name=r'Simulation', color='#11aa46')\n",
    "\n",
    "c.configure(sigmas=[0,0.5,1,2], smooth=1, shade=True)\n",
    "\n",
    "c.plotter.plot(filename=\"coeffs.png\", \n",
    "                extents=[(-0.1,1.1),(-0.1,1.1),(-0.1,1.1),(-0.1,1.1),(-0.1,1.1)], \n",
    "               figsize=(6,6))#, truth=mean)\n",
    "\n",
    "### curious that component2 is never used - check that the coeffs don't need scaling.\n",
    "### Well, I guess the M/L info is not in here."
   ]
  },
  {
   "cell_type": "code",
   "execution_count": null,
   "metadata": {},
   "outputs": [],
   "source": [
    "cos_sf = np.where((23.9-2.5*np.log10(cos['HSC_i_FLUX'])<25)&(cos['UVJ_type']==False))[0]\n",
    "cos_p = np.where((23.9-2.5*np.log10(cos['HSC_i_FLUX'])<25)&(cos['UVJ_type']==True))[0]"
   ]
  },
  {
   "cell_type": "code",
   "execution_count": null,
   "metadata": {},
   "outputs": [],
   "source": [
    "cs = ChainConsumer()\n",
    "cs.add_chain(sim_sf['coeff'][sim_sf['m_hsc_sim'][:,2]<25.,:], \n",
    "            parameters=['c$_1$','c$_2$','c$_3$','c$_4$','c$_5$'], \n",
    "            name=r'Simulation', color='#11aa46')\n",
    "\n",
    "cs.add_chain(coeff_norm[cos_sf,:], \n",
    "             parameters=['c$_1$','c$_2$','c$_3$','c$_4$','c$_5$'], \n",
    "            name=r'COSMOS2020 - SF', color='#df5555')\n",
    "\n",
    "cs.configure(sigmas=[0,0.5,1,2], smooth=1, shade=True)\n",
    "\n",
    "cs.plotter.plot(filename=\"coeffs_sf.png\", \n",
    "                extents=[(-0.1,1.1),(-0.1,1.1),(-0.1,1.1),(-0.1,1.1),(-0.1,1.1)], \n",
    "               figsize=(6,6))#, truth=mean)"
   ]
  },
  {
   "cell_type": "code",
   "execution_count": null,
   "metadata": {},
   "outputs": [],
   "source": [
    "sim_sf_norm = sim_sf['coeff'] / weights\n",
    "print(sim_sf_norm.shape)\n",
    "for i in range(sim_sf_norm.shape[0]):\n",
    "    sim_sf_norm[i,:] = sim_sf_norm[i,:] / np.sum(sim_sf_norm[i,:])\n",
    "\n",
    "for i in range(coeffs.shape[0]):\n",
    "    coeffs[i,:] = coeffs[i,:] / np.sum(coeffs[i,:])\n",
    "    \n",
    "# clean nans\n",
    "coeffs[np.isinf(coeffs)] = 0\n",
    "coeffs[np.isnan(coeffs)] = 0\n",
    "\n",
    "cs = ChainConsumer()\n",
    "cs.add_chain(sim_sf['coeff'][sim_sf['m_hsc_sim'][:,2]<25.,:], \n",
    "            parameters=['c$_1$','c$_2$','c$_3$','c$_4$','c$_5$'], \n",
    "            name=r'Simulation', color='#11aa46')\n",
    "\n",
    "cs.add_chain(coeffs[cos_sf,:], \n",
    "             parameters=['c$_1$','c$_2$','c$_3$','c$_4$','c$_5$'], \n",
    "            name=r'COSMOS2020 - SF', color='#df5555')\n",
    "\n",
    "cs.configure(sigmas=[0,0.5,1,2], smooth=1, shade=True)\n",
    "\n",
    "cs.plotter.plot(filename=\"coeffs_sf_alt.png\", \n",
    "                extents=[(-0.1,1.1),(-0.1,1.1),(-0.1,1.1),(-0.1,1.1),(-0.1,1.1)], \n",
    "               figsize=(6,6))#, truth=mean)"
   ]
  },
  {
   "cell_type": "code",
   "execution_count": null,
   "metadata": {},
   "outputs": [],
   "source": [
    "cp = ChainConsumer()\n",
    "\n",
    "cp.add_chain(sim_p['coeff'][sim_p['m_hsc_sim'][:,2]<25.,:], \n",
    "            parameters=['c$_1$','c$_2$','c$_3$','c$_4$','c$_5$'], \n",
    "            name=r'Simulation', color='#11aa46')\n",
    "\n",
    "cp.add_chain(coeff_norm[cos_p,:], \n",
    "             parameters=['c$_1$','c$_2$','c$_3$','c$_4$','c$_5$'], \n",
    "            name=r'COSMOS2020 - passive', color='#df5555')\n",
    "\n",
    "cp.configure(sigmas=[0,0.5,1,2], smooth=1, shade=True)\n",
    "\n",
    "cp.plotter.plot(filename=\"coeffs_p.png\", \n",
    "                extents=[(-0.1,1.1),(-0.1,1.1),(-0.1,1.1),(-0.1,1.1),(-0.1,1.1)], \n",
    "               figsize=(6,6))#, truth=mean)"
   ]
  },
  {
   "cell_type": "code",
   "execution_count": null,
   "metadata": {},
   "outputs": [],
   "source": [
    "sim_sub = np.where((sim_sf['m_hsc_sim'][:,2]<25))[0]           \n",
    "\n",
    "panel_plot([(-2.5*np.log10(cos['HSC_g_FLUX']/cos['HSC_r_FLUX']))[cos_sf],\n",
    "           (sim_sf['m_hsc_sim'][:,0]-sim_sf['m_hsc_sim'][:,1])[sim_sub]],\n",
    "          [(-2.5*np.log10(cos['HSC_r_FLUX']/cos['HSC_i_FLUX']))[cos_sf],\n",
    "          (sim_sf['m_hsc_sim'][:,1]-sim_sf['m_hsc_sim'][:,2])[sim_sub]],\n",
    "          save=False, limits=[-0.5,2.,-0.5,1.7], axlabels=['$g-r$','$r-i$'], \n",
    "           labels=['COSMOS2020','SkyPy'], colours=[0,1])"
   ]
  },
  {
   "cell_type": "code",
   "execution_count": null,
   "metadata": {},
   "outputs": [],
   "source": [
    "panel_plot([cos['photoz'][cos_sf], \n",
    "            sim_sf['z'][sim_sub]],\n",
    "          [cos['kcorr_mass'][cos_sf], \n",
    "           np.log10(sim_sf['sm_remain'][sim_sub])],\n",
    "          save=False, limits=[0.,2.5,7.5,12], axlabels=['$z$','$m_*$'], \n",
    "           labels=['COSMOS2020','SkyPy'], colours=[0,1])"
   ]
  },
  {
   "cell_type": "code",
   "execution_count": null,
   "metadata": {},
   "outputs": [],
   "source": [
    "sim_sub = np.where((sim_p['m_hsc_sim'][:,2]<25))[0]\n",
    "\n",
    "panel_plot([(-2.5*np.log10(cos['HSC_g_FLUX']/cos['HSC_r_FLUX']))[cos_p],\n",
    "           (sim_p['m_hsc_sim'][:,0]-sim_p['m_hsc_sim'][:,1])[sim_sub]],\n",
    "          [(-2.5*np.log10(cos['HSC_r_FLUX']/cos['HSC_i_FLUX']))[cos_p],\n",
    "          (sim_p['m_hsc_sim'][:,1]-sim_p['m_hsc_sim'][:,2])[sim_sub]],\n",
    "          save=True, limits=[-0.5,2.2,-0.5,1.7], axlabels=['$g-r$','$r-i$'], \n",
    "           labels=['COSMOS2020','SkyPy'], colours=[0,1], outname=\"passive_col_col.png\")"
   ]
  },
  {
   "cell_type": "code",
   "execution_count": null,
   "metadata": {},
   "outputs": [],
   "source": [
    "panel_plot([cos['photoz'][cos_p], \n",
    "            sim_p['z'][sim_sub]],\n",
    "          [cos['kcorr_mass'][cos_p], \n",
    "           np.log10(sim_p['sm_remain'][sim_sub])],\n",
    "          save=False, limits=[0.,2.5,7.5,12.5], axlabels=['$z$','$m_*$'], \n",
    "           labels=['COSMOS2020','SkyPy'], colours=[0,1])"
   ]
  },
  {
   "cell_type": "code",
   "execution_count": null,
   "metadata": {},
   "outputs": [],
   "source": [
    "csp = ChainConsumer()\n",
    "csp.add_chain(coeff_norm[cos_sf,:], \n",
    "             parameters=['c$_1$','c$_2$','c$_3$','c$_4$','c$_5$'], \n",
    "            name=r'COSMOS2020 - SF', color='#11aa46')\n",
    "csp.add_chain(coeff_norm[cos_p,:], \n",
    "             parameters=['c$_1$','c$_2$','c$_3$','c$_4$','c$_5$'], \n",
    "            name=r'COSMOS2020 - pass', color='#df5555')\n",
    "\n",
    "# cs.add_chain(sim['coeff'][sim_sf][sim['m_hsc_sim'][sim_sf,2]<25.,:], \n",
    "#             parameters=['c$_1$','c$_2$','c$_3$','c$_4$','c$_5$'], \n",
    "#             name=r'Simulation', color='#11aa46')\n",
    "\n",
    "csp.configure(sigmas=[0,0.5,1,2], smooth=1, shade=True)\n",
    "\n",
    "csp.plotter.plot(filename=\"coeffs_sf_pass.png\", \n",
    "                extents=[(-0.1,1.1),(-0.1,1.1),(-0.1,1.1),(-0.1,1.1),(-0.1,1.1)], \n",
    "               figsize=(6,6))#, truth=mean)"
   ]
  },
  {
   "cell_type": "code",
   "execution_count": null,
   "metadata": {},
   "outputs": [],
   "source": [
    "# looking into coeffs\n",
    "coff_p = coeffs[cos_p,:] * norms\n",
    "z_p = cos['photoz'][cos_p]"
   ]
  },
  {
   "cell_type": "code",
   "execution_count": null,
   "metadata": {},
   "outputs": [],
   "source": [
    "print(np.mean(coff_p[(z_p>0.1)&(z_p<0.4),:], axis=0))\n",
    "print(np.var(coff_p[(z_p>0.1)&(z_p<0.4),:], axis=0))"
   ]
  },
  {
   "cell_type": "code",
   "execution_count": null,
   "metadata": {},
   "outputs": [],
   "source": [
    "print(np.mean(coff_p[(z_p>1.5),:], axis=0))\n",
    "print(np.var(coff_p[(z_p>1.5),:], axis=0))"
   ]
  },
  {
   "cell_type": "code",
   "execution_count": null,
   "metadata": {},
   "outputs": [],
   "source": [
    "coff_s = coeffs[cos_sf,:] * norms\n",
    "z_s = cos['photoz'][cos_sf]"
   ]
  },
  {
   "cell_type": "code",
   "execution_count": null,
   "metadata": {},
   "outputs": [],
   "source": [
    "print(np.mean(coff_s[(z_s>0.1)&(z_s<0.4),:], axis=0))\n",
    "print(np.var(coff_s[(z_s>0.1)&(z_s<0.4),:], axis=0))\n",
    "print(np.mean(coff_s[(z_s>1.5),:], axis=0))\n",
    "print(np.var(coff_s[(z_s>1.5),:], axis=0))"
   ]
  },
  {
   "cell_type": "code",
   "execution_count": null,
   "metadata": {},
   "outputs": [],
   "source": [
    "alpha = np.array([0.40607936, 0.03563725, 1.15169039, 12.06335464, 0.17928599])"
   ]
  },
  {
   "cell_type": "code",
   "execution_count": null,
   "metadata": {},
   "outputs": [],
   "source": [
    "atmp = alpha / 10000.\n",
    "alph0 = np.sum(atmp)\n",
    "va = atmp*(alph0 - atmp) / (alph0**2 * (alph0 + 1))\n",
    "va"
   ]
  },
  {
   "cell_type": "code",
   "execution_count": null,
   "metadata": {},
   "outputs": [],
   "source": [
    "sim_sub_p = np.where((sim_p['m_hsc_sim'][:,2]<25)&(sim_p['z']>0.65)&(sim_p['z']<0.7))[0]\n",
    "sim_sub_sf = np.where((sim_sf['m_hsc_sim'][:,2]<25)&(sim_sf['z']>0.65)&(sim_sf['z']<0.7))[0]\n",
    "sim_tot = np.concatenate([sim_p[sim_sub_p], sim_sf[sim_sub_sf]])"
   ]
  },
  {
   "cell_type": "code",
   "execution_count": null,
   "metadata": {},
   "outputs": [],
   "source": [
    "sim_tot['m_hsc_sim']"
   ]
  },
  {
   "cell_type": "code",
   "execution_count": null,
   "metadata": {},
   "outputs": [],
   "source": [
    "cos_sub = np.where((23.9-2.5*np.log10(cos['HSC_i_FLUX'])<25)&(cos['photoz']<0.7)&(cos['photoz']>0.65))[0]"
   ]
  },
  {
   "cell_type": "code",
   "execution_count": null,
   "metadata": {},
   "outputs": [],
   "source": [
    "panel_plot([cos['kcorr_mass'][cos_sub], np.log10(sim_tot['sm_remain'])],\n",
    "          [(-2.5*np.log10(cos['HSC_r_FLUX']/cos['HSC_i_FLUX']))[cos_sub],\n",
    "          (sim_tot['m_hsc_sim'][:,1]-sim_tot['m_hsc_sim'][:,2])],\n",
    "          limits=[7.,12.5,-0.5,2.], axlabels=['$m_*$','$r-i$'], \n",
    "           labels=['COSMOS2020','SkyPy'], colours=[0,1], outname=\"colour_mass.png\")"
   ]
  },
  {
   "cell_type": "code",
   "execution_count": null,
   "metadata": {},
   "outputs": [],
   "source": []
  },
  {
   "cell_type": "code",
   "execution_count": null,
   "metadata": {},
   "outputs": [],
   "source": []
  },
  {
   "cell_type": "code",
   "execution_count": null,
   "metadata": {},
   "outputs": [],
   "source": []
  }
 ],
 "metadata": {
  "kernelspec": {
   "display_name": "Python 3",
   "language": "python",
   "name": "python3"
  },
  "language_info": {
   "codemirror_mode": {
    "name": "ipython",
    "version": 3
   },
   "file_extension": ".py",
   "mimetype": "text/x-python",
   "name": "python",
   "nbconvert_exporter": "python",
   "pygments_lexer": "ipython3",
   "version": "3.7.3"
  }
 },
 "nbformat": 4,
 "nbformat_minor": 5
}
