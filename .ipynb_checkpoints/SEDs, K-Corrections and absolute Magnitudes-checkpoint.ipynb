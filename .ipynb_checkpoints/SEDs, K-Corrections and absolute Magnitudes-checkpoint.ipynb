{
 "cells": [
  {
   "cell_type": "code",
   "execution_count": 1,
   "metadata": {},
   "outputs": [],
   "source": [
    "import matplotlib.pyplot as plt\n",
    "import numpy as np\n",
    "import astropy.io.fits as pyfits\n",
    "from astropy.cosmology import FlatLambdaCDM\n",
    "import pandas as pd\n",
    "import speclite.filters as spec"
   ]
  },
  {
   "cell_type": "code",
   "execution_count": 2,
   "metadata": {},
   "outputs": [],
   "source": [
    "cosmo = FlatLambdaCDM(Om0=0.3, H0=70)"
   ]
  },
  {
   "cell_type": "code",
   "execution_count": 3,
   "metadata": {},
   "outputs": [],
   "source": [
    "kcorr = pyfits.open(\"/Users/philipp/Documents/PhD/lum_func_measurement/templates/k_nmf_derived.default.fits\")\n",
    "\n",
    "seds = kcorr[1].data\n",
    "kcorr_wave = kcorr[11].data"
   ]
  },
  {
   "cell_type": "code",
   "execution_count": 4,
   "metadata": {},
   "outputs": [],
   "source": [
    "# change seds from erg/s/cm^2/A to uJy\n",
    "# lambda^2 / c * 1e29\n",
    "for i in range(5):\n",
    "    seds[i,:] = seds[i,:] * ((kcorr_wave*kcorr_wave*1e-10)/2.99e8) * 1e29"
   ]
  },
  {
   "cell_type": "code",
   "execution_count": 5,
   "metadata": {},
   "outputs": [],
   "source": [
    "cat = pyfits.open(\"/Users/philipp/Documents/PhD/Data/COSMOS2020_Classic_processed.fits\")[1].data\n",
    "eazy_cosmos = pyfits.open(\"/Users/philipp/Documents/PhD/lum_func_measurement/eazy-out/Cosmos/cosmos.eazypy.data.fits\")\n",
    "coeff = eazy_cosmos[4].data\n"
   ]
  },
  {
   "cell_type": "code",
   "execution_count": 6,
   "metadata": {},
   "outputs": [
    {
     "name": "stdout",
     "output_type": "stream",
     "text": [
      "723897\n",
      "723897\n"
     ]
    }
   ],
   "source": [
    "print(len(cat))\n",
    "print(len(coeff))"
   ]
  },
  {
   "cell_type": "code",
   "execution_count": 7,
   "metadata": {},
   "outputs": [
    {
     "name": "stderr",
     "output_type": "stream",
     "text": [
      "/Applications/anaconda3/lib/python3.7/site-packages/ipykernel_launcher.py:1: RuntimeWarning: invalid value encountered in log10\n",
      "  \"\"\"Entry point for launching an IPython kernel.\n"
     ]
    },
    {
     "name": "stdout",
     "output_type": "stream",
     "text": [
      "441277\n"
     ]
    }
   ],
   "source": [
    "mask = np.where((23.9-2.5*np.log10(cat['UVISTA_Ks_FLUX_APER3'])<25.5)&(cat['photoz']>0))[0]\n",
    "\n",
    "cat = cat[mask]\n",
    "coeff = coeff[mask]\n",
    "print(len(cat))"
   ]
  },
  {
   "cell_type": "code",
   "execution_count": 8,
   "metadata": {},
   "outputs": [],
   "source": [
    "filt_name = np.array(['GALEX_FUV', 'GALEX_NUV','CFHT_u','CFHT_ustar','HSC_g', 'HSC_r', 'HSC_i', 'HSC_z', 'HSC_y', \n",
    "             'UVISTA_Y', 'UVISTA_J', 'UVISTA_H', 'UVISTA_Ks', 'SC_IB427', 'SC_IB464', 'SC_IA484', 'SC_IB505', \n",
    "             'SC_IA527', 'SC_IB574', 'SC_IA624', 'SC_IA679', 'SC_IB709', 'SC_IA738', 'SC_IA767', 'SC_IB827', \n",
    "             'SC_NB711', 'SC_NB816', 'UVISTA_NB118', 'SC_B', 'SC_gp', 'SC_V', 'SC_rp', 'SC_ip','SC_zp', 'SC_zpp', \n",
    "             'IRAC_CH1', 'IRAC_CH2', 'IRAC_CH3','IRAC_CH4'])  \n",
    "filt_lambda = 1e4*np.array([0.1526,0.2307,0.3709,0.3858,0.4847,0.6219,0.7699,0.8894,0.9761,1.0216,1.2525,\n",
    "                            1.6466,2.1557,0.4266,0.4635,0.4851,0.5064,0.5261,0.5766,0.6232,0.6780,0.7073,\n",
    "                            0.7361,0.7694,0.8243,0.7121,0.8150,1.1909,0.4488,0.4804,0.5487,0.6305,0.7693,\n",
    "                            0.8978,0.9063,3.5686,4.5067,5.7788,7.9958])"
   ]
  },
  {
   "cell_type": "code",
   "execution_count": 9,
   "metadata": {},
   "outputs": [
    {
     "data": {
      "text/plain": [
       "array(['HSC_g', 'HSC_r', 'HSC_i', 'HSC_z', 'HSC_y', 'UVISTA_Y',\n",
       "       'UVISTA_J', 'UVISTA_H', 'UVISTA_Ks', 'SC_B'], dtype='<U12')"
      ]
     },
     "execution_count": 9,
     "metadata": {},
     "output_type": "execute_result"
    }
   ],
   "source": [
    "use_filt = np.array([4, 5, 6, 7, 8, 9, 10, 11, 12, 28])\n",
    "filt_name[use_filt]"
   ]
  },
  {
   "cell_type": "code",
   "execution_count": 10,
   "metadata": {},
   "outputs": [],
   "source": [
    "W21_phot = np.array([cat[\"{}_FLUX_APER3\".format(band)] for band in filt_name[use_filt]]).T\n",
    "W21_err = np.array([cat[\"{}_FLUXERR_APER3\".format(band)] for band in filt_name[use_filt]]).T\n",
    "\n",
    "# There are some -99's in this cat, that I think should be NaNs\n",
    "W21_phot[W21_phot==-99.] = np.nan\n",
    "\n",
    "# restrict lambda to chosen filters\n",
    "W21_lam = filt_lambda[use_filt]"
   ]
  },
  {
   "cell_type": "code",
   "execution_count": 11,
   "metadata": {},
   "outputs": [
    {
     "name": "stdout",
     "output_type": "stream",
     "text": [
      "1.9993\n",
      "[0.0000000e+00 1.5798374e+17 2.2072759e+20 7.0534339e+19 0.0000000e+00] 2.9141991e+20\n"
     ]
    }
   ],
   "source": [
    "ob = 50020\n",
    "print(cat['photoz'][ob])\n",
    "print(coeff[ob,:], np.sum(coeff[ob,:]))\n",
    "# print(coeff[ob,:]*amps, np.sum(coeff['coeffs'][ob,:]*amps))"
   ]
  },
  {
   "cell_type": "code",
   "execution_count": 12,
   "metadata": {},
   "outputs": [],
   "source": [
    "sed = np.sum(seds.T*coeff[ob,:], axis=1)\n",
    "wave_mask = np.where((kcorr_wave*(1+cat['photoz'][ob])>3300)&(kcorr_wave*(1+cat['photoz'][ob])<50000))[0]"
   ]
  },
  {
   "cell_type": "code",
   "execution_count": 13,
   "metadata": {},
   "outputs": [],
   "source": [
    "a = 1./1.011705685618729e+29 # where is this coming from?h7"
   ]
  },
  {
   "cell_type": "code",
   "execution_count": 14,
   "metadata": {},
   "outputs": [],
   "source": [
    "plt.rc('font',**{'family':'serif','size':14})\n",
    "plt.rc('text', usetex=True)"
   ]
  },
  {
   "cell_type": "code",
   "execution_count": 15,
   "metadata": {},
   "outputs": [
    {
     "data": {
      "image/png": "[encoded data removed]",
      "text/plain": [
       "<Figure size 1008x432 with 1 Axes>"
      ]
     },
     "metadata": {
      "needs_background": "light"
     },
     "output_type": "display_data"
    }
   ],
   "source": [
    "fig = plt.figure(figsize=(14,6))\n",
    "ax = fig.add_subplot(111)\n",
    "ax.set_xlabel(r'\\textbf{$\\lambda$ (${\\rm \\AA}$)}', fontsize=24)\n",
    "ax.set_ylabel(r'\\textbf{Flux ($\\mu$Jy)}', fontsize=24)\n",
    "ax.set_xscale('log')\n",
    "\n",
    "ax.errorbar(W21_lam, W21_phot[ob,:], yerr=W21_err[ob,:], marker='o', c='r', \n",
    "            label='W21 SE/LP', capthick=2, capsize=5, ls='', alpha=0.7)\n",
    "\n",
    "ax.plot(kcorr_wave[wave_mask]*(1+cat['photoz'][ob]), sed[wave_mask]*a, 'k-', alpha=0.7, label='k-correct fit')\n",
    "\n",
    "ax.set_xlim([3300.,50000.])\n",
    "ax.legend(fontsize=14, loc=2)\n",
    "plt.show()"
   ]
  },
  {
   "cell_type": "code",
   "execution_count": 16,
   "metadata": {},
   "outputs": [
    {
     "name": "stdout",
     "output_type": "stream",
     "text": [
      "(array([9175]),)\n",
      "[1577098.5]\n"
     ]
    },
    {
     "data": {
      "image/png": "[encoded data removed]",
      "text/plain": [
       "<Figure size 1008x432 with 1 Axes>"
      ]
     },
     "metadata": {
      "needs_background": "light"
     },
     "output_type": "display_data"
    }
   ],
   "source": [
    "print(np.where(sed*a == max(sed*a)))\n",
    "print(kcorr_wave[np.where(sed*a == max(sed*a))])\n",
    "fig = plt.figure(figsize=(14,6))\n",
    "ax = fig.add_subplot(111)\n",
    "ax.set_xlabel(r'\\textbf{$\\lambda$ (${\\rm \\AA}$)}', fontsize=24)\n",
    "ax.set_ylabel(r'\\textbf{Flux ($\\mu$Jy)}', fontsize=24)\n",
    "ax.set_xscale('log')\n",
    "\n",
    "ax.errorbar(W21_lam, W21_phot[ob,:], yerr=W21_err[ob,:], marker='o', c='r', \n",
    "            label='W21 SE/LP', capthick=2, capsize=5, ls='', alpha=0.7)\n",
    "\n",
    "ax.plot(kcorr_wave*(1+cat['photoz'][ob]), sed*a, 'k-', alpha=0.7, label='k-correct fit')\n",
    "\n",
    "ax.set_ylim([-0.1, 2.1])\n",
    "ax.set_xlim([3300.,50000.])\n",
    "ax.legend(fontsize=14, loc=2)\n",
    "plt.show()"
   ]
  },
  {
   "cell_type": "code",
   "execution_count": 17,
   "metadata": {},
   "outputs": [
    {
     "data": {
      "image/png": "[encoded data removed]",
      "text/plain": [
       "<Figure size 1008x432 with 1 Axes>"
      ]
     },
     "metadata": {
      "needs_background": "light"
     },
     "output_type": "display_data"
    }
   ],
   "source": [
    "fig = plt.figure(figsize=(14,6))\n",
    "ax = fig.add_subplot(111)\n",
    "ax.set_xlabel(r'\\textbf{$\\nu$ (Hz)}', fontsize=24)\n",
    "ax.set_ylabel(r'\\textbf{Flux ($\\mu$Jy)}', fontsize=24)\n",
    "ax.set_xscale('log')\n",
    "\n",
    "ax.errorbar(2.99e8 / (W21_lam*10**(-10)), W21_phot[ob,:], yerr=W21_err[ob,:], marker='o', c='r', \n",
    "            label='W21 SE/LP', capthick=2, capsize=5, ls='', alpha=0.7)\n",
    "\n",
    "ax.plot(2.99e8 / (kcorr_wave[wave_mask]*(1+cat['photoz'][ob])*10**(-10)), sed[wave_mask]*a, 'k-', alpha=0.7, label='k-correct fit')\n",
    "\n",
    "#ax.set_xlim([2.99e8/(3300.**10**(-10)),2.99e8/(50000.*10**(-10))])\n",
    "ax.legend(fontsize=14, loc=2)\n",
    "plt.show()"
   ]
  },
  {
   "cell_type": "code",
   "execution_count": 18,
   "metadata": {},
   "outputs": [
    {
     "data": {
      "image/png": "[encoded data removed]",
      "text/plain": [
       "<Figure size 1008x432 with 1 Axes>"
      ]
     },
     "metadata": {
      "needs_background": "light"
     },
     "output_type": "display_data"
    }
   ],
   "source": [
    "fig = plt.figure(figsize=(14,6))\n",
    "ax = fig.add_subplot(111)\n",
    "ax.set_xlabel(r'\\textbf{$\\lambda$ (${\\rm \\AA}$)}', fontsize=24)\n",
    "ax.set_ylabel(r'\\textbf{$\\nu$f$_{\\nu}$ ($\\mu$Jy/${\\rm \\AA}$)}', fontsize=24)\n",
    "ax.set_xscale('log')\n",
    "\n",
    "ax.errorbar(W21_lam, W21_phot[ob,:]/W21_lam, yerr=W21_err[ob,:]/W21_lam, marker='o', c='r', \n",
    "            label='W21 SE/LP', capthick=2, capsize=5, ls='', alpha=0.7)\n",
    "\n",
    "ax.plot(kcorr_wave[wave_mask]*(1+cat['photoz'][ob]), \n",
    "        sed[wave_mask]*a/(kcorr_wave[wave_mask]*(1+cat['photoz'][ob])), \n",
    "        'k-', alpha=0.7, label='k-correct fit')\n",
    "\n",
    "ax.set_xlim([3300.,50000.])\n",
    "ax.legend(fontsize=14, loc=2)\n",
    "plt.show()"
   ]
  },
  {
   "cell_type": "markdown",
   "metadata": {},
   "source": [
    "### Calculate K-Corrections"
   ]
  },
  {
   "cell_type": "code",
   "execution_count": 60,
   "metadata": {},
   "outputs": [],
   "source": [
    "def k_correction(sed, wave_observed, redshift, filter_abs, filter_app):\n",
    "    '''Calculate the k-correction between AB-magnitudes.\n",
    "    sed: array_like\n",
    "        Observed flux as a function of observed wavelength.\n",
    "    wave_observed: array_like\n",
    "        Observed wavelength in Angstrom.\n",
    "    redshift: float or array_like\n",
    "        Redshift of the object.\n",
    "    filter_abs, filter_app: speclite response object\n",
    "        The bandpasses of the K-correction\n",
    "    '''\n",
    "#     print(sed.shape)\n",
    "    wave_emitted = (wave_observed.T / (1+redshift)).T\n",
    "#     print(wave_emitted.shape)\n",
    "    frequency_emitted = 2.99e8 / (wave_emitted*10**(-10))\n",
    "    frequency_observed = 2.99e8 / (wave_observed*10**(-10))\n",
    "#     print(\"Frequency emitted: \", frequency_emitted.shape)\n",
    "#     print(\"Frequency observed: \", frequency_observed.shape)\n",
    "    \n",
    "    response_emitted = np.interp(wave_emitted, filter_abs.wavelength, filter_abs.response)\n",
    "    response_observed = np.interp(wave_observed, filter_app.wavelength, filter_app.response)\n",
    "    int_sed_observed = np.sum(1./frequency_observed * sed * response_observed, axis=-1)\n",
    "#     print(np.sum(1./frequency_observed * sed * response_observed, axis=-1).shape)\n",
    "#     print(\"Shape int obs.: \", int_sed_observed)\n",
    "    int_sed_emitted = np.sum(1./frequency_emitted * sed * response_emitted, axis=-1)\n",
    "#     print(\"Shape int em.: \", int_sed_emitted)\n",
    "    \n",
    "    AB_zero = 3631 * 10**6 # in muJy and frequency space\n",
    "    norm_observed = np.sum(1./frequency_observed * AB_zero * response_observed)\n",
    "    norm_emitted = np.sum(1./frequency_emitted * AB_zero * response_emitted)\n",
    "    \n",
    "    return -2.5 * np.log10((1+redshift) * int_sed_observed/norm_observed * norm_emitted/int_sed_emitted)\n",
    "    "
   ]
  },
  {
   "cell_type": "code",
   "execution_count": 61,
   "metadata": {},
   "outputs": [],
   "source": [
    "i_band = spec.load_filter('hsc2017-i')\n",
    "B_band = spec.load_filter('bessell-B')"
   ]
  },
  {
   "cell_type": "code",
   "execution_count": 62,
   "metadata": {},
   "outputs": [],
   "source": [
    "indices = np.random.choice(len(cat), size=2, replace=False)\n",
    "cat_reduced = cat[indices]\n",
    "coeff_reduced = coeff[indices,:]"
   ]
  },
  {
   "cell_type": "code",
   "execution_count": 63,
   "metadata": {},
   "outputs": [
    {
     "name": "stdout",
     "output_type": "stream",
     "text": [
      "-0.5602896076208825\n",
      "-0.4753594453396035\n"
     ]
    }
   ],
   "source": [
    "seds_cat = np.zeros((len(cat_reduced), len(kcorr_wave)))\n",
    "wave = np.zeros((len(cat_reduced), len(kcorr_wave)))\n",
    "for i in range(len(cat_reduced)):\n",
    "    seds_cat[i] = np.sum(seds.T*coeff_reduced[i,:], axis=1)*a\n",
    "    wave[i] = kcorr_wave*(1+cat_reduced['photoz'][i])\n",
    "    print(k_correction(seds_cat[i], wave[i], cat_reduced['photoz'][i], B_band, i_band))"
   ]
  },
  {
   "cell_type": "code",
   "execution_count": 64,
   "metadata": {},
   "outputs": [
    {
     "name": "stdout",
     "output_type": "stream",
     "text": [
      "[-0.56040225 -0.47524679]\n"
     ]
    }
   ],
   "source": [
    "kcorrections = k_correction(seds_cat, wave, cat_reduced['photoz'], B_band, i_band)\n",
    "print(kcorrections)"
   ]
  },
  {
   "cell_type": "code",
   "execution_count": 65,
   "metadata": {},
   "outputs": [],
   "source": [
    "# get seds and wavelenghts broadcasting\n",
    "seds_cat = np.sum(seds*coeff_reduced[:,:,np.newaxis], axis=1) * a\n",
    "wave = kcorr_wave*(1+cat_reduced['photoz'][:,np.newaxis])"
   ]
  },
  {
   "cell_type": "code",
   "execution_count": 66,
   "metadata": {
    "scrolled": true
   },
   "outputs": [],
   "source": [
    "kcorrections = k_correction(seds_cat, wave, cat_reduced['photoz'], B_band, i_band)"
   ]
  },
  {
   "cell_type": "code",
   "execution_count": 67,
   "metadata": {},
   "outputs": [
    {
     "name": "stdout",
     "output_type": "stream",
     "text": [
      "[0.3648 1.6143]\n",
      "[-0.56040231 -0.47524674]\n"
     ]
    }
   ],
   "source": [
    "print(cat_reduced['photoz'])\n",
    "print(kcorrections)"
   ]
  },
  {
   "cell_type": "code",
   "execution_count": 68,
   "metadata": {},
   "outputs": [
    {
     "name": "stdout",
     "output_type": "stream",
     "text": [
      "(2, 3)\n",
      "[3 3 3] (3,)\n",
      "[3 6] (2,)\n",
      "[3 6] (2,)\n",
      "#####\n",
      "3\n",
      "3\n",
      "3\n"
     ]
    }
   ],
   "source": [
    "d = np.array([[1,1,1],[2,2,2]])\n",
    "print(d.shape)\n",
    "print(d.sum(axis=0), d.sum(axis=0).shape)\n",
    "print(d.sum(axis=1), d.sum(axis=1).shape)\n",
    "print(d.sum(axis=-1), d.sum(axis=-1).shape)\n",
    "print('#####')\n",
    "d = np.array([1,1,1])\n",
    "print(d.sum())\n",
    "print(d.sum(axis=0))\n",
    "print(d.sum(axis=-1))"
   ]
  },
  {
   "cell_type": "markdown",
   "metadata": {},
   "source": [
    "### Get absolute magnitudes for all galaxies\n",
    "\n",
    "Because of memory reasons I will calculate them in a loop"
   ]
  },
  {
   "cell_type": "code",
   "execution_count": 71,
   "metadata": {},
   "outputs": [
    {
     "name": "stderr",
     "output_type": "stream",
     "text": [
      "/Applications/anaconda3/lib/python3.7/site-packages/ipykernel_launcher.py:32: RuntimeWarning: invalid value encountered in double_scalars\n"
     ]
    }
   ],
   "source": [
    "abs_mag = np.zeros(len(cat))\n",
    "for i in range(len(cat)):\n",
    "    seds_cat = np.sum(seds.T*coeff[i,:], axis=1)*a\n",
    "    wave = kcorr_wave*(1+cat['photoz'][i])\n",
    "    k_correct = k_correction(seds_cat, wave, cat['photoz'][i], B_band, i_band)\n",
    "    abs_mag[i] = cat['HSC_i_MAG_APER3'][i] - cosmo.distmod(cat['photoz'][i]).value - k_correct"
   ]
  },
  {
   "cell_type": "code",
   "execution_count": 72,
   "metadata": {},
   "outputs": [
    {
     "name": "stdout",
     "output_type": "stream",
     "text": [
      "[-18.23301665 -16.69588853 -17.82818893 ... -22.5080648  -20.47913582\n",
      " -20.9368777 ]\n"
     ]
    }
   ],
   "source": [
    "print(abs_mag)"
   ]
  },
  {
   "cell_type": "code",
   "execution_count": 92,
   "metadata": {},
   "outputs": [
    {
     "data": {
      "text/plain": [
       "311"
      ]
     },
     "execution_count": 92,
     "metadata": {},
     "output_type": "execute_result"
    }
   ],
   "source": [
    "len(cat['HSC_i_MAG_APER3'][np.isnan(cat['HSC_i_MAG_APER3'])])"
   ]
  },
  {
   "cell_type": "code",
   "execution_count": 93,
   "metadata": {},
   "outputs": [
    {
     "data": {
      "text/plain": [
       "357"
      ]
     },
     "execution_count": 93,
     "metadata": {},
     "output_type": "execute_result"
    }
   ],
   "source": [
    "len(abs_mag[np.isnan(abs_mag)])"
   ]
  },
  {
   "cell_type": "code",
   "execution_count": 81,
   "metadata": {},
   "outputs": [],
   "source": [
    "mag_hist, bin_edges = np.histogram(abs_mag, bins=100, range=(-28,0))\n",
    "bin_centers = bin_edges[:-1] + (bin_edges[-1]-bin_edges[0])/(2*len(bin_edges))"
   ]
  },
  {
   "cell_type": "code",
   "execution_count": 82,
   "metadata": {},
   "outputs": [
    {
     "data": {
      "image/png": "[encoded data removed]",
      "text/plain": [
       "<Figure size 432x288 with 1 Axes>"
      ]
     },
     "metadata": {
      "needs_background": "light"
     },
     "output_type": "display_data"
    }
   ],
   "source": [
    "plt.plot(bin_centers, mag_hist)\n",
    "plt.xlabel(\"M\\_B\")\n",
    "plt.show()"
   ]
  },
  {
   "cell_type": "code",
   "execution_count": 95,
   "metadata": {},
   "outputs": [
    {
     "data": {
      "text/plain": [
       "astropy.io.fits.fitsrec.FITS_rec"
      ]
     },
     "execution_count": 95,
     "metadata": {},
     "output_type": "execute_result"
    }
   ],
   "source": [
    "type(cat)"
   ]
  },
  {
   "cell_type": "markdown",
   "metadata": {},
   "source": [
    "### Save absolute magnitudes into file"
   ]
  },
  {
   "cell_type": "code",
   "execution_count": 103,
   "metadata": {},
   "outputs": [],
   "source": [
    "from astropy.table import Table, Column"
   ]
  },
  {
   "cell_type": "code",
   "execution_count": 106,
   "metadata": {},
   "outputs": [],
   "source": [
    "col = Column(abs_mag, name='AbsMag')\n",
    "t = Table()"
   ]
  },
  {
   "cell_type": "code",
   "execution_count": 107,
   "metadata": {},
   "outputs": [],
   "source": [
    "t.add_column(col)"
   ]
  },
  {
   "cell_type": "code",
   "execution_count": 113,
   "metadata": {},
   "outputs": [
    {
     "name": "stdout",
     "output_type": "stream",
     "text": [
      "441277\n",
      "441277\n"
     ]
    }
   ],
   "source": [
    "print(len(t))\n",
    "print(len(cat))"
   ]
  },
  {
   "cell_type": "code",
   "execution_count": 114,
   "metadata": {},
   "outputs": [],
   "source": [
    "t.write(\"/Users/philipp/Documents/PhD/Data/Cosmos_Classic_absolute_mags.fits\", format='fits')"
   ]
  },
  {
   "cell_type": "code",
   "execution_count": null,
   "metadata": {},
   "outputs": [],
   "source": []
  }
 ],
 "metadata": {
  "kernelspec": {
   "display_name": "Python 3",
   "language": "python",
   "name": "python3"
  },
  "language_info": {
   "codemirror_mode": {
    "name": "ipython",
    "version": 3
   },
   "file_extension": ".py",
   "mimetype": "text/x-python",
   "name": "python",
   "nbconvert_exporter": "python",
   "pygments_lexer": "ipython3",
   "version": "3.7.3"
  }
 },
 "nbformat": 4,
 "nbformat_minor": 2
}
