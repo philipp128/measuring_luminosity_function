{
 "cells": [
  {
   "cell_type": "code",
   "execution_count": null,
   "metadata": {},
   "outputs": [],
   "source": [
    "import numpy as np\n",
    "from skypy.pipeline import Pipeline\n",
    "import matplotlib.pyplot as plt\n",
    "import astropy.io.fits as pyfits\n",
    "import speclite.filters as spec\n",
    "from astropy.cosmology import FlatLambdaCDM\n",
    "cosmo = FlatLambdaCDM(Om0=0.3, H0=70)\n",
    "\n",
    "plt.rc('font',**{'family':'serif','size':14})\n",
    "plt.rc('text', usetex=True)"
   ]
  },
  {
   "cell_type": "code",
   "execution_count": null,
   "metadata": {},
   "outputs": [],
   "source": [
    "cosmos = pyfits.open(\"/Users/philipp/Documents/PhD/Data/COSMOS2020_Classic_processed.fits\")[1].data\n",
    "mask = np.where((23.9-2.5*np.log10(cosmos['UVISTA_Ks_FLUX_APER3'])<25.5)&(cosmos['photoz']>0))[0]\n",
    "cosmos = cosmos[mask]\n",
    "cosmos_abs_mag = pyfits.open(\"/Users/philipp/Documents/PhD/Data/Cosmos_Classic_absolute_mags.fits\")[1].data['AbsMag']\n",
    "print(len(cosmos))\n",
    "print(len(cosmos_abs_mag))\n",
    "print('#######')\n",
    "\n",
    "mask = np.where((cosmos['photoz']>0) &\n",
    "                (cosmos['photoz']<8.) &\n",
    "#                 (23.9-2.5*np.log10(cosmos['UVISTA_Ks_FLUX_APER3'])<24.5) &\n",
    "                (cosmos['lp_type']==0))[0]\n",
    "cosmos = cosmos[mask]\n",
    "cosmos_abs_mag = cosmos_abs_mag[mask]\n",
    "print(len(cosmos))\n",
    "print(len(cosmos_abs_mag))"
   ]
  }
 ],
 "metadata": {
  "kernelspec": {
   "display_name": "Python 3",
   "language": "python",
   "name": "python3"
  },
  "language_info": {
   "codemirror_mode": {
    "name": "ipython",
    "version": 3
   },
   "file_extension": ".py",
   "mimetype": "text/x-python",
   "name": "python",
   "nbconvert_exporter": "python",
   "pygments_lexer": "ipython3",
   "version": "3.7.3"
  }
 },
 "nbformat": 4,
 "nbformat_minor": 2
}
