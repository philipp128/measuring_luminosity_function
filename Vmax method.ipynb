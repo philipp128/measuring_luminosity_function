{
 "cells": [
  {
   "cell_type": "code",
   "execution_count": 1,
   "metadata": {},
   "outputs": [],
   "source": [
    "import numpy as np\n",
    "from skypy.pipeline import Pipeline\n",
    "import matplotlib.pyplot as plt\n",
    "import astropy.io.fits as pyfits\n",
    "import speclite.filters as spec\n",
    "from astropy.modeling.models import Linear1D, Exponential1D\n",
    "from astropy.units import Quantity\n",
    "from astropy.cosmology import FlatLambdaCDM\n",
    "cosmo = FlatLambdaCDM(Om0=0.3, H0=70)\n",
    "\n",
    "plt.rc('font',**{'family':'serif','size':14})\n",
    "plt.rc('text', usetex=True)"
   ]
  },
  {
   "cell_type": "code",
   "execution_count": 2,
   "metadata": {},
   "outputs": [],
   "source": [
    "def k_correction(sed, wave_observed, redshift, filter_abs, filter_app):\n",
    "    '''Calculate the k-correction between AB-magnitudes.\n",
    "    sed: array_like\n",
    "        Observed flux as a function of observed wavelength.\n",
    "    wave_observed: array_like\n",
    "        Observed wavelength in Angstrom.\n",
    "    redshift: float or array_like\n",
    "        Redshift of the object.\n",
    "    filter_abs, filter_app: speclite response object\n",
    "        The bandpasses of the K-correction\n",
    "    '''\n",
    "#     print(sed.shape)\n",
    "    wave_emitted = (wave_observed.T / (1+redshift)).T\n",
    "#     print(wave_emitted.shape)\n",
    "    frequency_emitted = 2.99e8 / (wave_emitted*10**(-10))\n",
    "    frequency_observed = 2.99e8 / (wave_observed*10**(-10))\n",
    "#     print(\"Frequency emitted: \", frequency_emitted.shape)\n",
    "#     print(\"Frequency observed: \", frequency_observed.shape)\n",
    "    \n",
    "    response_emitted = np.interp(wave_emitted, filter_abs.wavelength, filter_abs.response)\n",
    "    response_observed = np.interp(wave_observed, filter_app.wavelength, filter_app.response)\n",
    "    int_sed_observed = np.sum(1./frequency_observed * sed * response_observed, axis=-1)\n",
    "#     print(np.sum(1./frequency_observed * sed * response_observed, axis=-1).shape)\n",
    "#     print(\"Shape int obs.: \", int_sed_observed)\n",
    "    int_sed_emitted = np.sum(1./frequency_emitted * sed * response_emitted, axis=-1)\n",
    "#     print(\"Shape int em.: \", int_sed_emitted)\n",
    "    \n",
    "    AB_zero = 3631 * 10**6 # in muJy and frequency space\n",
    "    norm_observed = np.sum(1./frequency_observed * AB_zero * response_observed)\n",
    "    norm_emitted = np.sum(1./frequency_emitted * AB_zero * response_emitted)\n",
    "    \n",
    "    return -2.5 * np.log10((1+redshift) * int_sed_observed/norm_observed * norm_emitted/int_sed_emitted)\n",
    "\n",
    "def lum_model(z, M_bins):\n",
    "    m_star_sf = Linear1D(-0.439, -20.623)\n",
    "    m_star_q = Linear1D(-0.697, -20.372)\n",
    "    phi_star_sf = Exponential1D(0.004245, -11.36364)\n",
    "    phi_star_q = Exponential1D(0.005169, -1.19617)\n",
    "    \n",
    "    L_sf = 10 ** (0.4 * (m_star_sf(z) - M_bins[:, np.newaxis]))\n",
    "    L_q = 10 ** (0.4 * (m_star_q(z) - M_bins[:, np.newaxis]))\n",
    "    \n",
    "    phi_model_z_sf = 0.4 * np.log(10) * phi_star_sf(z) * L_sf ** (-1.3+1) * np.exp(-L_sf)\n",
    "    phi_model_z_q = 0.4 * np.log(10) * phi_star_q(z) * L_q ** (-0.5+1) * np.exp(-L_q)\n",
    "    \n",
    "    phi_model_sf = np.median(phi_model_z_sf, axis=1)\n",
    "    phi_model_q = np.median(phi_model_z_q, axis=1)\n",
    "    \n",
    "    return phi_model_sf + phi_model_q\n",
    "\n",
    "def k_correction_interp_before_int_ratio(kcorr_templates, kcorr_wave, redshift, filter_abs, filter_app, coeffs):\n",
    "    # shape coeff (redshift, 5)\n",
    "    # cause the integral ratio decreases rapidly with small redshifts\n",
    "    z_grid = np.geomspace(min(redshift), max(redshift), 100)\n",
    "    wave_observed = kcorr_wave * (1+z_grid[:, np.newaxis])\n",
    "    \n",
    "    frequency_emitted = 2.99e8 / (kcorr_wave*10**(-10))\n",
    "    frequency_observed = 2.99e8 / (wave_observed*10**(-10))\n",
    "\n",
    "    response_emitted = np.interp(kcorr_wave, filter_abs.wavelength, filter_abs.response) \\\n",
    "                        * 2.99e8 / kcorr_wave**2 # shape kcorr_wave\n",
    "    response_observed = np.interp(wave_observed, filter_app.wavelength, filter_app.response) \\\n",
    "                        * 2.99e8 / wave_observed**2 # shape (z_grid, kcorr_wave)\n",
    "\n",
    "    int_sed_observed = np.trapz(1./frequency_observed[..., np.newaxis] * kcorr_templates.T * \n",
    "                                response_observed[..., np.newaxis], \n",
    "                                frequency_observed[..., np.newaxis], axis=1) # shape (z_grid, coeff[0])\n",
    "    \n",
    "    int_z_observed = np.zeros((len(coeffs[0]), len(redshift)))\n",
    "    for i in range(len(coeffs[0])):\n",
    "        int_z_observed[i] = np.interp(redshift, z_grid, int_sed_observed[:,i])\n",
    "    int_sed_observed = np.sum(coeffs*int_z_observed.T, axis=-1)\n",
    "\n",
    "    int_sed_emitted = np.trapz(1./frequency_emitted[..., np.newaxis] * kcorr_templates.T * \n",
    "                               response_emitted[..., np.newaxis], \n",
    "                               frequency_emitted, axis=0) # shape coeff[0]\n",
    "    int_sed_emitted = np.sum(coeffs*int_sed_emitted, axis=-1)\n",
    "\n",
    "    \n",
    "    AB_zero = 3631 * 10**6 # in muJy and frequency space\n",
    "\n",
    "    norm_observed = np.trapz(1./frequency_observed * AB_zero * response_observed, frequency_observed, axis=-1) # shape z_grid\n",
    "    norm_observed = np.interp(redshift, z_grid, norm_observed)\n",
    "    norm_emitted = np.trapz(1./frequency_emitted * AB_zero * response_emitted, frequency_emitted, axis=-1) # shape ()\n",
    "    \n",
    "    return -2.5 * np.log10((1+redshift) * int_sed_observed/norm_observed * norm_emitted/int_sed_emitted)"
   ]
  },
  {
   "cell_type": "markdown",
   "metadata": {},
   "source": [
    "### Data\n",
    "- first: simulation\n",
    "- second: COSMOS"
   ]
  },
  {
   "cell_type": "code",
   "execution_count": 3,
   "metadata": {},
   "outputs": [
    {
     "name": "stdout",
     "output_type": "stream",
     "text": [
      "462689\n",
      "[6.0025757e+02 6.0077289e+02 6.0128870e+02 ... 3.1931410e+06 3.1958825e+06\n",
      " 3.1986262e+06]\n"
     ]
    }
   ],
   "source": [
    "pipeline = Pipeline.read(\"/Users/philipp/Documents/PhD/lum_func_measurement/COSMOS2020_tortorelli2021.yaml\")\n",
    "pipeline.execute()\n",
    "sim_sf = pipeline['SF']\n",
    "sim_q = pipeline['Q']\n",
    "sim = np.concatenate((sim_sf, sim_q))\n",
    "mask = np.where((sim['m_vista_true'][:,3]+sim['m_vista_sim'][:,3]<24.5)&(sim['z']>0))[0]\n",
    "sim = sim[mask]\n",
    "print(len(sim))\n",
    "\n",
    "kcorr = pyfits.open(\"/Users/philipp/Documents/PhD/lum_func_measurement/templates/k_nmf_derived.default.fits\")\n",
    "\n",
    "seds = kcorr[1].data\n",
    "kcorr_wave = kcorr[11].data\n",
    "print(kcorr_wave)\n",
    "for i in range(5):\n",
    "    seds[i,:] = seds[i,:] * ((kcorr_wave*kcorr_wave*1e-10)/2.99e8) * 1e29\n",
    "    \n",
    "hsc_i = spec.load_filter('hsc2017-i')\n",
    "hsc_r = spec.load_filter('hsc2017-r')\n",
    "bessell_B = spec.load_filter('bessell-B')\n",
    "\n",
    "# abs_mag_sim_kcorrect = np.zeros(len(sim))\n",
    "# sim_k_correct = np.zeros(len(sim))\n",
    "# for i in range(len(sim)):\n",
    "#     sed = np.sum(seds.T*sim['coeff'][i,:], axis=1)\n",
    "#     wave = kcorr_wave*(1+sim['z'][i])\n",
    "#     sim_k_correct[i] = k_correction(sed, wave, sim['z'][i], B_band, i_band)\n",
    "#     abs_mag_sim_kcorrect[i] = sim['m_hsc_true'][i,2] + sim['m_hsc_sim'][i,2] - cosmo.distmod(sim['z'][i]).value \\\n",
    "#                                 - sim_k_correct[i]\n",
    "\n",
    "sim_k_correct = k_correction_interp_before_int_ratio(seds, kcorr_wave, sim['z'], bessell_B, hsc_i, sim['coeff'])\n",
    "abs_mag_sim_kcorrect = sim['m_hsc_true'][:,2] + sim['m_hsc_sim'][:,2] - cosmo.distmod(sim['z']).value - sim_k_correct"
   ]
  },
  {
   "cell_type": "code",
   "execution_count": 4,
   "metadata": {},
   "outputs": [
    {
     "name": "stdout",
     "output_type": "stream",
     "text": [
      "['hsc2017', 'i']\n",
      "i\n",
      "['hsc', '2017', '']\n",
      "hsc\n",
      "<class 'str'>\n",
      "grizy\n",
      "2\n"
     ]
    }
   ],
   "source": [
    "import re\n",
    "s = 'hsc2017-i'\n",
    "#s = 'bessell-Ks'\n",
    "print(s.split('-'))\n",
    "band = s.split('-')[1][0]\n",
    "print(band)\n",
    "print(re.split('(\\d+)', s.split('-')[0]))\n",
    "filter_ = re.split('(\\d+)', s.split('-')[0])[0]\n",
    "print(filter_)\n",
    "print(type(re.split('(\\d+)', s.split('-')[0])[0]))\n",
    "bands = pipeline[f'bands_{filter_}']\n",
    "print(bands)\n",
    "index = bands.find(band)\n",
    "print(index)"
   ]
  },
  {
   "cell_type": "code",
   "execution_count": 5,
   "metadata": {},
   "outputs": [
    {
     "name": "stdout",
     "output_type": "stream",
     "text": [
      "404454\n"
     ]
    }
   ],
   "source": [
    "pipeline = Pipeline.read(\"/Users/philipp/Documents/PhD/lum_func_measurement/COSMOS2020_Will.yaml\")\n",
    "pipeline.execute()\n",
    "sim_sf = pipeline['SF']\n",
    "sim_q = pipeline['passive_1']\n",
    "sim_q2 = pipeline['passive_2']\n",
    "sim_will = np.concatenate((sim_sf, np.concatenate((sim_q, sim_q2))))\n",
    "mask = np.where((sim_will['m_vista_true'][:,3]+sim_will['m_vista_sim'][:,3]<24.5)&(sim_will['z']>0))[0]\n",
    "sim_will = sim_will[mask]\n",
    "print(len(sim_will))\n",
    "\n",
    "kcorr = pyfits.open(\"/Users/philipp/Documents/PhD/lum_func_measurement/templates/k_nmf_derived.default.fits\")\n",
    "\n",
    "seds = kcorr[1].data\n",
    "kcorr_wave = kcorr[11].data\n",
    "for i in range(5):\n",
    "    seds[i,:] = seds[i,:] * ((kcorr_wave*kcorr_wave*1e-10)/2.99e8) * 1e29\n",
    "    \n",
    "i_band = spec.load_filter('hsc2017-i')\n",
    "r_band = spec.load_filter('hsc2017-r')\n",
    "B_band = spec.load_filter('bessell-B')\n",
    "\n",
    "# abs_mag_sim_will_kcorrect = np.zeros(len(sim_will))\n",
    "# sim_will_k_correct = np.zeros(len(sim_will))\n",
    "# for i in range(len(sim_will)):\n",
    "#     sed = np.sum(seds.T*sim_will['coeff'][i,:], axis=1)\n",
    "#     wave = kcorr_wave*(1+sim_will['z'][i])\n",
    "#     sim_will_k_correct[i] = k_correction(sed, wave, sim_will['z'][i], B_band, i_band)\n",
    "#     abs_mag_sim_will_kcorrect[i] = sim_will['m_hsc_true'][i,2] + sim_will['m_hsc_sim'][i,2] - cosmo.distmod(sim_will['z'][i]).value \\\n",
    "#                                 - sim_will_k_correct[i]\n",
    "    \n",
    "sim_will_k_correct = k_correction_interp_before_int_ratio(seds, kcorr_wave, sim_will['z'], \n",
    "                                                          B_band, i_band, sim_will['coeff'])\n",
    "abs_mag_sim_will_kcorrect = sim_will['m_hsc_true'][:,2] + sim_will['m_hsc_sim'][:,2] - cosmo.distmod(sim_will['z']).value - sim_will_k_correct"
   ]
  },
  {
   "cell_type": "code",
   "execution_count": 6,
   "metadata": {},
   "outputs": [
    {
     "name": "stderr",
     "output_type": "stream",
     "text": [
      "/Applications/anaconda3/lib/python3.7/site-packages/ipykernel_launcher.py:2: RuntimeWarning: invalid value encountered in log10\n",
      "  \n"
     ]
    },
    {
     "name": "stdout",
     "output_type": "stream",
     "text": [
      "441277\n",
      "441277\n",
      "#######\n",
      "261209\n",
      "261209\n",
      "261209\n"
     ]
    }
   ],
   "source": [
    "cosmos = pyfits.open(\"/Users/philipp/Documents/PhD/Data/COSMOS2020_Classic_processed.fits\")[1].data\n",
    "mask = np.where((23.9-2.5*np.log10(cosmos['UVISTA_Ks_FLUX_APER3'])<25.5)&(cosmos['photoz']>0))[0]\n",
    "cosmos = cosmos[mask]\n",
    "cosmos_abs_mag = pyfits.open(\"/Users/philipp/Documents/PhD/Data/Cosmos_Classic_absolute_mags.fits\")[1].data['AbsMag']\n",
    "cosmos_k_correct = pyfits.open(\"/Users/philipp/Documents/PhD/Data/Cosmos_Classic_absolute_mags.fits\")[1].data['K-Correction']\n",
    "cosmos_abs_mag_interp = pyfits.open(\"/Users/philipp/Documents/PhD/Data/Cosmos_Classic_absolute_mags.fits\")[1].data['AbsMag Interp']\n",
    "cosmos_k_correct_interp = pyfits.open(\"/Users/philipp/Documents/PhD/Data/Cosmos_Classic_absolute_mags.fits\")[1].data['K-Correction Interp']\n",
    "print(len(cosmos))\n",
    "print(len(cosmos_abs_mag))\n",
    "print('#######')\n",
    "\n",
    "mask = np.where((cosmos['photoz']>0) &\n",
    "                (cosmos['photoz']<8.) &\n",
    "                 (23.9-2.5*np.log10(cosmos['UVISTA_Ks_FLUX_APER3'])<24.5) &\n",
    "                (cosmos['lp_type']==0))[0]\n",
    "cosmos = cosmos[mask]\n",
    "cosmos_abs_mag = cosmos_abs_mag[mask]\n",
    "cosmos_k_correct = cosmos_k_correct[mask]\n",
    "cosmos_abs_mag_interp = cosmos_abs_mag_interp[mask]\n",
    "cosmos_k_correct_interp = cosmos_k_correct_interp[mask]\n",
    "print(len(cosmos))\n",
    "print(len(cosmos_abs_mag))\n",
    "print(len(cosmos_k_correct))"
   ]
  },
  {
   "cell_type": "markdown",
   "metadata": {},
   "source": [
    "### Implementation from Will"
   ]
  },
  {
   "cell_type": "code",
   "execution_count": 7,
   "metadata": {},
   "outputs": [],
   "source": [
    "def Vmax(zlo, zhi, z, mag_lim, mag, zarr, dm, vol):\n",
    "    # compute the maximum observable volume an object has within the defined bin\n",
    "    dz = zarr[1] - zarr[0]\n",
    "    m_diff = mag_lim - mag # how far above the flux limit is it?\n",
    "    max_dm = dm[-1] - dm[np.where(z+dz/2>zarr)[0][-1]] # why z + dz\n",
    "    if max_dm > m_diff: # why comparing max_dm and m_diff\n",
    "        # find max z\n",
    "        max_z_indx = np.where(dm<dm[np.where(z+dz/2>zarr)[0][-1]]+m_diff)[0][-1]\n",
    "        vmax = vol[max_z_indx] - vol[0]\n",
    "    else:\n",
    "        vmax = vol[-1] - vol[0]\n",
    "    return vmax\n",
    "\n",
    "def get_dm(z, cosmo):\n",
    "    return 5*np.log10(cosmo.luminosity_distance(z).value * 1e5) - 2.5*np.log10(1+z)\n",
    "\n",
    "def get_bin_weights(z, cosmo, area, zbin, mag, maglim):\n",
    "    # compute Vmax for each object, based on their mag and survey maglim.\n",
    "    # Objects lying outside the redshift intervals have weight = 0.\n",
    "    # Set-up cosmo arrays\n",
    "    zarr = np.arange(zbin[0], zbin[1]+(zbin[1]-zbin[0])/1000, (zbin[1]-zbin[0])/1000)\n",
    "    # set up an array of dist. moduli - perhaps should have done this earlier in the code.\n",
    "    dm = get_dm(zarr, cosmo)\n",
    "    vol = (area/41252.96) * cosmo.comoving_volume(zarr).value\n",
    "\n",
    "    weights = np.zeros_like(z)\n",
    "    sel = np.where((z>=zbin[0])&(z<zbin[1]))[0]\n",
    "    weights[sel] = np.array([1./Vmax(zbin[0], zbin[1], z[sel][j], maglim, mag[sel][j], zarr, dm,\n",
    "                                     vol) for j in range(len(sel))])\n",
    "    weights[np.isinf(weights)] = 0.\n",
    "    return weights\n",
    "\n",
    "def effective_weight(inv_vmax, completeness_weights=None):\n",
    "    # compute the effective weight in a luminosity bin\n",
    "    if completeness_weights is None:\n",
    "        weff = np.sum(inv_vmax**2) / np.sum(inv_vmax)\n",
    "    else:\n",
    "        weff = np.sum((completeness_weights*inv_vmax)**2) / np.sum(completeness_weights*inv_vmax)\n",
    "    return weff\n",
    "\n",
    "def effective_number(inv_vmax, weff, completeness_weights=None):\n",
    "    if completeness_weights is None:\n",
    "        Neff = np.sum(inv_vmax) / weff\n",
    "    else:\n",
    "        Neff = np.sum(completeness_weights*inv_vmax) / weff\n",
    "    return Neff"
   ]
  },
  {
   "cell_type": "code",
   "execution_count": 8,
   "metadata": {},
   "outputs": [],
   "source": [
    "redshift_range = [0.2, 0.4]"
   ]
  },
  {
   "cell_type": "code",
   "execution_count": 9,
   "metadata": {},
   "outputs": [],
   "source": [
    "weights = get_bin_weights(cosmos['photoz'], cosmo, 1.27, redshift_range, cosmos['UVISTA_Ks_MAG_APER3'], 35)"
   ]
  },
  {
   "cell_type": "code",
   "execution_count": 10,
   "metadata": {},
   "outputs": [],
   "source": [
    "weights_sim = get_bin_weights(sim['z'], cosmo, 1.27, redshift_range, sim['m_vista_true'][:,3]+sim['m_vista_sim'][:,3], 35)"
   ]
  },
  {
   "cell_type": "code",
   "execution_count": 11,
   "metadata": {},
   "outputs": [
    {
     "name": "stderr",
     "output_type": "stream",
     "text": [
      "/Applications/anaconda3/lib/python3.7/site-packages/ipykernel_launcher.py:36: RuntimeWarning: invalid value encountered in double_scalars\n"
     ]
    }
   ],
   "source": [
    "# calculate the luminosity functions\n",
    "Mbins = np.arange(-27,-12+0.2,0.2)\n",
    "phi = np.histogram(cosmos_abs_mag, weights=weights, bins=Mbins)[0]\n",
    "phi_sim = np.histogram(abs_mag_sim_kcorrect, weights=weights_sim, bins=Mbins)[0]\n",
    "\n",
    "bin_widths = Mbins[1:] - Mbins[:-1]\n",
    "phi = phi / bin_widths\n",
    "phi_sim = phi_sim / bin_widths\n",
    "Mmid = (Mbins[1:] + Mbins[:-1])/2.\n",
    "\n",
    "# calculate errors for COSMOS\n",
    "weff = np.ones_like(phi)\n",
    "Neff = np.ones_like(phi)\n",
    "for lbin in range(len(Mbins)-1):\n",
    "    # Following Weigel+15\n",
    "    mask = np.where((cosmos_abs_mag>=Mbins[lbin])&(cosmos_abs_mag<Mbins[lbin+1]))[0]\n",
    "    weff[lbin] = effective_weight(weights[mask])\n",
    "    Neff[lbin] = effective_number(weights[mask], weff[lbin])\n",
    "phi_err_up = weff * (Neff + np.sqrt(Neff+0.75) + 1) / bin_widths - phi\n",
    "phi_err_dn = phi - weff * (Neff - np.sqrt(Neff-0.25)) / bin_widths\n",
    "# handle cases where N is zero - upper limit is 0.814 / max(Vmax)\n",
    "phi_err_dn[np.isnan(phi_err_dn)] = 0.\n",
    "phi_err_up[np.isnan(phi_err_up)] = 0.814 * np.min(weights[weights>0.])\n",
    "\n",
    "# calculate errors for Sim\n",
    "weff_sim = np.ones_like(phi_sim)\n",
    "Neff_sim = np.ones_like(phi_sim)\n",
    "for lbin in range(len(Mbins)-1):\n",
    "    # Following Weigel+15\n",
    "    mask = np.where((abs_mag_sim_kcorrect>=Mbins[lbin])&(abs_mag_sim_kcorrect<Mbins[lbin+1]))[0]\n",
    "    weff_sim[lbin] = effective_weight(weights_sim[mask])\n",
    "    Neff_sim[lbin] = effective_number(weights_sim[mask], weff_sim[lbin])\n",
    "phi_err_up_sim = weff_sim * (Neff_sim + np.sqrt(Neff_sim+0.75) + 1) / bin_widths - phi_sim\n",
    "phi_err_dn_sim = phi_sim - weff_sim * (Neff_sim - np.sqrt(Neff_sim-0.25)) / bin_widths\n",
    "# handle cases where N is zero - upper limit is 0.814 / max(Vmax)\n",
    "phi_err_dn_sim[np.isnan(phi_err_dn_sim)] = 0.\n",
    "phi_err_up_sim[np.isnan(phi_err_up_sim)] = 0.814 * np.min(weights_sim[weights_sim>0.])"
   ]
  },
  {
   "cell_type": "code",
   "execution_count": 12,
   "metadata": {},
   "outputs": [
    {
     "data": {
      "image/png": "[encoded data removed]",
      "text/plain": [
       "<Figure size 648x432 with 1 Axes>"
      ]
     },
     "metadata": {
      "needs_background": "light"
     },
     "output_type": "display_data"
    }
   ],
   "source": [
    "z = np.linspace(redshift_range[0], redshift_range[1], 100)\n",
    "sky_area = Quantity(1.27, \"deg2\")\n",
    "phi_model = lum_model(z, Mmid)\n",
    "\n",
    "z_mask = np.logical_and(sim['z'] >= redshift_range[0], sim['z'] < redshift_range[1])\n",
    "dV_dz = (cosmo.differential_comoving_volume(z) * sky_area).to_value('Mpc3')\n",
    "dV = np.trapz(dV_dz, z)\n",
    "dM = (np.max(Mbins)-np.min(Mbins)) / (np.size(Mbins)-1)\n",
    "phi_skypy = np.histogram(sim['M_B'][z_mask], bins=Mbins)[0] / dV / dM\n",
    "\n",
    "fig = plt.figure(figsize=(9,6))\n",
    "ax = fig.add_subplot(111)\n",
    "ax.set_xlabel(r\"\\textbf{Absolute Magnitude [mag]}\", fontsize=24)\n",
    "ax.set_ylabel(r'\\textbf{$\\Phi$ [N/Mpc$^3$/mag]}', fontsize=24)\n",
    "#ax.set_xlim([-27,-12.5])\n",
    "#ax.set_ylim([5.e-7,0.15])\n",
    "ax.set_yscale('log')\n",
    "ax.errorbar(Mmid, phi, yerr=np.array([phi_err_dn,phi_err_up]), alpha=0.6,\n",
    "            fmt='o', capsize=6, label=\"COSMOS\")\n",
    "ax.errorbar(Mmid, phi_sim, yerr=np.array([phi_err_dn_sim,phi_err_up_sim]), alpha=0.6,\n",
    "            fmt='o', capsize=6, label=\"Simulation\")\n",
    "ax.plot(Mmid, phi_model, label=\"Model\")\n",
    "ax.plot(Mmid, phi_skypy, label=\"SkyPy Sim\")\n",
    "ax.set_ylim([5.e-8, 2.e-1])\n",
    "plt.legend()\n",
    "plt.title(f'redshift range: {redshift_range}')\n",
    "plt.show()"
   ]
  },
  {
   "cell_type": "markdown",
   "metadata": {},
   "source": [
    "### Optimised implementation of Will's approach\n",
    "\n",
    "This implementation enables to use arrays as the input and looping in `get_bin_weights` becomes unnecessary. This will reduce the computing time"
   ]
  },
  {
   "cell_type": "code",
   "execution_count": 13,
   "metadata": {},
   "outputs": [
    {
     "name": "stdout",
     "output_type": "stream",
     "text": [
      "Check\n",
      "[[False False  True  True  True  True  True]\n",
      " [False False False False  True  True  True]\n",
      " [False False False False False False  True]]\n",
      "[[False False False False  True  True  True]\n",
      " [False False False False False False  True]\n",
      " [False False False False False False False]]\n",
      "[1 3 5]\n",
      "[ 3  5 -1]\n",
      "Test\n",
      "[3.02047748e-08 3.02047748e-08 3.02047748e-08]\n"
     ]
    },
    {
     "name": "stderr",
     "output_type": "stream",
     "text": [
      "/Applications/anaconda3/lib/python3.7/site-packages/ipykernel_launcher.py:15: RuntimeWarning: divide by zero encountered in log10\n",
      "  from ipykernel import kernelapp as app\n"
     ]
    }
   ],
   "source": [
    "def Vmax_array(z, mag_lim, mag, zarr, dm, vol):\n",
    "    # compute the maximum observable volume an object has within the defined bin\n",
    "    dz = zarr[1] - zarr[0]\n",
    "    m_diff = mag_lim - mag # how far above the flux limit is it?\n",
    "    z_dz = z+dz/2\n",
    "    # get the last column indices of len(zarr) where z_dz > zarr\n",
    "    # that corresponds to the first index minus 1 where z_arr >= z_dz\n",
    "    col_indices = np.argmax(z_dz[:, np.newaxis] <= zarr, axis=-1) - 1\n",
    "    row_indices = np.linspace(0, len(z_dz)-1, len(z_dz))\n",
    "    max_z_indx = np.argmax((dm[col_indices]+m_diff)[:, np.newaxis] <= dm, axis=-1) - 1\n",
    "    vmax = vol[max_z_indx] - vol[0]\n",
    "    return vmax\n",
    "\n",
    "def get_dm(z, cosmo):\n",
    "    return 5*np.log10(cosmo.luminosity_distance(z).value * 1e5) - 2.5*np.log10(1+z)\n",
    "\n",
    "def get_bin_weights_array(z, cosmo, area, zbin, mag, maglim):\n",
    "    # compute Vmax for each object, based on their mag and survey maglim.\n",
    "    # Objects lying outside the redshift intervals have weight = 0.\n",
    "    # Set-up cosmo arrays\n",
    "    zarr = np.arange(zbin[0], zbin[1]+(zbin[1]-zbin[0])/1000, (zbin[1]-zbin[0])/1000)\n",
    "    # set up an array of dist. moduli - perhaps should have done this earlier in the code.\n",
    "    dm = get_dm(zarr, cosmo)\n",
    "    vol = (area/41252.96) * cosmo.comoving_volume(zarr).value\n",
    "\n",
    "    weights = np.zeros_like(z)\n",
    "    sel = np.where((z>=zbin[0])&(z<zbin[1]))[0]\n",
    "    weights[sel] = 1./Vmax_array(z[sel], maglim, mag[sel], zarr, dm,\n",
    "                                     vol)\n",
    "    weights[np.isinf(weights)] = 0.\n",
    "    return weights\n",
    "\n",
    "# check implementation idea\n",
    "print(\"Check\")\n",
    "z = np.array([1,2,3])\n",
    "z2 = np.array([2,3,6])\n",
    "zarr = np.array([0.5,0.9,1.1,1.9,2.1,2.9,3.1])\n",
    "print(z[:, np.newaxis] <= zarr)\n",
    "print(z2[:, np.newaxis] <= zarr)\n",
    "print(np.argmax(z[:, np.newaxis] <= zarr, axis=-1) - 1)\n",
    "print(np.argmax(z2[:, np.newaxis] <= zarr, axis=-1) - 1)\n",
    "\n",
    "# test implementation\n",
    "print(\"Test\")\n",
    "z = np.array([0.5, 1, 2])\n",
    "mag = np.array([15, 22, 23])\n",
    "k_correct = np.array([-0.42, -1.15, -0.7])\n",
    "\n",
    "test_weights_original = get_bin_weights(z, cosmo, 1.27, [0, 3], mag, 24.5)\n",
    "test_weights = get_bin_weights_array(z, cosmo, 1.27, [0, 3], mag, 24.5)\n",
    "\n",
    "print(test_weights)"
   ]
  },
  {
   "cell_type": "code",
   "execution_count": 14,
   "metadata": {},
   "outputs": [],
   "source": [
    "redshift_range = [0.01, 3]"
   ]
  },
  {
   "cell_type": "code",
   "execution_count": 15,
   "metadata": {},
   "outputs": [
    {
     "name": "stdout",
     "output_type": "stream",
     "text": [
      "[2.22483562e-07 2.35012918e-07 5.74530925e-08 ... 0.00000000e+00\n",
      " 3.01639168e-08 3.01639168e-08]\n"
     ]
    },
    {
     "name": "stderr",
     "output_type": "stream",
     "text": [
      "/Applications/anaconda3/lib/python3.7/site-packages/ipykernel_launcher.py:29: RuntimeWarning: divide by zero encountered in true_divide\n"
     ]
    }
   ],
   "source": [
    "weights_array = get_bin_weights_array(cosmos['photoz'], cosmo, 1.27, \n",
    "                                      redshift_range, cosmos['UVISTA_Ks_MAG_APER3'], 24.5)\n",
    "print(weights_array)"
   ]
  },
  {
   "cell_type": "code",
   "execution_count": 16,
   "metadata": {},
   "outputs": [
    {
     "name": "stderr",
     "output_type": "stream",
     "text": [
      "/Applications/anaconda3/lib/python3.7/site-packages/ipykernel_launcher.py:29: RuntimeWarning: divide by zero encountered in true_divide\n"
     ]
    }
   ],
   "source": [
    "weights_sim_array = get_bin_weights_array(sim['z'], cosmo, 1.27, \n",
    "                                          redshift_range, sim['m_vista_true'][:,3]+sim['m_vista_sim'][:,3], 24.5)"
   ]
  },
  {
   "cell_type": "code",
   "execution_count": 17,
   "metadata": {},
   "outputs": [],
   "source": [
    "weights_sim_will_array = get_bin_weights_array(sim_will['z'], cosmo, 1.27, \n",
    "                                          redshift_range, sim_will['m_vista_true'][:,3]+sim_will['m_vista_sim'][:,3], 24.5)"
   ]
  },
  {
   "cell_type": "code",
   "execution_count": 18,
   "metadata": {},
   "outputs": [
    {
     "name": "stderr",
     "output_type": "stream",
     "text": [
      "/Applications/anaconda3/lib/python3.7/site-packages/ipykernel_launcher.py:36: RuntimeWarning: invalid value encountered in double_scalars\n"
     ]
    }
   ],
   "source": [
    "# calculate luminosity functions\n",
    "Mbins = np.arange(-27,-12+0.2,0.2)\n",
    "phi = np.histogram(cosmos_abs_mag, weights=weights_array, bins=Mbins)[0]\n",
    "phi_interp = np.histogram(cosmos_abs_mag_interp, weights=weights_array, bins=Mbins)[0]\n",
    "phi_sim = np.histogram(abs_mag_sim_kcorrect, weights=weights_sim_array, bins=Mbins)[0]\n",
    "phi_sim_will = np.histogram(abs_mag_sim_will_kcorrect, weights=weights_sim_will_array, bins=Mbins)[0]\n",
    "\n",
    "bin_widths = Mbins[1:] - Mbins[:-1]\n",
    "phi = phi / bin_widths\n",
    "phi_interp = phi_interp / bin_widths\n",
    "phi_sim = phi_sim / bin_widths\n",
    "phi_sim_will = phi_sim_will / bin_widths\n",
    "Mmid = (Mbins[1:] + Mbins[:-1])/2.\n",
    "\n",
    "# calculate errors COSMOS\n",
    "weff = np.ones_like(phi)\n",
    "Neff = np.ones_like(phi)\n",
    "for lbin in range(len(Mbins)-1):\n",
    "    # Following Weigel+15\n",
    "    mask = np.where((cosmos_abs_mag>=Mbins[lbin])&(cosmos_abs_mag<Mbins[lbin+1]))[0]\n",
    "    weff[lbin] = effective_weight(weights_array[mask])\n",
    "    Neff[lbin] = effective_number(weights_array[mask], weff[lbin])\n",
    "phi_err_up = weff * (Neff + np.sqrt(Neff+0.75) + 1) / bin_widths - phi\n",
    "phi_err_dn = phi - weff * (Neff - np.sqrt(Neff-0.25)) / bin_widths\n",
    "# handle cases where N is zero - upper limit is 0.814 / max(Vmax)\n",
    "phi_err_dn[np.isnan(phi_err_dn)] = 0.\n",
    "phi_err_up[np.isnan(phi_err_up)] = 0.814 * np.min(weights_array[weights_array>0.])\n",
    "\n",
    "# calculate errors COSMOS interp\n",
    "weff = np.ones_like(phi_interp)\n",
    "Neff = np.ones_like(phi_interp)\n",
    "for lbin in range(len(Mbins)-1):\n",
    "    # Following Weigel+15\n",
    "    mask = np.where((cosmos_abs_mag_interp>=Mbins[lbin])&(cosmos_abs_mag_interp<Mbins[lbin+1]))[0]\n",
    "    weff[lbin] = effective_weight(weights_array[mask])\n",
    "    Neff[lbin] = effective_number(weights_array[mask], weff[lbin])\n",
    "phi_err_up_interp = weff * (Neff + np.sqrt(Neff+0.75) + 1) / bin_widths - phi_interp\n",
    "phi_err_dn_interp = phi_interp - weff * (Neff - np.sqrt(Neff-0.25)) / bin_widths\n",
    "# handle cases where N is zero - upper limit is 0.814 / max(Vmax)\n",
    "phi_err_dn_interp[np.isnan(phi_err_dn_interp)] = 0.\n",
    "phi_err_up_interp[np.isnan(phi_err_up_interp)] = 0.814 * np.min(weights_array[weights_array>0.])\n",
    "\n",
    "# calculate errors Sim\n",
    "weff_sim = np.ones_like(phi_sim)\n",
    "Neff_sim = np.ones_like(phi_sim)\n",
    "for lbin in range(len(Mbins)-1):\n",
    "    # Following Weigel+15\n",
    "    mask = np.where((abs_mag_sim_kcorrect>=Mbins[lbin])&(abs_mag_sim_kcorrect<Mbins[lbin+1]))[0]\n",
    "    weff_sim[lbin] = effective_weight(weights_sim_array[mask])\n",
    "    Neff_sim[lbin] = effective_number(weights_sim_array[mask], weff_sim[lbin])\n",
    "phi_err_up_sim = weff_sim * (Neff_sim + np.sqrt(Neff_sim+0.75) + 1) / bin_widths - phi_sim\n",
    "phi_err_dn_sim = phi_sim - weff_sim * (Neff_sim - np.sqrt(Neff_sim-0.25)) / bin_widths\n",
    "# handle cases where N is zero - upper limit is 0.814 / max(Vmax)\n",
    "phi_err_dn_sim[np.isnan(phi_err_dn_sim)] = 0.\n",
    "phi_err_up_sim[np.isnan(phi_err_up_sim)] = 0.814 * np.min(weights_sim_array[weights_sim_array>0.])\n",
    "\n",
    "# calculate errors Sim_Will\n",
    "weff_sim = np.ones_like(phi_sim_will)\n",
    "Neff_sim = np.ones_like(phi_sim_will)\n",
    "for lbin in range(len(Mbins)-1):\n",
    "    # Following Weigel+15\n",
    "    mask = np.where((abs_mag_sim_will_kcorrect>=Mbins[lbin])&(abs_mag_sim_will_kcorrect<Mbins[lbin+1]))[0]\n",
    "    weff_sim[lbin] = effective_weight(weights_sim_will_array[mask])\n",
    "    Neff_sim[lbin] = effective_number(weights_sim_will_array[mask], weff_sim[lbin])\n",
    "phi_err_up_sim_will = weff_sim * (Neff_sim + np.sqrt(Neff_sim+0.75) + 1) / bin_widths - phi_sim_will\n",
    "phi_err_dn_sim_will = phi_sim_will - weff_sim * (Neff_sim - np.sqrt(Neff_sim-0.25)) / bin_widths\n",
    "# handle cases where N is zero - upper limit is 0.814 / max(Vmax)\n",
    "phi_err_dn_sim_will[np.isnan(phi_err_dn_sim_will)] = 0.\n",
    "phi_err_up_sim_will[np.isnan(phi_err_up_sim_will)] = 0.814 * np.min(weights_sim_will_array[weights_sim_will_array>0.])"
   ]
  },
  {
   "cell_type": "code",
   "execution_count": 19,
   "metadata": {},
   "outputs": [
    {
     "name": "stdout",
     "output_type": "stream",
     "text": [
      "For comparison, the plot in redshift range [0,8] using Will's implementationcan be found in /Users/philipp/Documents/PhD/lum_func_measurement/Vmax_Will_z0-8.png\n"
     ]
    },
    {
     "data": {
      "image/png": "[encoded data removed]",
      "text/plain": [
       "<Figure size 648x432 with 1 Axes>"
      ]
     },
     "metadata": {
      "needs_background": "light"
     },
     "output_type": "display_data"
    }
   ],
   "source": [
    "print(\"For comparison, the plot in redshift range [0,8] using Will's implementation\"\n",
    "      \"can be found in /Users/philipp/Documents/PhD/lum_func_measurement/Vmax_Will_z0-8.png\")\n",
    "if np.min(sim['z']) > redshift_range[0]:\n",
    "    z_min = np.min(sim['z'])\n",
    "else:\n",
    "    z_min = redshift_range[0]\n",
    "if np.max(sim['z']) < redshift_range[1]:\n",
    "    z_max = np.max(sim['z'])\n",
    "else:\n",
    "    z_max = redshift_range[1]\n",
    "z = np.linspace(z_min, z_max, 100)\n",
    "z = np.linspace(redshift_range[0], redshift_range[1], 100)\n",
    "sky_area = Quantity(1.27, \"deg2\")\n",
    "phi_model = lum_model(z, Mmid)\n",
    "\n",
    "z_mask = np.logical_and(sim['z'] >= redshift_range[0], sim['z'] < redshift_range[1])\n",
    "dV_dz = (cosmo.differential_comoving_volume(z) * sky_area).to_value('Mpc3')\n",
    "dV = np.trapz(dV_dz, z)\n",
    "dM = (np.max(Mbins)-np.min(Mbins)) / (np.size(Mbins)-1)\n",
    "phi_skypy = np.histogram(sim['M_B'][z_mask], bins=Mbins)[0] / dV / dM\n",
    "\n",
    "z_mask = np.logical_and(cosmos['photoz'] >= redshift_range[0], cosmos['photoz'] < redshift_range[1])\n",
    "dV_dz = (cosmo.differential_comoving_volume(z) * sky_area).to_value('Mpc3')\n",
    "dV = np.trapz(dV_dz, z)\n",
    "dM = (np.max(Mbins)-np.min(Mbins)) / (np.size(Mbins)-1)\n",
    "phi_cosmos = np.histogram(cosmos_abs_mag[z_mask], bins=Mbins)[0] / dV / dM\n",
    "\n",
    "z_mask = np.logical_and(cosmos['photoz'] >= redshift_range[0], cosmos['photoz'] < redshift_range[1])\n",
    "dV_dz = (cosmo.differential_comoving_volume(z) * sky_area).to_value('Mpc3')\n",
    "dV = np.trapz(dV_dz, z)\n",
    "dM = (np.max(Mbins)-np.min(Mbins)) / (np.size(Mbins)-1)\n",
    "phi_cosmos_interp = np.histogram(cosmos_abs_mag_interp[z_mask], bins=Mbins)[0] / dV / dM\n",
    "\n",
    "fig = plt.figure(figsize=(9,6))\n",
    "ax = fig.add_subplot(111)\n",
    "ax.set_xlabel(r\"\\textbf{Absolute Magnitude [mag]}\", fontsize=24)\n",
    "ax.set_ylabel(r'\\textbf{$\\Phi$ [N/Mpc$^3$/mag]}', fontsize=24)\n",
    "#ax.set_xlim([-27,-12.5])\n",
    "#ax.set_ylim([5.e-7,0.15])\n",
    "ax.set_yscale('log')\n",
    "# ax.errorbar(Mmid, phi, yerr=np.array([phi_err_dn,phi_err_up]), alpha=0.6,\n",
    "#             fmt='o', capsize=6, label=\"COSMOS\")\n",
    "ax.errorbar(Mmid, phi_interp, yerr=np.array([phi_err_dn_interp,phi_err_up_interp]), alpha=0.6,\n",
    "            fmt='o', capsize=6, label=\"COSMOS with interp\")\n",
    "ax.errorbar(Mmid, phi_sim, yerr=np.array([phi_err_dn_sim,phi_err_up_sim]), alpha=0.6,\n",
    "            fmt='o', capsize=6, label=\"Simulation\")\n",
    "ax.plot(Mmid, phi_model, label=\"Model\")\n",
    "ax.plot(Mmid, phi_skypy, label=\"SkyPy Sim\")\n",
    "# ax.plot(Mmid, phi_cosmos, label=\"Hist Cosmos\")\n",
    "ax.plot(Mmid, phi_cosmos_interp, label=\"Hist Cosmos with interp\")\n",
    "ax.errorbar(Mmid, phi_sim_will, yerr=np.array([phi_err_dn_sim_will,phi_err_up_sim_will]), alpha=0.6,\n",
    "            fmt='o', capsize=6, label=\"Simulation Will\")\n",
    "ax.set_ylim([5.e-8, 2.e-1])\n",
    "plt.legend()\n",
    "plt.title(f'redshift range: {redshift_range}')\n",
    "plt.show()"
   ]
  },
  {
   "cell_type": "markdown",
   "metadata": {},
   "source": [
    "### Vmax using kcorrection\n",
    "Will's implementation does not include the kcorrection but only the bandpass correction. In this implementation, I include the kcorrection term at the reference redshift (the \"true\" redshift)."
   ]
  },
  {
   "cell_type": "code",
   "execution_count": 20,
   "metadata": {},
   "outputs": [],
   "source": [
    "def Vmax_kcorrect(mag_lim, abs_mag, dm, vol, k_correct, z_ref):\n",
    "    # compute the maximum observable volume an object has within the defined bin\n",
    "    # I have to add 2.5*np.log10(1+z_ref) cause I account for the bandpass correction\n",
    "    # in dm separately\n",
    "    mag = abs_mag + dm + k_correct + 2.5*np.log10(1+z_ref)\n",
    "    max_z_indexes = np.where(mag < mag_lim)[0]\n",
    "    if len(max_z_indexes) == 0:\n",
    "        max_z_indx = -1\n",
    "    else:\n",
    "        max_z_indx = max_z_indexes[-1]\n",
    "    vmax = vol[max_z_indx] - vol[0]\n",
    "    return vmax\n",
    "\n",
    "def get_dm(z, cosmo):\n",
    "    return 5*np.log10(cosmo.luminosity_distance(z).value * 1e5) - 2.5*np.log10(1+z)\n",
    "\n",
    "def get_bin_weights_kcorrect(z, cosmo, area, zbin, abs_mag, maglim, k_correct):\n",
    "    # compute Vmax for each object, based on their mag and survey maglim.\n",
    "    # Objects lying outside the redshift intervals have weight = 0.\n",
    "    # Set-up cosmo arrays\n",
    "    zarr = np.arange(zbin[0], zbin[1]+(zbin[1]-zbin[0])/1000, (zbin[1]-zbin[0])/1000)\n",
    "    # set up an array of dist. moduli - perhaps should have done this earlier in the code.\n",
    "    dm = get_dm(zarr, cosmo)\n",
    "    vol = (area/41252.96) * cosmo.comoving_volume(zarr).value\n",
    "\n",
    "    weights = np.zeros_like(z)\n",
    "    sel = np.where((z>=zbin[0])&(z<zbin[1]))[0]\n",
    "    weights[sel] = np.array([1./Vmax_kcorrect(maglim, abs_mag[sel][j], dm,\n",
    "                                     vol, k_correct[sel][j], z[sel][j]) for j in range(len(sel))])\n",
    "    weights[np.isinf(weights)] = 0.\n",
    "    return weights"
   ]
  },
  {
   "cell_type": "code",
   "execution_count": 21,
   "metadata": {},
   "outputs": [],
   "source": [
    "redshift_range = [0.2, 0.4]"
   ]
  },
  {
   "cell_type": "code",
   "execution_count": 22,
   "metadata": {},
   "outputs": [
    {
     "name": "stderr",
     "output_type": "stream",
     "text": [
      "/Applications/anaconda3/lib/python3.7/site-packages/ipykernel_launcher.py:29: RuntimeWarning: divide by zero encountered in double_scalars\n"
     ]
    }
   ],
   "source": [
    "weights_kcorrection = get_bin_weights_kcorrect(cosmos['photoz'], cosmo, 1.27, \n",
    "                                        redshift_range, cosmos_abs_mag, 24.5, cosmos_k_correct)"
   ]
  },
  {
   "cell_type": "code",
   "execution_count": 23,
   "metadata": {},
   "outputs": [
    {
     "name": "stderr",
     "output_type": "stream",
     "text": [
      "/Applications/anaconda3/lib/python3.7/site-packages/ipykernel_launcher.py:29: RuntimeWarning: divide by zero encountered in double_scalars\n"
     ]
    }
   ],
   "source": [
    "weights_sim_kcorrection = get_bin_weights_kcorrect(sim['z'], cosmo, 1.27, \n",
    "                                 redshift_range, abs_mag_sim_kcorrect, 24.5, sim_k_correct)"
   ]
  },
  {
   "cell_type": "code",
   "execution_count": 24,
   "metadata": {},
   "outputs": [
    {
     "name": "stderr",
     "output_type": "stream",
     "text": [
      "/Applications/anaconda3/lib/python3.7/site-packages/ipykernel_launcher.py:36: RuntimeWarning: invalid value encountered in double_scalars\n"
     ]
    }
   ],
   "source": [
    "# calculate luminosity functions\n",
    "Mbins = np.arange(-27,-12+0.2,0.2)\n",
    "phi = np.histogram(cosmos_abs_mag, weights=weights_kcorrection, bins=Mbins)[0]\n",
    "phi_sim = np.histogram(abs_mag_sim_kcorrect, weights=weights_sim_kcorrection, bins=Mbins)[0]\n",
    "\n",
    "bin_widths = Mbins[1:] - Mbins[:-1]\n",
    "phi = phi / bin_widths\n",
    "phi_sim = phi_sim / bin_widths\n",
    "Mmid = (Mbins[1:] + Mbins[:-1])/2.\n",
    "\n",
    "# calculate errors of COSMOS\n",
    "weff = np.ones_like(phi)\n",
    "Neff = np.ones_like(phi)\n",
    "for lbin in range(len(Mbins)-1):\n",
    "    # Following Weigel+15\n",
    "    mask = np.where((cosmos_abs_mag>=Mbins[lbin])&(cosmos_abs_mag<Mbins[lbin+1]))[0]\n",
    "    weff[lbin] = effective_weight(weights_kcorrection[mask])\n",
    "    Neff[lbin] = effective_number(weights_kcorrection[mask], weff[lbin])\n",
    "phi_err_up = weff * (Neff + np.sqrt(Neff+0.75) + 1) / bin_widths - phi\n",
    "phi_err_dn = phi - weff * (Neff - np.sqrt(Neff-0.25)) / bin_widths\n",
    "# handle cases where N is zero - upper limit is 0.814 / max(Vmax)\n",
    "phi_err_dn[np.isnan(phi_err_dn)] = 0.\n",
    "phi_err_up[np.isnan(phi_err_up)] = 0.814 * np.min(weights_kcorrection[weights_kcorrection>0.])\n",
    "\n",
    "# calculate errors of Sim\n",
    "weff_sim = np.ones_like(phi_sim)\n",
    "Neff_sim = np.ones_like(phi_sim)\n",
    "for lbin in range(len(Mbins)-1):\n",
    "    # Following Weigel+15\n",
    "    mask = np.where((abs_mag_sim_kcorrect>=Mbins[lbin])&(abs_mag_sim_kcorrect<Mbins[lbin+1]))[0]\n",
    "    weff_sim[lbin] = effective_weight(weights_sim_kcorrection[mask])\n",
    "    Neff_sim[lbin] = effective_number(weights_sim_kcorrection[mask], weff_sim[lbin])\n",
    "phi_err_up_sim = weff_sim * (Neff_sim + np.sqrt(Neff_sim+0.75) + 1) / bin_widths - phi_sim\n",
    "phi_err_dn_sim = phi_sim - weff_sim * (Neff_sim - np.sqrt(Neff_sim-0.25)) / bin_widths\n",
    "# handle cases where N is zero - upper limit is 0.814 / max(Vmax)\n",
    "phi_err_dn_sim[np.isnan(phi_err_dn_sim)] = 0.\n",
    "phi_err_up_sim[np.isnan(phi_err_up_sim)] = 0.814 * np.min(weights_sim_kcorrection[weights_sim_kcorrection>0.])"
   ]
  },
  {
   "cell_type": "code",
   "execution_count": 25,
   "metadata": {},
   "outputs": [
    {
     "data": {
      "image/png": "[encoded data removed]",
      "text/plain": [
       "<Figure size 648x432 with 1 Axes>"
      ]
     },
     "metadata": {
      "needs_background": "light"
     },
     "output_type": "display_data"
    }
   ],
   "source": [
    "z = np.linspace(redshift_range[0], redshift_range[1], 100)\n",
    "sky_area = Quantity(1.27, \"deg2\")\n",
    "phi_model = lum_model(z, Mmid)\n",
    "\n",
    "z_mask = np.logical_and(sim['z'] >= redshift_range[0], sim['z'] < redshift_range[1])\n",
    "dV_dz = (cosmo.differential_comoving_volume(z) * sky_area).to_value('Mpc3')\n",
    "dV = np.trapz(dV_dz, z)\n",
    "dM = (np.max(Mbins)-np.min(Mbins)) / (np.size(Mbins)-1)\n",
    "phi_skypy = np.histogram(sim['M_B'][z_mask], bins=Mbins)[0] / dV / dM\n",
    "\n",
    "fig = plt.figure(figsize=(9,6))\n",
    "ax = fig.add_subplot(111)\n",
    "ax.set_xlabel(r\"\\textbf{Absolute Magnitude [mag]}\", fontsize=24)\n",
    "ax.set_ylabel(r'\\textbf{$\\Phi$ [N/Mpc$^3$/mag]}', fontsize=24)\n",
    "#ax.set_xlim([-27,-12.5])\n",
    "#ax.set_ylim([5.e-7,0.15])\n",
    "ax.set_yscale('log')\n",
    "ax.errorbar(Mmid, phi, yerr=np.array([phi_err_dn,phi_err_up]), alpha=0.6,\n",
    "            fmt='o', capsize=6, label=\"COSMOS\")\n",
    "ax.errorbar(Mmid, phi_sim, yerr=np.array([phi_err_dn_sim,phi_err_up_sim]), alpha=0.6,\n",
    "            fmt='o', capsize=6, label=\"Simulation\")\n",
    "ax.plot(Mmid, phi_model, label=\"Model\")\n",
    "ax.plot(Mmid, phi_skypy, label=\"SkyPy Sim\")\n",
    "ax.set_ylim([5.e-8, 2.e-1])\n",
    "plt.legend()\n",
    "plt.title(f'redshift range: {redshift_range}')\n",
    "plt.show()"
   ]
  },
  {
   "cell_type": "markdown",
   "metadata": {},
   "source": [
    "### K-correction implementation for array\n",
    "\n",
    "This implementation improves the k-correction implementation by allowing the inputs to be arrays"
   ]
  },
  {
   "cell_type": "code",
   "execution_count": 26,
   "metadata": {},
   "outputs": [
    {
     "name": "stdout",
     "output_type": "stream",
     "text": [
      "Test\n",
      "[3.02047748e-08 1.23886810e-05 9.30319853e-07]\n"
     ]
    },
    {
     "name": "stderr",
     "output_type": "stream",
     "text": [
      "/Applications/anaconda3/lib/python3.7/site-packages/ipykernel_launcher.py:10: RuntimeWarning: divide by zero encountered in log10\n",
      "  # Remove the CWD from sys.path while we load stuff.\n"
     ]
    }
   ],
   "source": [
    "def Vmax_kcorrect_array(mag_lim, abs_mag, dm, vol, k_correct, z_ref):\n",
    "    # compute the maximum observable volume an object has within the defined bin\n",
    "    mag = abs_mag[:,np.newaxis] + dm + k_correct[:,np.newaxis] + 2.5*np.log10(1+z_ref[:,np.newaxis])\n",
    "    col_indices = mag.shape[-1] - np.argmax(mag[..., ::-1] < mag_lim, axis=-1) - 1\n",
    "    row_indices = np.linspace(0, len(abs_mag)-1, len(abs_mag))\n",
    "    vmax = vol[col_indices] - vol[0]\n",
    "    return vmax\n",
    "\n",
    "def get_dm(z, cosmo):\n",
    "    return 5*np.log10(cosmo.luminosity_distance(z).value * 1e5) - 2.5*np.log10(1+z)\n",
    "\n",
    "def get_bin_weights_kcorrect_array(z, cosmo, area, zbin, abs_mag, maglim, k_correct):\n",
    "    # compute Vmax for each object, based on their mag and survey maglim.\n",
    "    # Objects lying outside the redshift intervals have weight = 0.\n",
    "    # Set-up cosmo arrays\n",
    "    zarr = np.arange(zbin[0], zbin[1]+(zbin[1]-zbin[0])/1000, (zbin[1]-zbin[0])/1000)\n",
    "    # set up an array of dist. moduli - perhaps should have done this earlier in the code.\n",
    "    dm = get_dm(zarr, cosmo)\n",
    "    vol = (area/41252.96) * cosmo.comoving_volume(zarr).value\n",
    "\n",
    "    weights = np.zeros_like(z)\n",
    "    sel = np.where((z>=zbin[0])&(z<zbin[1]))[0]\n",
    "    weights[sel] = 1./Vmax_kcorrect_array(maglim, abs_mag[sel], dm, vol, k_correct[sel], z[sel])\n",
    "    weights[np.isinf(weights)] = 0.\n",
    "    return weights\n",
    "\n",
    "# test\n",
    "print(\"Test\")\n",
    "z = np.array([0.5, 1, 2])\n",
    "abs_mag = np.array([-22, -15, -18])\n",
    "k_correct = np.array([-0.42, -1.15, -0.7])\n",
    "\n",
    "test_weights = get_bin_weights_kcorrect_array(z, cosmo, 1.27, [0, 3], abs_mag, 24.5, k_correct)\n",
    "print(test_weights)"
   ]
  },
  {
   "cell_type": "code",
   "execution_count": 27,
   "metadata": {},
   "outputs": [],
   "source": [
    "redshift_range = [0.01, 3]"
   ]
  },
  {
   "cell_type": "code",
   "execution_count": 28,
   "metadata": {},
   "outputs": [
    {
     "name": "stderr",
     "output_type": "stream",
     "text": [
      "/Applications/anaconda3/lib/python3.7/site-packages/ipykernel_launcher.py:23: RuntimeWarning: divide by zero encountered in true_divide\n"
     ]
    }
   ],
   "source": [
    "weights_kcorrect_array = get_bin_weights_kcorrect_array(cosmos['photoz'], cosmo, 1.27, \n",
    "                                              redshift_range, cosmos_abs_mag, 24.5, cosmos_k_correct)"
   ]
  },
  {
   "cell_type": "code",
   "execution_count": 29,
   "metadata": {},
   "outputs": [
    {
     "name": "stderr",
     "output_type": "stream",
     "text": [
      "/Applications/anaconda3/lib/python3.7/site-packages/ipykernel_launcher.py:23: RuntimeWarning: divide by zero encountered in true_divide\n"
     ]
    }
   ],
   "source": [
    "weights_sim_kcorrect_array = get_bin_weights_kcorrect_array(sim['z'], cosmo, 1.27, \n",
    "                                                  redshift_range, abs_mag_sim_kcorrect, 24.5, sim_k_correct)"
   ]
  },
  {
   "cell_type": "code",
   "execution_count": 30,
   "metadata": {},
   "outputs": [
    {
     "name": "stderr",
     "output_type": "stream",
     "text": [
      "/Applications/anaconda3/lib/python3.7/site-packages/ipykernel_launcher.py:36: RuntimeWarning: invalid value encountered in double_scalars\n"
     ]
    }
   ],
   "source": [
    "# calculate luminosity fucntion\n",
    "Mbins = np.arange(-27,-12+0.2,0.2)\n",
    "phi = np.histogram(cosmos_abs_mag, weights=weights_kcorrect_array, bins=Mbins)[0]\n",
    "phi_sim = np.histogram(abs_mag_sim_kcorrect, weights=weights_sim_kcorrect_array, bins=Mbins)[0]\n",
    "\n",
    "bin_widths = Mbins[1:] - Mbins[:-1]\n",
    "phi = phi / bin_widths\n",
    "phi_sim = phi_sim / bin_widths\n",
    "Mmid = (Mbins[1:] + Mbins[:-1])/2.\n",
    "\n",
    "# calculate errors COSMOS\n",
    "weff = np.ones_like(phi)\n",
    "Neff = np.ones_like(phi)\n",
    "for lbin in range(len(Mbins)-1):\n",
    "    # Following Weigel+15\n",
    "    mask = np.where((cosmos_abs_mag>=Mbins[lbin])&(cosmos_abs_mag<Mbins[lbin+1]))[0]\n",
    "    weff[lbin] = effective_weight(weights_kcorrect_array[mask])\n",
    "    Neff[lbin] = effective_number(weights_kcorrect_array[mask], weff[lbin])\n",
    "phi_err_up = weff * (Neff + np.sqrt(Neff+0.75) + 1) / bin_widths - phi\n",
    "phi_err_dn = phi - weff * (Neff - np.sqrt(Neff-0.25)) / bin_widths\n",
    "# handle cases where N is zero - upper limit is 0.814 / max(Vmax)\n",
    "phi_err_dn[np.isnan(phi_err_dn)] = 0.\n",
    "phi_err_up[np.isnan(phi_err_up)] = 0.814 * np.min(weights_kcorrect_array[weights_kcorrect_array>0.])\n",
    "\n",
    "# calculate errors Sim\n",
    "weff_sim = np.ones_like(phi_sim)\n",
    "Neff_sim = np.ones_like(phi_sim)\n",
    "for lbin in range(len(Mbins)-1):\n",
    "    # Following Weigel+15\n",
    "    mask = np.where((abs_mag_sim_kcorrect>=Mbins[lbin])&(abs_mag_sim_kcorrect<Mbins[lbin+1]))[0]\n",
    "    weff_sim[lbin] = effective_weight(weights_sim_kcorrect_array[mask])\n",
    "    Neff_sim[lbin] = effective_number(weights_sim_kcorrect_array[mask], weff_sim[lbin])\n",
    "phi_err_up_sim = weff_sim * (Neff_sim + np.sqrt(Neff_sim+0.75) + 1) / bin_widths - phi_sim\n",
    "phi_err_dn_sim = phi_sim - weff_sim * (Neff_sim - np.sqrt(Neff_sim-0.25)) / bin_widths\n",
    "# handle cases where N is zero - upper limit is 0.814 / max(Vmax)\n",
    "phi_err_dn_sim[np.isnan(phi_err_dn_sim)] = 0.\n",
    "phi_err_up_sim[np.isnan(phi_err_up_sim)] = 0.814 * np.min(weights_sim_kcorrect_array[weights_sim_kcorrect_array>0.])"
   ]
  },
  {
   "cell_type": "code",
   "execution_count": 31,
   "metadata": {},
   "outputs": [
    {
     "name": "stdout",
     "output_type": "stream",
     "text": [
      "For comparison, the plot in redshift range [0,8] using the simplified implementationcan be found in /Users/philipp/Documents/PhD/lum_func_measurement/Vmax_kcorrect_z0-8.png\n"
     ]
    },
    {
     "data": {
      "image/png": "[encoded data removed]",
      "text/plain": [
       "<Figure size 648x432 with 1 Axes>"
      ]
     },
     "metadata": {
      "needs_background": "light"
     },
     "output_type": "display_data"
    }
   ],
   "source": [
    "print(\"For comparison, the plot in redshift range [0,8] using the simplified implementation\"\n",
    "      \"can be found in /Users/philipp/Documents/PhD/lum_func_measurement/Vmax_kcorrect_z0-8.png\")\n",
    "z = np.linspace(redshift_range[0], redshift_range[1], 100)\n",
    "sky_area = Quantity(1.27, \"deg2\")\n",
    "phi_model = lum_model(z, Mmid)\n",
    "\n",
    "z_mask = np.logical_and(sim['z'] >= redshift_range[0], sim['z'] < redshift_range[1])\n",
    "dV_dz = (cosmo.differential_comoving_volume(z) * sky_area).to_value('Mpc3')\n",
    "dV = np.trapz(dV_dz, z)\n",
    "dM = (np.max(Mbins)-np.min(Mbins)) / (np.size(Mbins)-1)\n",
    "phi_skypy = np.histogram(sim['M_B'][z_mask], bins=Mbins)[0] / dV / dM\n",
    "\n",
    "fig = plt.figure(figsize=(9,6))\n",
    "ax = fig.add_subplot(111)\n",
    "ax.set_xlabel(r\"\\textbf{Absolute Magnitude [mag]}\", fontsize=24)\n",
    "ax.set_ylabel(r'\\textbf{$\\Phi$ [N/Mpc$^3$/mag]}', fontsize=24)\n",
    "#ax.set_xlim([-27,-12.5])\n",
    "#ax.set_ylim([5.e-7,0.15])\n",
    "ax.set_yscale('log')\n",
    "ax.errorbar(Mmid, phi, yerr=np.array([phi_err_dn,phi_err_up]), alpha=0.6,\n",
    "            fmt='o', capsize=6, label=\"COSMOS\")\n",
    "ax.errorbar(Mmid, phi_sim, yerr=np.array([phi_err_dn_sim,phi_err_up_sim]), alpha=0.6,\n",
    "            fmt='o', capsize=6, label=\"Simulation\")\n",
    "ax.plot(Mmid, phi_model, label=\"Model\")\n",
    "ax.plot(Mmid, phi_skypy, label=\"SkyPy Sim\")\n",
    "ax.set_ylim([5.e-8, 5])\n",
    "plt.legend()\n",
    "plt.title(f'redshift range: {redshift_range}')\n",
    "plt.show()"
   ]
  },
  {
   "cell_type": "markdown",
   "metadata": {},
   "source": [
    "### Comparing Will's implementation and the broadcasted one"
   ]
  },
  {
   "cell_type": "code",
   "execution_count": 32,
   "metadata": {},
   "outputs": [],
   "source": [
    "redshift_range = [0.2, 0.4]"
   ]
  },
  {
   "cell_type": "code",
   "execution_count": 33,
   "metadata": {},
   "outputs": [],
   "source": [
    "weights = get_bin_weights(cosmos['photoz'], cosmo, 1.27, redshift_range, cosmos['UVISTA_Ks_MAG_APER3'], 24.5)\n",
    "weights_sim = get_bin_weights(sim['z'], cosmo, 1.27, redshift_range, sim['m_vista_true'][:,3]+sim['m_vista_sim'][:,3], 24.5)\n",
    "weights_array = get_bin_weights_array(cosmos['photoz'], cosmo, 1.27, \n",
    "                                      redshift_range, cosmos['UVISTA_Ks_MAG_APER3'], 24.5)\n",
    "weights_sim_array = get_bin_weights_array(sim['z'], cosmo, 1.27, \n",
    "                                          redshift_range, sim['m_vista_true'][:,3]+sim['m_vista_sim'][:,3], 24.5)"
   ]
  },
  {
   "cell_type": "code",
   "execution_count": 34,
   "metadata": {},
   "outputs": [
    {
     "name": "stderr",
     "output_type": "stream",
     "text": [
      "/Applications/anaconda3/lib/python3.7/site-packages/ipykernel_launcher.py:36: RuntimeWarning: invalid value encountered in double_scalars\n"
     ]
    }
   ],
   "source": [
    "# calculate the luminosity functions\n",
    "Mbins = np.arange(-27,-12+0.2,0.2)\n",
    "phi = np.histogram(cosmos_abs_mag, weights=weights, bins=Mbins)[0]\n",
    "phi_sim = np.histogram(abs_mag_sim_kcorrect, weights=weights_sim, bins=Mbins)[0]\n",
    "\n",
    "bin_widths = Mbins[1:] - Mbins[:-1]\n",
    "phi = phi / bin_widths\n",
    "phi_sim = phi_sim / bin_widths\n",
    "Mmid = (Mbins[1:] + Mbins[:-1])/2.\n",
    "\n",
    "# calculate errors for COSMOS\n",
    "weff = np.ones_like(phi)\n",
    "Neff = np.ones_like(phi)\n",
    "for lbin in range(len(Mbins)-1):\n",
    "    # Following Weigel+15\n",
    "    mask = np.where((cosmos_abs_mag>=Mbins[lbin])&(cosmos_abs_mag<Mbins[lbin+1]))[0]\n",
    "    weff[lbin] = effective_weight(weights[mask])\n",
    "    Neff[lbin] = effective_number(weights[mask], weff[lbin])\n",
    "phi_err_up = weff * (Neff + np.sqrt(Neff+0.75) + 1) / bin_widths - phi\n",
    "phi_err_dn = phi - weff * (Neff - np.sqrt(Neff-0.25)) / bin_widths\n",
    "# handle cases where N is zero - upper limit is 0.814 / max(Vmax)\n",
    "phi_err_dn[np.isnan(phi_err_dn)] = 0.\n",
    "phi_err_up[np.isnan(phi_err_up)] = 0.814 * np.min(weights[weights>0.])\n",
    "\n",
    "# calculate errors for Sim\n",
    "# weff_sim = np.ones_like(phi_sim)\n",
    "# Neff_sim = np.ones_like(phi_sim)\n",
    "# for lbin in range(len(Mbins)-1):\n",
    "#     # Following Weigel+15\n",
    "#     mask = np.where((abs_mag_sim_kcorrect>=Mbins[lbin])&(abs_mag_sim_kcorrect<Mbins[lbin+1]))[0]\n",
    "#     weff_sim[lbin] = effective_weight(weights_sim[mask])\n",
    "#     Neff_sim[lbin] = effective_number(weights_sim[mask], weff_sim[lbin])\n",
    "# phi_err_up_sim = weff_sim * (Neff_sim + np.sqrt(Neff_sim+0.75) + 1) / bin_widths - phi_sim\n",
    "# phi_err_dn_sim = phi_sim - weff_sim * (Neff_sim - np.sqrt(Neff_sim-0.25)) / bin_widths\n",
    "# # handle cases where N is zero - upper limit is 0.814 / max(Vmax)\n",
    "# phi_err_dn_sim[np.isnan(phi_err_dn_sim)] = 0.\n",
    "# phi_err_up_sim[np.isnan(phi_err_up_sim)] = 0.814 * np.min(weights_sim[weights_sim>0.])"
   ]
  },
  {
   "cell_type": "code",
   "execution_count": 35,
   "metadata": {},
   "outputs": [
    {
     "name": "stderr",
     "output_type": "stream",
     "text": [
      "/Applications/anaconda3/lib/python3.7/site-packages/ipykernel_launcher.py:36: RuntimeWarning: invalid value encountered in double_scalars\n"
     ]
    }
   ],
   "source": [
    "# calculate luminosity functions\n",
    "Mbins = np.arange(-27,-12+0.2,0.2)\n",
    "phi_array = np.histogram(cosmos_abs_mag, weights=weights_array, bins=Mbins)[0]\n",
    "phi_sim_array = np.histogram(abs_mag_sim_kcorrect, weights=weights_sim_array, bins=Mbins)[0]\n",
    "\n",
    "bin_widths = Mbins[1:] - Mbins[:-1]\n",
    "phi_array = phi_array / bin_widths\n",
    "phi_sim_array = phi_sim_array / bin_widths\n",
    "Mmid = (Mbins[1:] + Mbins[:-1])/2.\n",
    "\n",
    "# calculate errors COSMOS\n",
    "weff_array = np.ones_like(phi_array)\n",
    "Neff_array = np.ones_like(phi_array)\n",
    "for lbin in range(len(Mbins)-1):\n",
    "    # Following Weigel+15\n",
    "    mask = np.where((cosmos_abs_mag>=Mbins[lbin])&(cosmos_abs_mag<Mbins[lbin+1]))[0]\n",
    "    weff_array[lbin] = effective_weight(weights_array[mask])\n",
    "    Neff_array[lbin] = effective_number(weights_array[mask], weff[lbin])\n",
    "phi_err_up_array = weff_array * (Neff_array + np.sqrt(Neff_array+0.75) + 1) / bin_widths - phi_array\n",
    "phi_err_dn_array = phi_array - weff_array * (Neff_array - np.sqrt(Neff_array-0.25)) / bin_widths\n",
    "# handle cases where N is zero - upper limit is 0.814 / max(Vmax)\n",
    "phi_err_dn_array[np.isnan(phi_err_dn_array)] = 0.\n",
    "phi_err_up_array[np.isnan(phi_err_up_array)] = 0.814 * np.min(weights_array[weights_array>0.])\n",
    "\n",
    "# calculate errors Sim\n",
    "# weff_sim_array = np.ones_like(phi_sim_array)\n",
    "# Neff_sim_array = np.ones_like(phi_sim_array)\n",
    "# for lbin in range(len(Mbins)-1):\n",
    "#     # Following Weigel+15\n",
    "#     mask = np.where((abs_mag_sim_kcorrect>=Mbins[lbin])&(abs_mag_sim_kcorrect<Mbins[lbin+1]))[0]\n",
    "#     weff_sim_array[lbin] = effective_weight(weights_sim_array[mask])\n",
    "#     Neff_sim_array[lbin] = effective_number(weights_sim_array[mask], weff_sim[lbin])\n",
    "# phi_err_up_sim_array = weff_sim_array * (Neff_sim_array + np.sqrt(Neff_sim_array+0.75) + 1) / bin_widths - phi_sim_array\n",
    "# phi_err_dn_sim_array = phi_sim_array - weff_sim_array * (Neff_sim_array - np.sqrt(Neff_sim_array-0.25)) / bin_widths\n",
    "# # handle cases where N is zero - upper limit is 0.814 / max(Vmax)\n",
    "# phi_err_dn_sim_array[np.isnan(phi_err_dn_sim_array)] = 0.\n",
    "# phi_err_up_sim_array[np.isnan(phi_err_up_sim_array)] = 0.814 * np.min(weights_sim_array[weights_sim_array>0.])"
   ]
  },
  {
   "cell_type": "code",
   "execution_count": 36,
   "metadata": {},
   "outputs": [
    {
     "data": {
      "image/png": "[encoded data removed]",
      "text/plain": [
       "<Figure size 648x432 with 1 Axes>"
      ]
     },
     "metadata": {
      "needs_background": "light"
     },
     "output_type": "display_data"
    }
   ],
   "source": [
    "fig = plt.figure(figsize=(9,6))\n",
    "ax = fig.add_subplot(111)\n",
    "ax.set_xlabel(r\"\\textbf{Absolute Magnitude [mag]}\", fontsize=24)\n",
    "ax.set_ylabel(r'\\textbf{$\\Phi$ [N/Mpc$^3$/mag]}', fontsize=24)\n",
    "#ax.set_xlim([-27,-12.5])\n",
    "#ax.set_ylim([5.e-7,0.15])\n",
    "ax.set_yscale('log')\n",
    "ax.errorbar(Mmid, phi, yerr=np.array([phi_err_dn,phi_err_up]), alpha=0.6,\n",
    "            fmt='o', capsize=6, label=\"COSMOS\")\n",
    "# ax.errorbar(Mmid, phi_sim, yerr=np.array([phi_err_dn_sim,phi_err_up_sim]), alpha=0.6,\n",
    "#             fmt='o', capsize=6, label=\"Simulation\")\n",
    "ax.errorbar(Mmid, phi_array, yerr=np.array([phi_err_dn_array,phi_err_up_array]), alpha=0.6,\n",
    "            fmt='o', capsize=6, label=\"COSMOS Array\")\n",
    "# ax.errorbar(Mmid, phi_sim_array, yerr=np.array([phi_err_dn_sim_array,phi_err_up_sim_array]), alpha=0.6,\n",
    "#             fmt='o', capsize=6, label=\"Simulation Array\")\n",
    "plt.legend()\n",
    "plt.title(f\"redshift range: {redshift_range}\")\n",
    "plt.show()"
   ]
  },
  {
   "cell_type": "markdown",
   "metadata": {},
   "source": [
    "### Comparing the two k-correct implementations"
   ]
  },
  {
   "cell_type": "code",
   "execution_count": 37,
   "metadata": {},
   "outputs": [],
   "source": [
    "redshift_range = [0.2, 0.4]"
   ]
  },
  {
   "cell_type": "code",
   "execution_count": 38,
   "metadata": {},
   "outputs": [
    {
     "name": "stderr",
     "output_type": "stream",
     "text": [
      "/Applications/anaconda3/lib/python3.7/site-packages/ipykernel_launcher.py:29: RuntimeWarning: divide by zero encountered in double_scalars\n",
      "/Applications/anaconda3/lib/python3.7/site-packages/ipykernel_launcher.py:23: RuntimeWarning: divide by zero encountered in true_divide\n"
     ]
    }
   ],
   "source": [
    "weights = get_bin_weights_kcorrect(cosmos['photoz'], cosmo, 1.27, \n",
    "                                        redshift_range, cosmos_abs_mag, 24.5, cosmos_k_correct)\n",
    "weights_sim = get_bin_weights_kcorrect(sim['z'], cosmo, 1.27, \n",
    "                                 redshift_range, abs_mag_sim_kcorrect, 24.5, sim_k_correct)\n",
    "weights_array = get_bin_weights_kcorrect_array(cosmos['photoz'], cosmo, 1.27, \n",
    "                                              redshift_range, cosmos_abs_mag, 24.5, cosmos_k_correct)\n",
    "weights_sim_array = get_bin_weights_kcorrect_array(sim['z'], cosmo, 1.27, \n",
    "                                                  redshift_range, abs_mag_sim_kcorrect, 24.5, sim_k_correct)"
   ]
  },
  {
   "cell_type": "code",
   "execution_count": 39,
   "metadata": {},
   "outputs": [
    {
     "name": "stderr",
     "output_type": "stream",
     "text": [
      "/Applications/anaconda3/lib/python3.7/site-packages/ipykernel_launcher.py:36: RuntimeWarning: invalid value encountered in double_scalars\n"
     ]
    }
   ],
   "source": [
    "# calculate the luminosity functions\n",
    "Mbins = np.arange(-27,-12+0.2,0.2)\n",
    "phi = np.histogram(cosmos_abs_mag, weights=weights, bins=Mbins)[0]\n",
    "phi_sim = np.histogram(abs_mag_sim_kcorrect, weights=weights_sim, bins=Mbins)[0]\n",
    "\n",
    "bin_widths = Mbins[1:] - Mbins[:-1]\n",
    "phi = phi / bin_widths\n",
    "phi_sim = phi_sim / bin_widths\n",
    "Mmid = (Mbins[1:] + Mbins[:-1])/2.\n",
    "\n",
    "# calculate errors for COSMOS\n",
    "weff = np.ones_like(phi)\n",
    "Neff = np.ones_like(phi)\n",
    "for lbin in range(len(Mbins)-1):\n",
    "    # Following Weigel+15\n",
    "    mask = np.where((cosmos_abs_mag>=Mbins[lbin])&(cosmos_abs_mag<Mbins[lbin+1]))[0]\n",
    "    weff[lbin] = effective_weight(weights[mask])\n",
    "    Neff[lbin] = effective_number(weights[mask], weff[lbin])\n",
    "phi_err_up = weff * (Neff + np.sqrt(Neff+0.75) + 1) / bin_widths - phi\n",
    "phi_err_dn = phi - weff * (Neff - np.sqrt(Neff-0.25)) / bin_widths\n",
    "# handle cases where N is zero - upper limit is 0.814 / max(Vmax)\n",
    "phi_err_dn[np.isnan(phi_err_dn)] = 0.\n",
    "phi_err_up[np.isnan(phi_err_up)] = 0.814 * np.min(weights[weights>0.])\n",
    "\n",
    "# calculate errors for Sim\n",
    "weff_sim = np.ones_like(phi_sim)\n",
    "Neff_sim = np.ones_like(phi_sim)\n",
    "for lbin in range(len(Mbins)-1):\n",
    "    # Following Weigel+15\n",
    "    mask = np.where((abs_mag_sim_kcorrect>=Mbins[lbin])&(abs_mag_sim_kcorrect<Mbins[lbin+1]))[0]\n",
    "    weff_sim[lbin] = effective_weight(weights_sim[mask])\n",
    "    Neff_sim[lbin] = effective_number(weights_sim[mask], weff_sim[lbin])\n",
    "phi_err_up_sim = weff_sim * (Neff_sim + np.sqrt(Neff_sim+0.75) + 1) / bin_widths - phi_sim\n",
    "phi_err_dn_sim = phi_sim - weff_sim * (Neff_sim - np.sqrt(Neff_sim-0.25)) / bin_widths\n",
    "# handle cases where N is zero - upper limit is 0.814 / max(Vmax)\n",
    "phi_err_dn_sim[np.isnan(phi_err_dn_sim)] = 0.\n",
    "phi_err_up_sim[np.isnan(phi_err_up_sim)] = 0.814 * np.min(weights_sim[weights_sim>0.])"
   ]
  },
  {
   "cell_type": "code",
   "execution_count": 40,
   "metadata": {},
   "outputs": [
    {
     "name": "stderr",
     "output_type": "stream",
     "text": [
      "/Applications/anaconda3/lib/python3.7/site-packages/ipykernel_launcher.py:36: RuntimeWarning: invalid value encountered in double_scalars\n"
     ]
    }
   ],
   "source": [
    "# calculate luminosity functions\n",
    "Mbins = np.arange(-27,-12+0.2,0.2)\n",
    "phi_array = np.histogram(cosmos_abs_mag, weights=weights_array, bins=Mbins)[0]\n",
    "phi_sim_array = np.histogram(abs_mag_sim_kcorrect, weights=weights_sim_array, bins=Mbins)[0]\n",
    "\n",
    "bin_widths = Mbins[1:] - Mbins[:-1]\n",
    "phi_array = phi_array / bin_widths\n",
    "phi_sim_array = phi_sim_array / bin_widths\n",
    "Mmid = (Mbins[1:] + Mbins[:-1])/2.\n",
    "\n",
    "# calculate errors COSMOS\n",
    "weff_array = np.ones_like(phi_array)\n",
    "Neff_array = np.ones_like(phi_array)\n",
    "for lbin in range(len(Mbins)-1):\n",
    "    # Following Weigel+15\n",
    "    mask = np.where((cosmos_abs_mag>=Mbins[lbin])&(cosmos_abs_mag<Mbins[lbin+1]))[0]\n",
    "    weff_array[lbin] = effective_weight(weights_array[mask])\n",
    "    Neff_array[lbin] = effective_number(weights_array[mask], weff[lbin])\n",
    "phi_err_up_array = weff_array * (Neff_array + np.sqrt(Neff_array+0.75) + 1) / bin_widths - phi_array\n",
    "phi_err_dn_array = phi_array - weff_array * (Neff_array - np.sqrt(Neff_array-0.25)) / bin_widths\n",
    "# handle cases where N is zero - upper limit is 0.814 / max(Vmax)\n",
    "phi_err_dn_array[np.isnan(phi_err_dn_array)] = 0.\n",
    "phi_err_up_array[np.isnan(phi_err_up_array)] = 0.814 * np.min(weights_array[weights_array>0.])\n",
    "\n",
    "# calculate errors Sim\n",
    "weff_sim_array = np.ones_like(phi_sim_array)\n",
    "Neff_sim_array = np.ones_like(phi_sim_array)\n",
    "for lbin in range(len(Mbins)-1):\n",
    "    # Following Weigel+15\n",
    "    mask = np.where((abs_mag_sim_kcorrect>=Mbins[lbin])&(abs_mag_sim_kcorrect<Mbins[lbin+1]))[0]\n",
    "    weff_sim_array[lbin] = effective_weight(weights_sim_array[mask])\n",
    "    Neff_sim_array[lbin] = effective_number(weights_sim_array[mask], weff_sim[lbin])\n",
    "phi_err_up_sim_array = weff_sim_array * (Neff_sim_array + np.sqrt(Neff_sim_array+0.75) + 1) / bin_widths - phi_sim_array\n",
    "phi_err_dn_sim_array = phi_sim_array - weff_sim_array * (Neff_sim_array - np.sqrt(Neff_sim_array-0.25)) / bin_widths\n",
    "# handle cases where N is zero - upper limit is 0.814 / max(Vmax)\n",
    "phi_err_dn_sim_array[np.isnan(phi_err_dn_sim_array)] = 0.\n",
    "phi_err_up_sim_array[np.isnan(phi_err_up_sim_array)] = 0.814 * np.min(weights_sim_array[weights_sim_array>0.])"
   ]
  },
  {
   "cell_type": "code",
   "execution_count": 41,
   "metadata": {},
   "outputs": [
    {
     "data": {
      "image/png": "[encoded data removed]",
      "text/plain": [
       "<Figure size 648x432 with 1 Axes>"
      ]
     },
     "metadata": {
      "needs_background": "light"
     },
     "output_type": "display_data"
    }
   ],
   "source": [
    "fig = plt.figure(figsize=(9,6))\n",
    "ax = fig.add_subplot(111)\n",
    "ax.set_xlabel(r\"\\textbf{Absolute Magnitude [mag]}\", fontsize=24)\n",
    "ax.set_ylabel(r'\\textbf{$\\Phi$ [N/Mpc$^3$/mag]}', fontsize=24)\n",
    "#ax.set_xlim([-27,-12.5])\n",
    "#ax.set_ylim([5.e-7,0.15])\n",
    "ax.set_yscale('log')\n",
    "ax.errorbar(Mmid, phi, yerr=np.array([phi_err_dn,phi_err_up]), alpha=0.6,\n",
    "            fmt='o', capsize=6, label=\"COSMOS\")\n",
    "ax.errorbar(Mmid, phi_sim, yerr=np.array([phi_err_dn_sim,phi_err_up_sim]), alpha=0.6,\n",
    "            fmt='o', capsize=6, label=\"Simulation\")\n",
    "ax.errorbar(Mmid, phi_array, yerr=np.array([phi_err_dn_array,phi_err_up_array]), alpha=0.6,\n",
    "            fmt='o', capsize=6, label=\"COSMOS Array\")\n",
    "ax.errorbar(Mmid, phi_sim_array, yerr=np.array([phi_err_dn_sim_array,phi_err_up_sim_array]), alpha=0.6,\n",
    "            fmt='o', capsize=6, label=\"Simulation Array\")\n",
    "plt.legend()\n",
    "plt.title(f\"redshift range: {redshift_range}\")\n",
    "plt.show()"
   ]
  },
  {
   "cell_type": "markdown",
   "metadata": {},
   "source": [
    "### Test code for developing implementations"
   ]
  },
  {
   "cell_type": "code",
   "execution_count": 42,
   "metadata": {},
   "outputs": [
    {
     "name": "stdout",
     "output_type": "stream",
     "text": [
      "0\n",
      "0\n"
     ]
    }
   ],
   "source": [
    "a = np.array([True, True, True, False])\n",
    "b = np.array([False, False, False, False])\n",
    "\n",
    "print(np.argmax(a))\n",
    "print(np.argmax(b))"
   ]
  },
  {
   "cell_type": "code",
   "execution_count": 43,
   "metadata": {},
   "outputs": [
    {
     "name": "stdout",
     "output_type": "stream",
     "text": [
      "[[ 6  4  3]\n",
      " [ 8  6  4]\n",
      " [10  8  6]]\n",
      "[[ True  True  True]\n",
      " [False  True  True]\n",
      " [False False  True]]\n",
      "[2 1 0]\n"
     ]
    }
   ],
   "source": [
    "a = np.array([[3, 4, 6],\n",
    "              [4, 6, 8],\n",
    "              [6, 8, 10]])\n",
    "condition = 8\n",
    "print(a[..., ::-1])\n",
    "print(a[..., ::-1] < condition)\n",
    "print(a.shape[-1] - np.argmax(a[..., ::-1] < condition, axis=-1) - 1)"
   ]
  },
  {
   "cell_type": "code",
   "execution_count": null,
   "metadata": {},
   "outputs": [],
   "source": []
  }
 ],
 "metadata": {
  "kernelspec": {
   "display_name": "Python 3",
   "language": "python",
   "name": "python3"
  },
  "language_info": {
   "codemirror_mode": {
    "name": "ipython",
    "version": 3
   },
   "file_extension": ".py",
   "mimetype": "text/x-python",
   "name": "python",
   "nbconvert_exporter": "python",
   "pygments_lexer": "ipython3",
   "version": "3.7.3"
  }
 },
 "nbformat": 4,
 "nbformat_minor": 2
}
